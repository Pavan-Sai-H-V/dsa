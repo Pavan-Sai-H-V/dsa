{
 "cells": [
  {
   "cell_type": "code",
   "execution_count": 43,
   "id": "fbf5e9fb",
   "metadata": {},
   "outputs": [],
   "source": [
    "class SingleNode:\n",
    "    def __init__(self,val,next=None):\n",
    "        self.next=next\n",
    "        self.val=val\n",
    "\n",
    "    def __str__(self):\n",
    "        return str(self.val)\n",
    "\n",
    "\n",
    "\n"
   ]
  },
  {
   "cell_type": "code",
   "execution_count": 11,
   "id": "e5145956",
   "metadata": {},
   "outputs": [
    {
     "name": "stdout",
     "output_type": "stream",
     "text": [
      "1\n"
     ]
    }
   ],
   "source": [
    "Head=SingleNode(1)\n",
    "a=SingleNode(2)\n",
    "b=SingleNode(3)\n",
    "c=SingleNode(4)\n",
    "\n",
    "\n",
    "Head.next=a\n",
    "a.next=b\n",
    "b.next=c\n",
    "\n",
    "print(Head)"
   ]
  },
  {
   "cell_type": "code",
   "execution_count": 14,
   "id": "6bfe4d19",
   "metadata": {},
   "outputs": [
    {
     "name": "stdout",
     "output_type": "stream",
     "text": [
      "1\n",
      "2\n",
      "3\n",
      "4\n"
     ]
    }
   ],
   "source": [
    "#to traverse the list\n",
    "curr=Head\n",
    "while curr:\n",
    "    print(curr)\n",
    "    curr=curr.next\n"
   ]
  },
  {
   "cell_type": "code",
   "execution_count": 18,
   "id": "c2600869",
   "metadata": {},
   "outputs": [
    {
     "name": "stdout",
     "output_type": "stream",
     "text": [
      "1->2->3->4\n"
     ]
    }
   ],
   "source": [
    "def disp(Head):\n",
    "    curr=Head\n",
    "    elem=[]\n",
    "    while curr:\n",
    "        elem.append(str(curr.val))\n",
    "        curr=curr.next\n",
    "    print('->'.join(elem))\n",
    "        \n",
    "disp(Head)\n"
   ]
  },
  {
   "cell_type": "markdown",
   "id": "ee33397c",
   "metadata": {},
   "source": [
    "searching an element"
   ]
  },
  {
   "cell_type": "code",
   "execution_count": 19,
   "id": "370cf3d4",
   "metadata": {},
   "outputs": [
    {
     "data": {
      "text/plain": [
       "True"
      ]
     },
     "execution_count": 19,
     "metadata": {},
     "output_type": "execute_result"
    }
   ],
   "source": [
    "def search(Head,val):\n",
    "    curr=Head\n",
    "    while curr:\n",
    "        if val==curr.val:\n",
    "            return True\n",
    "        curr=curr.next\n",
    "    return False\n",
    "\n",
    "search(Head,3)\n"
   ]
  },
  {
   "cell_type": "code",
   "execution_count": null,
   "id": "840f19aa",
   "metadata": {},
   "outputs": [],
   "source": [
    "class ll:\n",
    "    def __init__(self,val,next=None):\n",
    "        self.val=val\n",
    "        self.next=next\n",
    "\n",
    "    def __str__(self):\n",
    "        return str(self.val)\n",
    "\n",
    "\n",
    "    "
   ]
  },
  {
   "cell_type": "markdown",
   "id": "ea174c38",
   "metadata": {},
   "source": [
    "to create a linked list\n",
    "\n",
    "we need a node and value"
   ]
  },
  {
   "cell_type": "code",
   "execution_count": 63,
   "id": "0ccbe103",
   "metadata": {},
   "outputs": [
    {
     "name": "stdout",
     "output_type": "stream",
     "text": [
      "10->15->20->None\n",
      "10->20->None\n",
      "22->10->20->None\n"
     ]
    }
   ],
   "source": [
    "class Node:\n",
    "    def __init__(self,data):\n",
    "        self.data=data #store the value\n",
    "        self.next=None #pointer to the next node\n",
    "\n",
    "class LL:\n",
    "    def __init__(self):\n",
    "        self.head=None #starting with an initial empty list\n",
    "\n",
    "    def append(self,data):\n",
    "        new_node=Node(data) #Making node creation\n",
    "        if self.head is None: #check if head node is empty ie. if the linked list is empty\n",
    "            self.head=new_node #make head as the  new node\n",
    "            return\n",
    "        current=self.head\n",
    "        while current.next:\n",
    "            current=current.next\n",
    "        current.next=new_node\n",
    "    \n",
    "    def prepend(self,data):\n",
    "        new_node=Node(data)\n",
    "        new_node.next=self.head\n",
    "        self.head=new_node\n",
    "\n",
    "    def delete(self,key):\n",
    "        current=self.head\n",
    "        if current and current.data==key:\n",
    "            self.head=current.next\n",
    "            return\n",
    "        \n",
    "        prev=None\n",
    "        while current and current.data!=key:\n",
    "            prev=current\n",
    "            current=current.next\n",
    "        \n",
    "        if current is None:\n",
    "            return\n",
    "        \n",
    "        prev.next=current.next\n",
    "\n",
    "    def search(self,key):\n",
    "        temp=self.head\n",
    "        while temp:\n",
    "            if temp.data==key:\n",
    "                return True\n",
    "            temp=temp.next\n",
    "        return False\n",
    "    \n",
    "    def display(self):\n",
    "        temp=self.head\n",
    "        while temp:\n",
    "            print(temp.data,end='->')\n",
    "            temp=temp.next\n",
    "        print('None')\n",
    "        \n",
    "\n",
    "\n",
    "ll=LL()\n",
    "ll.append(10)\n",
    "ll.append(15)\n",
    "ll.append(20)\n",
    "ll.display()\n",
    "ll.delete(15)\n",
    "ll.display()\n",
    "ll.prepend(22)\n",
    "ll.display()"
   ]
  },
  {
   "cell_type": "code",
   "execution_count": 61,
   "id": "f6171cba",
   "metadata": {},
   "outputs": [],
   "source": [
    "x=False\n",
    "\n",
    "while x:\n",
    "    print('hi')\n"
   ]
  },
  {
   "cell_type": "code",
   "execution_count": null,
   "id": "f4b54c95",
   "metadata": {},
   "outputs": [],
   "source": []
  }
 ],
 "metadata": {
  "kernelspec": {
   "display_name": "venv",
   "language": "python",
   "name": "python3"
  },
  "language_info": {
   "codemirror_mode": {
    "name": "ipython",
    "version": 3
   },
   "file_extension": ".py",
   "mimetype": "text/x-python",
   "name": "python",
   "nbconvert_exporter": "python",
   "pygments_lexer": "ipython3",
   "version": "3.13.5"
  }
 },
 "nbformat": 4,
 "nbformat_minor": 5
}
