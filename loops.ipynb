{
 "cells": [
  {
   "cell_type": "markdown",
   "id": "3984b734",
   "metadata": {},
   "source": [
    "we use while when we dont how many time the loop is gonna go"
   ]
  },
  {
   "cell_type": "markdown",
   "id": "a6155419",
   "metadata": {},
   "source": [
    "if just stops if the condition passes the range\n",
    "while goes on untill the next loop does not match the given condition"
   ]
  },
  {
   "cell_type": "code",
   "execution_count": 17,
   "id": "eeaaa315",
   "metadata": {},
   "outputs": [
    {
     "data": {
      "text/plain": [
       "10"
      ]
     },
     "execution_count": 17,
     "metadata": {},
     "output_type": "execute_result"
    }
   ],
   "source": [
    "x=1221\n",
    "div=1\n",
    "if x>=10*div:\n",
    "    div *=10\n",
    "\n",
    "div\n"
   ]
  },
  {
   "cell_type": "code",
   "execution_count": 18,
   "id": "cd24f19b",
   "metadata": {},
   "outputs": [
    {
     "data": {
      "text/plain": [
       "1000"
      ]
     },
     "execution_count": 18,
     "metadata": {},
     "output_type": "execute_result"
    }
   ],
   "source": [
    "while x>=10*div:\n",
    "    div*=10\n",
    "\n",
    "div"
   ]
  },
  {
   "cell_type": "code",
   "execution_count": 14,
   "id": "668549a6",
   "metadata": {},
   "outputs": [
    {
     "name": "stdout",
     "output_type": "stream",
     "text": [
      "0\n",
      "1\n",
      "2\n",
      "3\n",
      "4\n"
     ]
    }
   ],
   "source": [
    "i=0\n",
    "while i <5:\n",
    "    print (i)\n",
    "    i+=1"
   ]
  },
  {
   "cell_type": "markdown",
   "id": "4fcacc00",
   "metadata": {},
   "source": [
    "Array Traversal\n",
    "\n",
    "notes:\n",
    "len will be the exact values . like count of elems in a list\n",
    "range(0-(n-1))\n"
   ]
  },
  {
   "cell_type": "markdown",
   "id": "f92a5f2e",
   "metadata": {},
   "source": [
    "forward traversal"
   ]
  },
  {
   "cell_type": "code",
   "execution_count": null,
   "id": "de0ed37b",
   "metadata": {},
   "outputs": [],
   "source": [
    "arr=[1,2,3,4,5,6,7] #len of arr = 7"
   ]
  },
  {
   "cell_type": "code",
   "execution_count": 17,
   "id": "472fde9f",
   "metadata": {},
   "outputs": [
    {
     "name": "stdout",
     "output_type": "stream",
     "text": [
      "index:0 || value:1\n",
      "index:1 || value:2\n",
      "index:2 || value:3\n",
      "index:3 || value:4\n",
      "index:4 || value:5\n",
      "index:5 || value:6\n",
      "index:6 || value:7\n"
     ]
    }
   ],
   "source": [
    "for i in range(len(arr)):\n",
    "    print(f\"index:{i} || value:{arr[i]}\")\n",
    "\n"
   ]
  },
  {
   "cell_type": "markdown",
   "id": "80523173",
   "metadata": {},
   "source": [
    "traversing backward"
   ]
  },
  {
   "cell_type": "code",
   "execution_count": 30,
   "id": "780c803f",
   "metadata": {},
   "outputs": [
    {
     "name": "stdout",
     "output_type": "stream",
     "text": [
      "7\n",
      "6\n",
      "5\n",
      "4\n",
      "3\n",
      "2\n",
      "1\n"
     ]
    }
   ],
   "source": [
    "for i in range(len(arr)-1,-1,-1):\n",
    "    print(arr[i])"
   ]
  },
  {
   "cell_type": "markdown",
   "id": "5e642269",
   "metadata": {},
   "source": [
    "String Traversal Techniques\n",
    "a='abc'"
   ]
  },
  {
   "cell_type": "code",
   "execution_count": 2,
   "id": "c9bd1c8f",
   "metadata": {},
   "outputs": [
    {
     "name": "stdout",
     "output_type": "stream",
     "text": [
      "h\n",
      "e\n",
      "l\n",
      "l\n",
      "o\n",
      "W\n",
      "o\n",
      "r\n",
      "l\n",
      "d\n"
     ]
    }
   ],
   "source": [
    "st=\"helloWorld\"\n",
    "for i in st:\n",
    "    print(i)"
   ]
  },
  {
   "cell_type": "code",
   "execution_count": 5,
   "id": "59b36c41",
   "metadata": {},
   "outputs": [
    {
     "name": "stdout",
     "output_type": "stream",
     "text": [
      "0 h\n",
      "1 e\n",
      "2 l\n",
      "3 l\n",
      "4 o\n",
      "5 W\n",
      "6 o\n",
      "7 r\n",
      "8 l\n",
      "9 d\n"
     ]
    }
   ],
   "source": [
    "for i in range(len(st)):\n",
    "    print(i,st[i])"
   ]
  },
  {
   "cell_type": "markdown",
   "id": "e33014c8",
   "metadata": {},
   "source": [
    "Matrix Traversal Techniques"
   ]
  },
  {
   "cell_type": "code",
   "execution_count": 6,
   "id": "b0c8ec84",
   "metadata": {},
   "outputs": [],
   "source": [
    "# 1D matrix (vector)\n",
    "one_d = [1, 2, 3, 4, 5]\n",
    "\n",
    "# 2D matrix (list of lists)\n",
    "two_d = [\n",
    "    [1, 2, 3],\n",
    "    [4, 5, 6],\n",
    "    [7, 8, 9]\n",
    "]\n",
    "\n",
    "# 3D matrix (list of lists of lists)\n",
    "three_d = [\n",
    "    [\n",
    "        [1, 2], \n",
    "        [3, 4]\n",
    "    ],\n",
    "    [\n",
    "        [5, 6], \n",
    "        [7, 8]\n",
    "    ]\n",
    "]"
   ]
  },
  {
   "cell_type": "code",
   "execution_count": 7,
   "id": "5d53a8f2",
   "metadata": {},
   "outputs": [
    {
     "name": "stdout",
     "output_type": "stream",
     "text": [
      "1\n",
      "2\n",
      "3\n",
      "4\n",
      "5\n",
      "6\n",
      "7\n",
      "8\n",
      "9\n"
     ]
    }
   ],
   "source": [
    "for val in two_d:\n",
    "    for row in val:\n",
    "        print(row)"
   ]
  },
  {
   "cell_type": "code",
   "execution_count": 9,
   "id": "67b991fa",
   "metadata": {},
   "outputs": [
    {
     "name": "stdout",
     "output_type": "stream",
     "text": [
      "1\n",
      "2\n",
      "3\n",
      "4\n",
      "5\n",
      "6\n",
      "7\n",
      "8\n",
      "9\n"
     ]
    }
   ],
   "source": [
    "for i in range(len(two_d)):\n",
    "    for j in range(len(two_d[0])):\n",
    "        print(two_d[i][j])"
   ]
  }
 ],
 "metadata": {
  "kernelspec": {
   "display_name": "venv",
   "language": "python",
   "name": "python3"
  },
  "language_info": {
   "codemirror_mode": {
    "name": "ipython",
    "version": 3
   },
   "file_extension": ".py",
   "mimetype": "text/x-python",
   "name": "python",
   "nbconvert_exporter": "python",
   "pygments_lexer": "ipython3",
   "version": "3.13.5"
  }
 },
 "nbformat": 4,
 "nbformat_minor": 5
}
