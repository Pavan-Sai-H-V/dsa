{
 "cells": [
  {
   "cell_type": "markdown",
   "id": "3984b734",
   "metadata": {},
   "source": [
    "we use while when we dont how many time the loop is gonna go"
   ]
  },
  {
   "cell_type": "markdown",
   "id": "a6155419",
   "metadata": {},
   "source": [
    "if just stops if the condition passes the range\n",
    "while goes on untill the next loop does not match the given condition"
   ]
  },
  {
   "cell_type": "code",
   "execution_count": 17,
   "id": "eeaaa315",
   "metadata": {},
   "outputs": [
    {
     "data": {
      "text/plain": [
       "10"
      ]
     },
     "execution_count": 17,
     "metadata": {},
     "output_type": "execute_result"
    }
   ],
   "source": [
    "x=1221\n",
    "div=1\n",
    "if x>=10*div:\n",
    "    div *=10\n",
    "\n",
    "div\n"
   ]
  },
  {
   "cell_type": "code",
   "execution_count": 18,
   "id": "cd24f19b",
   "metadata": {},
   "outputs": [
    {
     "data": {
      "text/plain": [
       "1000"
      ]
     },
     "execution_count": 18,
     "metadata": {},
     "output_type": "execute_result"
    }
   ],
   "source": [
    "while x>=10*div:\n",
    "    div*=10\n",
    "\n",
    "div"
   ]
  },
  {
   "cell_type": "code",
   "execution_count": 14,
   "id": "668549a6",
   "metadata": {},
   "outputs": [
    {
     "name": "stdout",
     "output_type": "stream",
     "text": [
      "0\n",
      "1\n",
      "2\n",
      "3\n",
      "4\n"
     ]
    }
   ],
   "source": [
    "i=0\n",
    "while i <5:\n",
    "    print (i)\n",
    "    i+=1"
   ]
  },
  {
   "cell_type": "code",
   "execution_count": null,
   "id": "8b6d9043",
   "metadata": {},
   "outputs": [
    {
     "ename": "SyntaxError",
     "evalue": "'return' outside function (1815305682.py, line 2)",
     "output_type": "error",
     "traceback": [
      "  \u001b[36mCell\u001b[39m\u001b[36m \u001b[39m\u001b[32mIn[22]\u001b[39m\u001b[32m, line 2\u001b[39m\n\u001b[31m    \u001b[39m\u001b[31mreturn True\u001b[39m\n    ^\n\u001b[31mSyntaxError\u001b[39m\u001b[31m:\u001b[39m 'return' outside function\n"
     ]
    }
   ],
   "source": [
    "while x:\n",
    "    "
   ]
  }
 ],
 "metadata": {
  "kernelspec": {
   "display_name": "venv",
   "language": "python",
   "name": "python3"
  },
  "language_info": {
   "codemirror_mode": {
    "name": "ipython",
    "version": 3
   },
   "file_extension": ".py",
   "mimetype": "text/x-python",
   "name": "python",
   "nbconvert_exporter": "python",
   "pygments_lexer": "ipython3",
   "version": "3.13.5"
  }
 },
 "nbformat": 4,
 "nbformat_minor": 5
}
