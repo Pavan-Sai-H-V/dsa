{
 "cells": [
  {
   "cell_type": "markdown",
   "id": "b1a8222d",
   "metadata": {},
   "source": []
  },
  {
   "cell_type": "code",
   "execution_count": 31,
   "id": "3fe75cf7",
   "metadata": {},
   "outputs": [],
   "source": [
    "a=open('new.txt','w')\n",
    "a.write('apple\\n')\n",
    "a.write('mango\\n')\n",
    "a.write('banana\\n')\n",
    "a.write('apple\\n')\n",
    "a.close()"
   ]
  },
  {
   "cell_type": "code",
   "execution_count": null,
   "id": "14c9a132",
   "metadata": {},
   "outputs": [
    {
     "name": "stdout",
     "output_type": "stream",
     "text": [
      "\n"
     ]
    }
   ],
   "source": []
  },
  {
   "cell_type": "code",
   "execution_count": 43,
   "id": "dedb02f2",
   "metadata": {},
   "outputs": [
    {
     "name": "stdout",
     "output_type": "stream",
     "text": [
      "apple\n",
      "mango\n",
      "11\n"
     ]
    }
   ],
   "source": [
    "b=open('new.txt','r')\n",
    "print(b.read(11))\n",
    "print(b.tell())"
   ]
  },
  {
   "cell_type": "code",
   "execution_count": 44,
   "id": "35abd6c5",
   "metadata": {},
   "outputs": [
    {
     "name": "stdout",
     "output_type": "stream",
     "text": [
      "6\n",
      "mango\n",
      "banana\n",
      "apple\n",
      "\n"
     ]
    }
   ],
   "source": [
    "print(b.seek(6))\n",
    "print(b.read())"
   ]
  },
  {
   "cell_type": "code",
   "execution_count": 45,
   "id": "a8b940e7",
   "metadata": {},
   "outputs": [
    {
     "name": "stdout",
     "output_type": "stream",
     "text": [
      "mango\n"
     ]
    }
   ],
   "source": [
    "b.seek(6)\n",
    "print(b.read(5))"
   ]
  },
  {
   "cell_type": "code",
   "execution_count": 54,
   "id": "ca1df219",
   "metadata": {},
   "outputs": [
    {
     "name": "stdout",
     "output_type": "stream",
     "text": [
      "mango\n"
     ]
    }
   ],
   "source": [
    "f=open('new.txt')\n",
    "f.readline()\n",
    "print(f.read(5))\n"
   ]
  },
  {
   "cell_type": "code",
   "execution_count": 59,
   "id": "ae826a27",
   "metadata": {},
   "outputs": [
    {
     "name": "stdout",
     "output_type": "stream",
     "text": [
      "<_io.TextIOWrapper name='new.json' mode='r' encoding='UTF-8'>\n",
      "{\n",
      "    \"name\": \"Sample Project\",\n",
      "    \"version\": \"1.0.0\",\n",
      "    \"description\": \"This is a sample JSON file.\",\n",
      "    \"author\": \"Your Name\",\n",
      "    \"dependencies\": {\n",
      "        \"express\": \"^4.18.2\",\n",
      "        \"lodash\": \"^4.17.21\"\n",
      "    },\n",
      "    \"scripts\": {\n",
      "        \"start\": \"node index.js\",\n",
      "        \"test\": \"echo \\\"No tests specified\\\" && exit 0\"\n",
      "    }\n",
      "}\n"
     ]
    }
   ],
   "source": [
    "import json\n",
    "with open('new.json','r') as f:\n",
    "    print(f)\n",
    "    print(f.read())"
   ]
  },
  {
   "cell_type": "code",
   "execution_count": 61,
   "id": "3f0d59bf",
   "metadata": {},
   "outputs": [
    {
     "ename": "ValueError",
     "evalue": "I/O operation on closed file.",
     "output_type": "error",
     "traceback": [
      "\u001b[31m---------------------------------------------------------------------------\u001b[39m",
      "\u001b[31mValueError\u001b[39m                                Traceback (most recent call last)",
      "\u001b[36mCell\u001b[39m\u001b[36m \u001b[39m\u001b[32mIn[61]\u001b[39m\u001b[32m, line 1\u001b[39m\n\u001b[32m----> \u001b[39m\u001b[32m1\u001b[39m \u001b[43mf\u001b[49m\u001b[43m.\u001b[49m\u001b[43mseek\u001b[49m\u001b[43m(\u001b[49m\u001b[32;43m0\u001b[39;49m\u001b[43m)\u001b[49m\n\u001b[32m      2\u001b[39m data = json.load(f)\n",
      "\u001b[31mValueError\u001b[39m: I/O operation on closed file."
     ]
    }
   ],
   "source": [
    "f.seek(0)\n",
    "data = json.load(f)"
   ]
  },
  {
   "cell_type": "code",
   "execution_count": null,
   "id": "2a925d48",
   "metadata": {},
   "outputs": [],
   "source": [
    "book={'name':'pavan','age':'22'}\n",
    "\n"
   ]
  },
  {
   "cell_type": "code",
   "execution_count": null,
   "id": "3fd72ff6",
   "metadata": {},
   "outputs": [],
   "source": []
  }
 ],
 "metadata": {
  "kernelspec": {
   "display_name": "venv",
   "language": "python",
   "name": "python3"
  },
  "language_info": {
   "codemirror_mode": {
    "name": "ipython",
    "version": 3
   },
   "file_extension": ".py",
   "mimetype": "text/x-python",
   "name": "python",
   "nbconvert_exporter": "python",
   "pygments_lexer": "ipython3",
   "version": "3.13.5"
  }
 },
 "nbformat": 4,
 "nbformat_minor": 5
}
