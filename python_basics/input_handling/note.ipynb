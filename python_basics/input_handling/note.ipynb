{
 "cells": [
  {
   "cell_type": "code",
   "execution_count": null,
   "id": "30c2afeb",
   "metadata": {},
   "outputs": [],
   "source": [
    "import sys\n",
    "\n"
   ]
  },
  {
   "cell_type": "code",
   "execution_count": 2,
   "id": "501835cc",
   "metadata": {},
   "outputs": [],
   "source": [
    "a=input('Enter no 1')\n",
    "b=input('Enter no 2')"
   ]
  },
  {
   "cell_type": "code",
   "execution_count": 3,
   "id": "28f87304",
   "metadata": {},
   "outputs": [
    {
     "data": {
      "text/plain": [
       "('1', '2')"
      ]
     },
     "execution_count": 3,
     "metadata": {},
     "output_type": "execute_result"
    }
   ],
   "source": [
    "a,b"
   ]
  },
  {
   "cell_type": "code",
   "execution_count": 4,
   "id": "a9008965",
   "metadata": {},
   "outputs": [
    {
     "data": {
      "text/plain": [
       "'12'"
      ]
     },
     "execution_count": 4,
     "metadata": {},
     "output_type": "execute_result"
    }
   ],
   "source": [
    "a+b"
   ]
  },
  {
   "cell_type": "code",
   "execution_count": 5,
   "id": "1a22404b",
   "metadata": {},
   "outputs": [],
   "source": [
    "c=int(input('Enter no 1'))\n",
    "d=int(input('Enter no 2'))"
   ]
  },
  {
   "cell_type": "code",
   "execution_count": 6,
   "id": "78aaa760",
   "metadata": {},
   "outputs": [
    {
     "data": {
      "text/plain": [
       "(3, 4)"
      ]
     },
     "execution_count": 6,
     "metadata": {},
     "output_type": "execute_result"
    }
   ],
   "source": [
    "c,d"
   ]
  },
  {
   "cell_type": "code",
   "execution_count": 7,
   "id": "f8a7d42f",
   "metadata": {},
   "outputs": [
    {
     "data": {
      "text/plain": [
       "7"
      ]
     },
     "execution_count": 7,
     "metadata": {},
     "output_type": "execute_result"
    }
   ],
   "source": [
    "c+d"
   ]
  },
  {
   "cell_type": "code",
   "execution_count": 8,
   "id": "9cf1d337",
   "metadata": {},
   "outputs": [
    {
     "name": "stdout",
     "output_type": "stream",
     "text": [
      "Full_name --f=/Users/sai/Library/Jupyter/runtime/kernel-v3a1ba3df052a8349eb6db75b45baababda3a60f34.json\n",
      "email --f=/Users/sai/Library/Jupyter/runtime/kernel-v3a1ba3df052a8349eb6db75b45baababda3a60f34.json@company.com\n"
     ]
    }
   ],
   "source": [
    "full_name=sys.argv[1]\n",
    "\n",
    "email=full_name.replace(\" \",\".\")+\"@company.com\"\n",
    "\n",
    "print(\"Full_name\",full_name)\n",
    "print(\"email\",email)"
   ]
  }
 ],
 "metadata": {
  "kernelspec": {
   "display_name": "venv (3.13.5)",
   "language": "python",
   "name": "python3"
  },
  "language_info": {
   "codemirror_mode": {
    "name": "ipython",
    "version": 3
   },
   "file_extension": ".py",
   "mimetype": "text/x-python",
   "name": "python",
   "nbconvert_exporter": "python",
   "pygments_lexer": "ipython3",
   "version": "3.13.5"
  }
 },
 "nbformat": 4,
 "nbformat_minor": 5
}
