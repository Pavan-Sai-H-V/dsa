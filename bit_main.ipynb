{
 "cells": [
  {
   "cell_type": "code",
   "execution_count": 1,
   "id": "74163c35",
   "metadata": {},
   "outputs": [
    {
     "data": {
      "text/plain": [
       "(4, 13, 9, -13, 48, 3)"
      ]
     },
     "execution_count": 1,
     "metadata": {},
     "output_type": "execute_result"
    }
   ],
   "source": [
    "a = 12  # 1100 in binary\n",
    "b = 5   # 0101 in binary\n",
    "\n",
    "bitwise_and = a & b      # AND operation\n",
    "bitwise_or = a | b       # OR operation\n",
    "bitwise_xor = a ^ b      # XOR operation\n",
    "bitwise_not_a = ~a       # NOT operation on a\n",
    "left_shift_a = a << 2    # Left shift a by 2 bits\n",
    "right_shift_a = a >> 2   # Right shift a by 2 bits\n",
    "\n",
    "(bitwise_and, bitwise_or, bitwise_xor, bitwise_not_a, left_shift_a, right_shift_a)"
   ]
  },
  {
   "cell_type": "code",
   "execution_count": 4,
   "id": "a9529b5e",
   "metadata": {},
   "outputs": [
    {
     "data": {
      "text/plain": [
       "'0b1100'"
      ]
     },
     "execution_count": 4,
     "metadata": {},
     "output_type": "execute_result"
    }
   ],
   "source": [
    "bin(a)"
   ]
  },
  {
   "cell_type": "code",
   "execution_count": null,
   "id": "fba5c8f3",
   "metadata": {},
   "outputs": [],
   "source": [
    "# Example: format a float to keep only 2 decimals\n",
    "num = 12.34567\n",
    "formatted_num = \"{:.2f}\".format(num)  # '12.35'\n",
    "\n",
    "# Example: remove '0b' from binary representation\n",
    "binary_str = bin(a)[2:]  # removes '0b' prefix\n",
    "\n",
    "formatted_num, binary_str"
   ]
  }
 ],
 "metadata": {
  "kernelspec": {
   "display_name": "venv (3.13.5)",
   "language": "python",
   "name": "python3"
  },
  "language_info": {
   "codemirror_mode": {
    "name": "ipython",
    "version": 3
   },
   "file_extension": ".py",
   "mimetype": "text/x-python",
   "name": "python",
   "nbconvert_exporter": "python",
   "pygments_lexer": "ipython3",
   "version": "3.13.5"
  }
 },
 "nbformat": 4,
 "nbformat_minor": 5
}
