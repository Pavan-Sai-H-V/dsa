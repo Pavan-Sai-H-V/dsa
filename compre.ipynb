{
 "cells": [
  {
   "cell_type": "markdown",
   "id": "60407725",
   "metadata": {},
   "source": [
    "Dict comprehension"
   ]
  },
  {
   "cell_type": "code",
   "execution_count": 4,
   "id": "5329cb3e",
   "metadata": {},
   "outputs": [
    {
     "name": "stdout",
     "output_type": "stream",
     "text": [
      "{1: 1, 2: 2, 3: 3, 4: 4, 5: 5, 6: 6} <class 'dict'>\n",
      "{1: 1, 4: 2, 9: 3, 16: 4, 25: 5, 36: 6} <class 'dict'>\n"
     ]
    }
   ],
   "source": [
    "b={1,2,3,4,5,6}\n",
    "\n",
    "a={i:i for i in b}\n",
    "c={i*i:i for i in b}\n",
    "\n",
    "print(a,type(a))\n",
    "print(c,type(c))"
   ]
  },
  {
   "cell_type": "code",
   "execution_count": null,
   "id": "2072cb9e",
   "metadata": {},
   "outputs": [
    {
     "name": "stdout",
     "output_type": "stream",
     "text": [
      "{'22': 'sai'}\n"
     ]
    }
   ],
   "source": [
    "name=input().split()\n",
    "age=input().split()\n",
    "data={key:age for key,age in zip(age,name)}\n",
    "print(data)   "
   ]
  },
  {
   "cell_type": "markdown",
   "id": "b5c18fee",
   "metadata": {},
   "source": [
    "1\n",
    "2 4\n",
    "3 5 7\n",
    "6 8 9 10\n",
    "9 11 13 15 17\n",
    "12 14 16 18 20\n",
    "To print this pattern, you can use nested loops as shown below:\n",
    "\n",
    "for i in range(1, 7):\n",
    "    num = i\n",
    "    for j in range(i):\n",
    "        print(num, end=' ')\n",
    "        num += i+1\n",
    "    print()"
   ]
  },
  {
   "cell_type": "code",
   "execution_count": 17,
   "id": "5e3d82ec",
   "metadata": {},
   "outputs": [
    {
     "name": "stdout",
     "output_type": "stream",
     "text": [
      "1\n",
      "1\n",
      "2\n",
      "1\n",
      "2\n",
      "3\n",
      "1\n",
      "2\n",
      "3\n",
      "4\n",
      "1\n",
      "2\n",
      "3\n",
      "4\n",
      "5\n",
      "1\n",
      "2\n",
      "3\n",
      "4\n",
      "5\n",
      "6\n"
     ]
    }
   ],
   "source": [
    "for i in range(1,7):\n",
    "    for j in range(1,i+1):\n",
    "        print(j)\n",
    "        "
   ]
  },
  {
   "cell_type": "code",
   "execution_count": 18,
   "id": "c42478c2",
   "metadata": {},
   "outputs": [
    {
     "name": "stdout",
     "output_type": "stream",
     "text": [
      "1 \n",
      "2 5 \n",
      "3 7 11 \n",
      "4 9 14 19 \n",
      "5 11 17 23 29 \n",
      "6 13 20 27 34 41 \n"
     ]
    }
   ],
   "source": [
    "for i in range(1, 7):\n",
    "    num = i\n",
    "    for j in range(i):\n",
    "        print(num, end=' ')\n",
    "        num += i+1\n",
    "    print()"
   ]
  },
  {
   "cell_type": "markdown",
   "id": "4fac024e",
   "metadata": {},
   "source": [
    "read keys and values from the user separately like name and age and do append into the dictionary using the comprehension"
   ]
  },
  {
   "cell_type": "markdown",
   "id": "088b1a39",
   "metadata": {},
   "source": [
    "generators\n"
   ]
  },
  {
   "cell_type": "code",
   "execution_count": 5,
   "id": "859ae6a0",
   "metadata": {},
   "outputs": [
    {
     "name": "stdout",
     "output_type": "stream",
     "text": [
      "1\n",
      "11\n",
      "21\n",
      "31\n"
     ]
    }
   ],
   "source": [
    "def fun():\n",
    "    num=1\n",
    "    while True:\n",
    "        yield num\n",
    "        num+=10\n",
    "\n",
    "aa=fun()\n",
    "print(next(aa))\n",
    "print(next(aa))\n",
    "print(next(aa))\n",
    "print(next(aa))"
   ]
  },
  {
   "cell_type": "code",
   "execution_count": 16,
   "id": "8a648af3",
   "metadata": {},
   "outputs": [
    {
     "name": "stdout",
     "output_type": "stream",
     "text": [
      "0\n",
      "1 1 2 3 5 8 13 21 34 55\n"
     ]
    }
   ],
   "source": [
    "def fibo():\n",
    "    a, b = 0, 1\n",
    "    while True:\n",
    "        yield a\n",
    "        a, b = b, a + b\n",
    "\n",
    "f = fibo()\n",
    "\n",
    "print(next(f))\n",
    "new=[next(f)for _ in range(10)]\n",
    "print(*new)"
   ]
  },
  {
   "cell_type": "code",
   "execution_count": 7,
   "id": "5fda1230",
   "metadata": {},
   "outputs": [
    {
     "name": "stdout",
     "output_type": "stream",
     "text": [
      "5\n",
      "8\n",
      "13\n",
      "21\n",
      "34\n",
      "55\n",
      "89\n",
      "144\n",
      "233\n",
      "377\n",
      "610\n",
      "987\n",
      "1597\n",
      "2584\n",
      "4181\n",
      "6765\n",
      "10946\n",
      "17711\n",
      "28657\n",
      "46368\n",
      "75025\n",
      "121393\n",
      "196418\n",
      "317811\n",
      "514229\n",
      "832040\n",
      "1346269\n",
      "2178309\n",
      "3524578\n",
      "5702887\n",
      "9227465\n",
      "14930352\n",
      "24157817\n",
      "39088169\n",
      "63245986\n",
      "102334155\n",
      "165580141\n",
      "267914296\n",
      "433494437\n",
      "701408733\n",
      "1134903170\n",
      "1836311903\n",
      "2971215073\n",
      "4807526976\n",
      "7778742049\n",
      "12586269025\n",
      "20365011074\n",
      "32951280099\n",
      "53316291173\n",
      "86267571272\n",
      "139583862445\n",
      "225851433717\n",
      "365435296162\n",
      "591286729879\n",
      "956722026041\n",
      "1548008755920\n",
      "2504730781961\n",
      "4052739537881\n",
      "6557470319842\n",
      "10610209857723\n",
      "17167680177565\n",
      "27777890035288\n",
      "44945570212853\n",
      "72723460248141\n",
      "117669030460994\n",
      "190392490709135\n",
      "308061521170129\n",
      "498454011879264\n",
      "806515533049393\n",
      "1304969544928657\n",
      "2111485077978050\n",
      "3416454622906707\n",
      "5527939700884757\n",
      "8944394323791464\n",
      "14472334024676221\n",
      "23416728348467685\n",
      "37889062373143906\n",
      "61305790721611591\n",
      "99194853094755497\n",
      "160500643816367088\n",
      "259695496911122585\n",
      "420196140727489673\n",
      "679891637638612258\n",
      "1100087778366101931\n",
      "1779979416004714189\n",
      "2880067194370816120\n",
      "4660046610375530309\n",
      "7540113804746346429\n",
      "12200160415121876738\n",
      "19740274219868223167\n",
      "31940434634990099905\n",
      "51680708854858323072\n",
      "83621143489848422977\n",
      "135301852344706746049\n",
      "218922995834555169026\n",
      "354224848179261915075\n",
      "573147844013817084101\n",
      "927372692193078999176\n",
      "1500520536206896083277\n",
      "2427893228399975082453\n",
      "3928413764606871165730\n",
      "6356306993006846248183\n",
      "10284720757613717413913\n",
      "16641027750620563662096\n",
      "26925748508234281076009\n",
      "43566776258854844738105\n",
      "70492524767089125814114\n",
      "114059301025943970552219\n",
      "184551825793033096366333\n",
      "298611126818977066918552\n",
      "483162952612010163284885\n",
      "781774079430987230203437\n",
      "1264937032042997393488322\n",
      "2046711111473984623691759\n",
      "3311648143516982017180081\n",
      "5358359254990966640871840\n",
      "8670007398507948658051921\n",
      "14028366653498915298923761\n",
      "22698374052006863956975682\n",
      "36726740705505779255899443\n"
     ]
    }
   ],
   "source": [
    "for i in range(120):\n",
    "    print(next(f))"
   ]
  },
  {
   "cell_type": "markdown",
   "id": "c02d34a6",
   "metadata": {},
   "source": [
    "using comprehension"
   ]
  },
  {
   "cell_type": "code",
   "execution_count": 22,
   "id": "651ef002",
   "metadata": {},
   "outputs": [
    {
     "name": "stdout",
     "output_type": "stream",
     "text": [
      "200 bytes <class 'generator'>\n",
      "8856 bytes <class 'list'>\n"
     ]
    }
   ],
   "source": [
    "##list comprehension takes more space than set comprehehnsion\n",
    "\n",
    "import sys\n",
    "ans1=(i*i for i in range(1000))\n",
    "ans2=[i*i for i in range(1000)]\n",
    "\n",
    "print(sys.getsizeof(ans1),'bytes',type(ans1))\n",
    "print(sys.getsizeof(ans2),'bytes',type(ans2))"
   ]
  },
  {
   "cell_type": "markdown",
   "id": "5dd8e83c",
   "metadata": {},
   "source": [
    "DECORATOR its a function that takes another function as an argument and explains its behaviour without modifying the original function"
   ]
  },
  {
   "cell_type": "code",
   "execution_count": null,
   "id": "4f62cb41",
   "metadata": {},
   "outputs": [
    {
     "name": "stdout",
     "output_type": "stream",
     "text": [
      "im a decorator\n",
      "hello\n",
      "after deacarator call function\n"
     ]
    }
   ],
   "source": [
    "def mydecorator(hello):\n",
    "    def wrapper1():\n",
    "        print('im a decorator')\n",
    "        hello()\n",
    "        print('after deacarator call function')\n",
    "    return wrapper1\n",
    "\n",
    "@mydecorator\n",
    "def hello():\n",
    "    print(\"hello\")\n",
    "    \n",
    "hello()"
   ]
  },
  {
   "cell_type": "markdown",
   "id": "44e569a9",
   "metadata": {},
   "source": [
    "Lambda its a small anonymous funciton"
   ]
  },
  {
   "cell_type": "code",
   "execution_count": 28,
   "id": "8d36c127",
   "metadata": {},
   "outputs": [
    {
     "data": {
      "text/plain": [
       "10"
      ]
     },
     "execution_count": 28,
     "metadata": {},
     "output_type": "execute_result"
    }
   ],
   "source": [
    "hello=lambda x:x+5\n",
    "hello(5)"
   ]
  },
  {
   "cell_type": "code",
   "execution_count": 29,
   "id": "263b9667",
   "metadata": {},
   "outputs": [
    {
     "name": "stdout",
     "output_type": "stream",
     "text": [
      "30\n"
     ]
    }
   ],
   "source": [
    "sum_squares = lambda lst: sum(x*x for x in lst)\n",
    "print(sum_squares([1, 2, 3, 4]))"
   ]
  },
  {
   "cell_type": "code",
   "execution_count": 31,
   "id": "bea61c39",
   "metadata": {},
   "outputs": [
    {
     "data": {
      "text/plain": [
       "[100, 400, 900, 1600, 2500]"
      ]
     },
     "execution_count": 31,
     "metadata": {},
     "output_type": "execute_result"
    }
   ],
   "source": [
    "nums=[10,20,30,40,50]\n",
    "new=list(map(lambda x:x**2,nums))\n",
    "\n",
    "new"
   ]
  },
  {
   "cell_type": "code",
   "execution_count": 38,
   "id": "98ebeef6",
   "metadata": {},
   "outputs": [],
   "source": [
    "new1=[\" + \",\".join(map(str, new)) + \"]\n",
    "# Output: [100,400,900,1600,2500]\n",
    "\n"
   ]
  },
  {
   "cell_type": "code",
   "execution_count": 39,
   "id": "2580064f",
   "metadata": {},
   "outputs": [
    {
     "data": {
      "text/plain": [
       "list"
      ]
     },
     "execution_count": 39,
     "metadata": {},
     "output_type": "execute_result"
    }
   ],
   "source": [
    "type(new1)"
   ]
  },
  {
   "cell_type": "code",
   "execution_count": 45,
   "id": "bd7973ea",
   "metadata": {},
   "outputs": [
    {
     "data": {
      "text/plain": [
       "[2, 4, 6, 8, 10]"
      ]
     },
     "execution_count": 45,
     "metadata": {},
     "output_type": "execute_result"
    }
   ],
   "source": [
    "nums=[1,2,3,4,5,6,7,8,9,10]\n",
    "# Filter even numbers and square them using map and filter with lambda\n",
    "hello = list(filter(lambda x: x % 2 == 0, nums))\n",
    "hello"
   ]
  },
  {
   "cell_type": "code",
   "execution_count": 44,
   "id": "4126d48a",
   "metadata": {},
   "outputs": [
    {
     "name": "stdout",
     "output_type": "stream",
     "text": [
      "0,Pavan\n",
      "1,Sai\n",
      "2,Peter\n",
      "3,Kate\n"
     ]
    }
   ],
   "source": [
    "name=['Pavan','Sai','Peter',\"Kate\"]\n",
    "\n",
    "for i,val in enumerate(name):\n",
    "    print(f\"{i},{val}\")"
   ]
  },
  {
   "cell_type": "code",
   "execution_count": 46,
   "id": "9d6b616b",
   "metadata": {},
   "outputs": [
    {
     "name": "stdout",
     "output_type": "stream",
     "text": [
      "1,Pavan\n",
      "2,Sai\n",
      "3,Peter\n",
      "4,Kate\n"
     ]
    }
   ],
   "source": [
    "for k,v in zip(nums,name):\n",
    "    print(f\"{k},{v}\")"
   ]
  },
  {
   "cell_type": "markdown",
   "id": "087d5bdc",
   "metadata": {},
   "source": [
    "zip will take two variablt to access\n",
    "while enumerate takes one and gives its keys and values"
   ]
  },
  {
   "cell_type": "markdown",
   "id": "298f6118",
   "metadata": {},
   "source": [
    "write a code for compress a given string to a super reduced string"
   ]
  },
  {
   "cell_type": "code",
   "execution_count": null,
   "id": "335db3cd",
   "metadata": {},
   "outputs": [],
   "source": [
    "input=\"\""
   ]
  },
  {
   "cell_type": "code",
   "execution_count": 66,
   "id": "af1f9dbb",
   "metadata": {},
   "outputs": [
    {
     "name": "stdout",
     "output_type": "stream",
     "text": [
      "0 a\n",
      "1 b\n",
      "2 c\n",
      "3 a\n",
      "4 b\n",
      "5 b\n",
      "6 a\n",
      "7 c\n",
      "8 a\n",
      "9 k\n",
      "10 u\n",
      "11 t\n",
      "12 t\n",
      "13 k\n",
      "14 a\n"
     ]
    }
   ],
   "source": [
    "a=\"abcabbacakuttka\"\n",
    "\n",
    "for i,v in enumerate(a):\n",
    "    print(i,v)\n",
    "# for c in range(len(a)):\n",
    "#     for d in range(len(a)+1):\n",
    "#         if a[c]==a[d]:\n",
    "#             a=list(a)\n",
    "#             list(a.pop(c))\n",
    "#             list(a.pop(d))\n",
    "    \n"
   ]
  },
  {
   "cell_type": "code",
   "execution_count": 69,
   "id": "6410ab4b",
   "metadata": {},
   "outputs": [
    {
     "name": "stdout",
     "output_type": "stream",
     "text": [
      "a b\n",
      "b c\n",
      "c a\n",
      "a b\n",
      "b b\n",
      "b a\n",
      "a c\n",
      "c a\n",
      "a k\n",
      "k u\n",
      "u t\n",
      "t t\n",
      "t k\n",
      "k a\n"
     ]
    }
   ],
   "source": [
    "for i in range(len(a)-1):\n",
    "    print(a[i],a[i+1])"
   ]
  },
  {
   "cell_type": "code",
   "execution_count": 70,
   "id": "d7599a0b",
   "metadata": {},
   "outputs": [
    {
     "name": "stdout",
     "output_type": "stream",
     "text": [
      "ab\n"
     ]
    }
   ],
   "source": [
    "input_str = \"abcabbacakuttuka\"\n",
    "seen = set()\n",
    "output = \"\"\n",
    "\n",
    "for ch in input_str:\n",
    "    if ch not in seen:\n",
    "        seen.add(ch)\n",
    "        output += ch\n",
    "    if len(output) == 2:\n",
    "        break\n",
    "\n",
    "print(output)  # Output: ab\n"
   ]
  },
  {
   "cell_type": "code",
   "execution_count": null,
   "id": "a120fa41",
   "metadata": {},
   "outputs": [],
   "source": []
  }
 ],
 "metadata": {
  "kernelspec": {
   "display_name": "venv",
   "language": "python",
   "name": "python3"
  },
  "language_info": {
   "codemirror_mode": {
    "name": "ipython",
    "version": 3
   },
   "file_extension": ".py",
   "mimetype": "text/x-python",
   "name": "python",
   "nbconvert_exporter": "python",
   "pygments_lexer": "ipython3",
   "version": "3.13.5"
  }
 },
 "nbformat": 4,
 "nbformat_minor": 5
}
