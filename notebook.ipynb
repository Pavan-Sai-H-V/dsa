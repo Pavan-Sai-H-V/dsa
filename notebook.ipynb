{
 "cells": [
  {
   "cell_type": "code",
   "execution_count": 2,
   "id": "bf9212f9",
   "metadata": {},
   "outputs": [
    {
     "name": "stdout",
     "output_type": "stream",
     "text": [
      "hello world\n"
     ]
    }
   ],
   "source": [
    "print(\"hello world\")"
   ]
  },
  {
   "cell_type": "code",
   "execution_count": 5,
   "id": "c843ddd4",
   "metadata": {},
   "outputs": [
    {
     "name": "stdout",
     "output_type": "stream",
     "text": [
      "python training\n"
     ]
    }
   ],
   "source": [
    "print('python training')"
   ]
  },
  {
   "cell_type": "code",
   "execution_count": 7,
   "id": "734f7721",
   "metadata": {},
   "outputs": [
    {
     "name": "stdout",
     "output_type": "stream",
     "text": [
      "The greatest number is: 25\n"
     ]
    }
   ],
   "source": [
    "a = 10\n",
    "b = 25\n",
    "c = 15\n",
    "\n",
    "greatest = max(a, b, c)\n",
    "print(\"The greatest number is:\", greatest)"
   ]
  },
  {
   "cell_type": "code",
   "execution_count": 16,
   "id": "eb7ef493",
   "metadata": {},
   "outputs": [
    {
     "name": "stdout",
     "output_type": "stream",
     "text": [
      "The greatest number (without inbuilt function) is: 13\n"
     ]
    }
   ],
   "source": [
    "a,b,c=10,12,13\n",
    "\n",
    "if a >= b and a >= c:\n",
    "    greatest_num= a\n",
    "elif b >= a and b >= c:\n",
    "    greatest_num = b\n",
    "else:\n",
    "    greatest_num = c\n",
    "\n",
    "print(\"The greatest number (without inbuilt function) is:\", greatest_num)"
   ]
  },
  {
   "cell_type": "code",
   "execution_count": 15,
   "id": "60ca8f85",
   "metadata": {},
   "outputs": [
    {
     "name": "stdout",
     "output_type": "stream",
     "text": [
      "True\n",
      "False\n",
      "False\n",
      "False\n",
      "\n",
      "False\n"
     ]
    }
   ],
   "source": [
    "b=False\n",
    "b=bool(False)\n",
    "\n",
    "print(bool(1))\n",
    "print(bool(0.0))\n",
    "print(b)\n",
    "print(bool(None))\n",
    "print(\"\")\n",
    "print(bool(False))\n"
   ]
  },
  {
   "cell_type": "code",
   "execution_count": null,
   "id": "0dc86e74",
   "metadata": {},
   "outputs": [],
   "source": [
    "###print funciton\n",
    "# syntax:\n",
    "# print(objects,sep=seperator,end=end,file=file,flush=Flush)"
   ]
  },
  {
   "cell_type": "markdown",
   "id": "f9b8b71c",
   "metadata": {},
   "source": [
    "The flush parameter in the print function forces the output to be written to the terminal or file immediately, without buffering. By default, output may be buffered and not appear right away. Setting flush=True ensures the output is displayed instantly."
   ]
  },
  {
   "cell_type": "code",
   "execution_count": null,
   "id": "d236d55b",
   "metadata": {},
   "outputs": [
    {
     "name": "stdout",
     "output_type": "stream",
     "text": [
      "Hello woreld\n",
      "1_1_1_21_2_12\n"
     ]
    }
   ],
   "source": [
    "print(1,1,1,21,2,12,sep='_',flush=True)"
   ]
  },
  {
   "cell_type": "code",
   "execution_count": 20,
   "id": "4c1b9eab",
   "metadata": {},
   "outputs": [
    {
     "name": "stdout",
     "output_type": "stream",
     "text": [
      "1 2 1\n",
      "1#2#3EndOfLine\n",
      "\n",
      "this_is_python_training\n"
     ]
    }
   ],
   "source": [
    "x,y,z=1,2,3\n",
    "print(x,y,x)\n",
    "print(x,y,z,sep='#',end='EndOfLine')\n",
    "print('\\n')\n",
    "print('this','is','python','training',sep=\"_\")"
   ]
  },
  {
   "cell_type": "code",
   "execution_count": 21,
   "id": "e60a6a3c",
   "metadata": {},
   "outputs": [
    {
     "name": "stdout",
     "output_type": "stream",
     "text": [
      "1_1_1_21_2_12@"
     ]
    }
   ],
   "source": [
    "print(1,1,1,21,2,12,sep='_',end='@')"
   ]
  },
  {
   "cell_type": "code",
   "execution_count": 22,
   "id": "6bfd435e",
   "metadata": {},
   "outputs": [],
   "source": [
    "x=5\n"
   ]
  },
  {
   "cell_type": "code",
   "execution_count": 23,
   "id": "89d8ca27",
   "metadata": {},
   "outputs": [
    {
     "name": "stdout",
     "output_type": "stream",
     "text": [
      "<class 'int'>\n"
     ]
    }
   ],
   "source": [
    "print(type(x))"
   ]
  },
  {
   "cell_type": "code",
   "execution_count": 24,
   "id": "d12c06ad",
   "metadata": {},
   "outputs": [],
   "source": [
    "x=int(5)"
   ]
  },
  {
   "cell_type": "code",
   "execution_count": null,
   "id": "baa53fb6",
   "metadata": {},
   "outputs": [
    {
     "name": "stdout",
     "output_type": "stream",
     "text": [
      "<class 'str'>\n"
     ]
    }
   ],
   "source": [
    "z='hello'\n",
    "print(type(z))\n"
   ]
  },
  {
   "cell_type": "code",
   "execution_count": 27,
   "id": "94bb6694",
   "metadata": {},
   "outputs": [],
   "source": [
    "z=float(\"5\")"
   ]
  },
  {
   "cell_type": "code",
   "execution_count": 4,
   "id": "dbcf0c88",
   "metadata": {},
   "outputs": [
    {
     "name": "stdout",
     "output_type": "stream",
     "text": [
      "Square: 15129.0\n",
      "Cube: 1860867.0\n",
      "Square Root: 11.09\n"
     ]
    }
   ],
   "source": [
    "num = float(input(\"Enter a floating point number: \"))\n",
    "square = num ** 2\n",
    "cube = num ** 3\n",
    "square_root = num ** 0.5\n",
    "\n",
    "print(\"Square:\", square)\n",
    "print(\"Cube:\", cube)\n",
    "print(f\"Square Root: {square_root:.2f}\")"
   ]
  },
  {
   "cell_type": "code",
   "execution_count": 1,
   "id": "e9b9fbf2",
   "metadata": {},
   "outputs": [],
   "source": [
    "a=[1,2,3,4,5]"
   ]
  },
  {
   "cell_type": "code",
   "execution_count": 2,
   "id": "48c3211a",
   "metadata": {},
   "outputs": [
    {
     "data": {
      "text/plain": [
       "15"
      ]
     },
     "execution_count": 2,
     "metadata": {},
     "output_type": "execute_result"
    }
   ],
   "source": [
    "sum(a)"
   ]
  },
  {
   "cell_type": "code",
   "execution_count": 8,
   "id": "ae849cee",
   "metadata": {},
   "outputs": [],
   "source": [
    "nums=[0,1,2,4]"
   ]
  },
  {
   "cell_type": "code",
   "execution_count": 9,
   "id": "5100c388",
   "metadata": {},
   "outputs": [
    {
     "name": "stdout",
     "output_type": "stream",
     "text": [
      "3\n"
     ]
    }
   ],
   "source": [
    "print(sum(range(len(nums)+1))-sum(nums))"
   ]
  },
  {
   "cell_type": "code",
   "execution_count": 11,
   "id": "d05a797e",
   "metadata": {},
   "outputs": [
    {
     "name": "stdout",
     "output_type": "stream",
     "text": [
      "procrastination\n",
      "ocrastin\n",
      "procr\n",
      "orsia\n",
      "aisr\n",
      "noitanitsarcorp\n",
      "otnt\n"
     ]
    }
   ],
   "source": [
    "s='procrastination'\n",
    "#= 012345678910\n",
    "print(s[::])\n",
    "print(s[2:10:])\n",
    "print(s[:5:])\n",
    "print(s[2:12:2])\n",
    "print(s[10:2:-2])\n",
    "print(s[::-1])\n",
    "print(s[-2:-10:-2])\n",
    "#print(s[10:2:2])\n",
    "\n"
   ]
  },
  {
   "cell_type": "code",
   "execution_count": 12,
   "id": "6c9e02b0",
   "metadata": {},
   "outputs": [
    {
     "name": "stdout",
     "output_type": "stream",
     "text": [
      "Vowels in s: ['o', 'a', 'i', 'a', 'i', 'o']\n"
     ]
    }
   ],
   "source": [
    "import re\n",
    "\n",
    "vowels = re.findall(r'[aeiou]', s)\n",
    "print(\"Vowels in s:\", vowels)"
   ]
  },
  {
   "cell_type": "code",
   "execution_count": null,
   "id": "0d70d194",
   "metadata": {},
   "outputs": [],
   "source": [
    "str=\"\"\""
   ]
  }
 ],
 "metadata": {
  "kernelspec": {
   "display_name": "venv",
   "language": "python",
   "name": "python3"
  },
  "language_info": {
   "codemirror_mode": {
    "name": "ipython",
    "version": 3
   },
   "file_extension": ".py",
   "mimetype": "text/x-python",
   "name": "python",
   "nbconvert_exporter": "python",
   "pygments_lexer": "ipython3",
   "version": "3.13.5"
  }
 },
 "nbformat": 4,
 "nbformat_minor": 5
}
