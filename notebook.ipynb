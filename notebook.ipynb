{
 "cells": [
  {
   "cell_type": "code",
   "execution_count": 12,
   "id": "734f7721",
   "metadata": {},
   "outputs": [
    {
     "name": "stdout",
     "output_type": "stream",
     "text": [
      "The greatest number is: 25\n"
     ]
    }
   ],
   "source": [
    "a = 10\n",
    "b = 25\n",
    "c = 15\n",
    "\n",
    "greatest = max(a, b, c)\n",
    "print(\"The greatest number is:\", greatest)"
   ]
  },
  {
   "cell_type": "code",
   "execution_count": 13,
   "id": "eb7ef493",
   "metadata": {},
   "outputs": [
    {
     "name": "stdout",
     "output_type": "stream",
     "text": [
      "The greatest number (without inbuilt function) is: 13\n"
     ]
    }
   ],
   "source": [
    "a,b,c=10,12,13\n",
    "\n",
    "if a >= b and a >= c:\n",
    "    greatest_num= a\n",
    "elif b >= a and b >= c:\n",
    "    greatest_num = b\n",
    "else:\n",
    "    greatest_num = c\n",
    "\n",
    "print(\"The greatest number (without inbuilt function) is:\", greatest_num)"
   ]
  },
  {
   "cell_type": "code",
   "execution_count": 14,
   "id": "60ca8f85",
   "metadata": {},
   "outputs": [
    {
     "name": "stdout",
     "output_type": "stream",
     "text": [
      "True\n",
      "False\n",
      "False\n",
      "False\n",
      "\n",
      "False\n"
     ]
    }
   ],
   "source": [
    "b=False\n",
    "b=bool(False)\n",
    "\n",
    "print(bool(1))\n",
    "print(bool(0.0))\n",
    "print(b)\n",
    "print(bool(None))\n",
    "print(\"\")\n",
    "print(bool(False))\n"
   ]
  },
  {
   "cell_type": "code",
   "execution_count": 15,
   "id": "0dc86e74",
   "metadata": {},
   "outputs": [],
   "source": [
    "###print funciton\n",
    "# syntax:\n",
    "# print(objects,sep=seperator,end=end,file=file,flush=Flush)"
   ]
  },
  {
   "cell_type": "markdown",
   "id": "f9b8b71c",
   "metadata": {},
   "source": [
    "The flush parameter in the print function forces the output to be written to the terminal or file immediately, without buffering. By default, output may be buffered and not appear right away. Setting flush=True ensures the output is displayed instantly."
   ]
  },
  {
   "cell_type": "code",
   "execution_count": 16,
   "id": "d236d55b",
   "metadata": {},
   "outputs": [
    {
     "name": "stdout",
     "output_type": "stream",
     "text": [
      "1_1_1_21_2_12\n"
     ]
    }
   ],
   "source": [
    "print(1,1,1,21,2,12,sep='_',flush=True)"
   ]
  },
  {
   "cell_type": "code",
   "execution_count": 17,
   "id": "4c1b9eab",
   "metadata": {},
   "outputs": [
    {
     "name": "stdout",
     "output_type": "stream",
     "text": [
      "1 2 1\n",
      "1#2#3EndOfLine\n",
      "\n",
      "this_is_python_training\n"
     ]
    }
   ],
   "source": [
    "x,y,z=1,2,3\n",
    "print(x,y,x)\n",
    "print(x,y,z,sep='#',end='EndOfLine')\n",
    "print('\\n')\n",
    "print('this','is','python','training',sep=\"_\")"
   ]
  },
  {
   "cell_type": "code",
   "execution_count": 18,
   "id": "e60a6a3c",
   "metadata": {},
   "outputs": [
    {
     "name": "stdout",
     "output_type": "stream",
     "text": [
      "1_1_1_21_2_12@"
     ]
    }
   ],
   "source": [
    "print(1,1,1,21,2,12,sep='_',end='@')"
   ]
  },
  {
   "cell_type": "code",
   "execution_count": 19,
   "id": "6bfd435e",
   "metadata": {},
   "outputs": [],
   "source": [
    "x=5\n"
   ]
  },
  {
   "cell_type": "code",
   "execution_count": 20,
   "id": "89d8ca27",
   "metadata": {},
   "outputs": [
    {
     "name": "stdout",
     "output_type": "stream",
     "text": [
      "<class 'int'>\n"
     ]
    }
   ],
   "source": [
    "print(type(x))"
   ]
  },
  {
   "cell_type": "code",
   "execution_count": 21,
   "id": "d12c06ad",
   "metadata": {},
   "outputs": [],
   "source": [
    "x=int(5)"
   ]
  },
  {
   "cell_type": "code",
   "execution_count": 22,
   "id": "baa53fb6",
   "metadata": {},
   "outputs": [
    {
     "name": "stdout",
     "output_type": "stream",
     "text": [
      "<class 'str'>\n"
     ]
    }
   ],
   "source": [
    "z='hello'\n",
    "print(type(z))\n"
   ]
  },
  {
   "cell_type": "code",
   "execution_count": 23,
   "id": "94bb6694",
   "metadata": {},
   "outputs": [],
   "source": [
    "z=float(\"5\")"
   ]
  },
  {
   "cell_type": "code",
   "execution_count": 24,
   "id": "dbcf0c88",
   "metadata": {},
   "outputs": [
    {
     "ename": "ValueError",
     "evalue": "could not convert string to float: ''",
     "output_type": "error",
     "traceback": [
      "\u001b[31m---------------------------------------------------------------------------\u001b[39m",
      "\u001b[31mValueError\u001b[39m                                Traceback (most recent call last)",
      "\u001b[36mCell\u001b[39m\u001b[36m \u001b[39m\u001b[32mIn[24]\u001b[39m\u001b[32m, line 1\u001b[39m\n\u001b[32m----> \u001b[39m\u001b[32m1\u001b[39m num = \u001b[38;5;28;43mfloat\u001b[39;49m\u001b[43m(\u001b[49m\u001b[38;5;28;43minput\u001b[39;49m\u001b[43m(\u001b[49m\u001b[33;43m\"\u001b[39;49m\u001b[33;43mEnter a floating point number: \u001b[39;49m\u001b[33;43m\"\u001b[39;49m\u001b[43m)\u001b[49m\u001b[43m)\u001b[49m\n\u001b[32m      2\u001b[39m square = num ** \u001b[32m2\u001b[39m\n\u001b[32m      3\u001b[39m cube = num ** \u001b[32m3\u001b[39m\n",
      "\u001b[31mValueError\u001b[39m: could not convert string to float: ''"
     ]
    }
   ],
   "source": [
    "num = float(input(\"Enter a floating point number: \"))\n",
    "square = num ** 2\n",
    "cube = num ** 3\n",
    "square_root = num ** 0.5\n",
    "\n",
    "print(\"Square:\", square)\n",
    "print(\"Cube:\", cube)\n",
    "print(f\"Square Root: {square_root:.2f}\")"
   ]
  },
  {
   "cell_type": "code",
   "execution_count": null,
   "id": "e9b9fbf2",
   "metadata": {},
   "outputs": [],
   "source": [
    "a=[1,2,3,4,5]"
   ]
  },
  {
   "cell_type": "code",
   "execution_count": null,
   "id": "48c3211a",
   "metadata": {},
   "outputs": [
    {
     "data": {
      "text/plain": [
       "15"
      ]
     },
     "execution_count": 2,
     "metadata": {},
     "output_type": "execute_result"
    }
   ],
   "source": [
    "sum(a)"
   ]
  },
  {
   "cell_type": "code",
   "execution_count": null,
   "id": "ae849cee",
   "metadata": {},
   "outputs": [],
   "source": [
    "nums=[0,1,2,4]"
   ]
  },
  {
   "cell_type": "code",
   "execution_count": null,
   "id": "5100c388",
   "metadata": {},
   "outputs": [
    {
     "name": "stdout",
     "output_type": "stream",
     "text": [
      "3\n"
     ]
    }
   ],
   "source": [
    "print(sum(range(len(nums)+1))-sum(nums))"
   ]
  },
  {
   "cell_type": "code",
   "execution_count": null,
   "id": "d05a797e",
   "metadata": {},
   "outputs": [
    {
     "name": "stdout",
     "output_type": "stream",
     "text": [
      "procrastination\n",
      "ocrastin\n",
      "procr\n",
      "orsia\n",
      "aisr\n",
      "noitanitsarcorp\n",
      "otnt\n"
     ]
    }
   ],
   "source": [
    "s='procrastination'\n",
    "#= 012345678910\n",
    "print(s[::])\n",
    "print(s[2:10:])\n",
    "print(s[:5:])\n",
    "print(s[2:12:2])\n",
    "print(s[10:2:-2])\n",
    "print(s[::-1])\n",
    "print(s[-2:-10:-2])\n",
    "#print(s[10:2:2])\n",
    "\n"
   ]
  },
  {
   "cell_type": "code",
   "execution_count": null,
   "id": "6c9e02b0",
   "metadata": {},
   "outputs": [
    {
     "name": "stdout",
     "output_type": "stream",
     "text": [
      "Vowels in s: ['o', 'a', 'i', 'a', 'i', 'o']\n"
     ]
    }
   ],
   "source": [
    "import re\n",
    "\n",
    "vowels = re.findall(r'[aeiou]', s)\n",
    "print(\"Vowels in s:\", vowels)"
   ]
  },
  {
   "cell_type": "code",
   "execution_count": null,
   "id": "0d70d194",
   "metadata": {},
   "outputs": [],
   "source": [
    "cat = \"\"\"the cat sat on the mat and got caught into the matching sweater while the dog watched from the corner, wagging its tail happily as the sun set outside the window.\"\"\""
   ]
  },
  {
   "cell_type": "code",
   "execution_count": null,
   "id": "85bb6e07",
   "metadata": {},
   "outputs": [
    {
     "name": "stdout",
     "output_type": "stream",
     "text": [
      "None\n",
      "<re.Match object; span=(4, 7), match='cat'>\n",
      "['cat', 'cat', 'cat']\n",
      "the dogch slept next to the other dogastrophe\n"
     ]
    }
   ],
   "source": [
    "print(re.match(\"cat\", \"dog cat\"))  # Checks if pattern matches from the beginning\n",
    "print(re.search(\"cat\", \"dog cat\"))  # Searches for the pattern anywhere\n",
    "print(re.findall(\"cat\", \"dog cat dog cat dog cat\"))  # Returns all non-overlapping matches\n",
    "print(re.sub(\"cat\", \"dog\", \"the catch slept next to the other catastrophe\"))   # Replaces pattern with repl"
   ]
  },
  {
   "cell_type": "code",
   "execution_count": null,
   "id": "6777f80e",
   "metadata": {},
   "outputs": [
    {
     "name": "stdout",
     "output_type": "stream",
     "text": [
      "['at', 'at', 'at', 'at', 'at', 'at']\n"
     ]
    }
   ],
   "source": [
    "print(re.findall('at',str))"
   ]
  },
  {
   "cell_type": "code",
   "execution_count": null,
   "id": "67c060d5",
   "metadata": {},
   "outputs": [
    {
     "name": "stdout",
     "output_type": "stream",
     "text": [
      "Counter({'the': 7, 'cat': 1, 'sat': 1, 'on': 1, 'mat': 1, 'and': 1, 'got': 1, 'caught': 1, 'into': 1, 'matching': 1, 'sweater': 1, 'while': 1, 'dog': 1, 'watched': 1, 'from': 1, 'corner': 1, 'wagging': 1, 'its': 1, 'tail': 1, 'happily': 1, 'as': 1, 'sun': 1, 'set': 1, 'outside': 1, 'window': 1})\n"
     ]
    }
   ],
   "source": [
    "from collections import Counter\n",
    "import re\n",
    "words = re.findall(r'\\b\\w+\\b', cat)\n",
    "word_counts = Counter(words)\n",
    "print(word_counts)"
   ]
  },
  {
   "cell_type": "code",
   "execution_count": null,
   "id": "3484e66c",
   "metadata": {},
   "outputs": [
    {
     "name": "stdout",
     "output_type": "stream",
     "text": [
      "Valid emails: ['alice@example.com', 'charlie123@gmail.com', 'david.smith@company.co.uk']\n",
      "Valid phone numbers: ['123-456-7890', '(123) 456-7890', '1234567890', '+1 123 456 7890']\n"
     ]
    }
   ],
   "source": [
    "import re\n",
    "\n",
    "emails = [\n",
    "    \"alice@example.com\",\n",
    "    \"bob_at_example.com\",\n",
    "    \"charlie123@gmail.com\",\n",
    "    \"invalid-email@\",\n",
    "    \"david.smith@company.co.uk\"\n",
    "]\n",
    "\n",
    "phones = [\n",
    "    \"123-456-7890\",\n",
    "    \"(123) 456-7890\",\n",
    "    \"1234567890\",\n",
    "    \"+1 123 456 7890\",\n",
    "    \"98765\"\n",
    "]\n",
    "\n",
    "email_pattern = re.compile(r'^[\\w\\.-]+@[\\w\\.-]+\\.\\w+$')\n",
    "phone_pattern = re.compile(r'^(\\+?\\d{1,2}\\s?)?(\\(?\\d{3}\\)?[\\s-]?)?\\d{3}[\\s-]?\\d{4}$')\n",
    "\n",
    "valid_emails = [email for email in emails if email_pattern.match(email)]\n",
    "valid_phones = [phone for phone in phones if phone_pattern.match(phone)]\n",
    "\n",
    "print(\"Valid emails:\", valid_emails)\n",
    "print(\"Valid phone numbers:\", valid_phones)"
   ]
  },
  {
   "cell_type": "code",
   "execution_count": null,
   "id": "37c06983",
   "metadata": {},
   "outputs": [
    {
     "name": "stdout",
     "output_type": "stream",
     "text": [
      "Multiplication table for 11:\n",
      "11 x 1 = 11\n",
      "11 x 2 = 22\n",
      "11 x 3 = 33\n",
      "11 x 4 = 44\n",
      "11 x 5 = 55\n",
      "11 x 6 = 66\n",
      "11 x 7 = 77\n",
      "11 x 8 = 88\n",
      "11 x 9 = 99\n",
      "11 x 10 = 110\n",
      "11 x 11 = 121\n"
     ]
    }
   ],
   "source": [
    "num = int(input(\"Enter the number for which you want the multiplication table: \"))\n",
    "limit = int(input(\"Enter the limit up to which you want the table: \"))\n",
    "\n",
    "print(f\"Multiplication table for {num}:\")\n",
    "for i in range(1, limit + 1):\n",
    "    print(f\"{num} x {i} = {num * i}\")"
   ]
  },
  {
   "cell_type": "markdown",
   "id": "5ffc0055",
   "metadata": {},
   "source": [
    "#the below solution is used in two sum problem"
   ]
  },
  {
   "cell_type": "code",
   "execution_count": null,
   "id": "576ade56",
   "metadata": {},
   "outputs": [
    {
     "name": "stdout",
     "output_type": "stream",
     "text": [
      "[(1, 0), (2, 1), (3, 2), (4, 3), (5, 4)]\n"
     ]
    }
   ],
   "source": [
    "nums=[1,2,3,4,5]\n",
    "# for i,v in enumerate(nums):\n",
    "#     print(i,v)\n",
    "\n",
    "nums_index = sorted([(num, i) for i, num in enumerate(nums)])\n",
    "print(nums_index)"
   ]
  },
  {
   "cell_type": "code",
   "execution_count": null,
   "id": "c0c4eda7",
   "metadata": {},
   "outputs": [
    {
     "name": "stdout",
     "output_type": "stream",
     "text": [
      "0 1\n",
      "1 2\n",
      "2 3\n",
      "3 4\n",
      "4 5\n"
     ]
    }
   ],
   "source": [
    "for i,num in enumerate(nums):\n",
    "    print(i,num)"
   ]
  },
  {
   "cell_type": "code",
   "execution_count": null,
   "id": "93da19e1",
   "metadata": {},
   "outputs": [
    {
     "name": "stdout",
     "output_type": "stream",
     "text": [
      "[(1, 0), (2, 1), (3, 2), (4, 3), (5, 4)]\n"
     ]
    }
   ],
   "source": [
    "a=[(num,i) for i,num in enumerate(nums)]\n",
    "print(a)"
   ]
  },
  {
   "cell_type": "code",
   "execution_count": null,
   "id": "8b785d9f",
   "metadata": {},
   "outputs": [
    {
     "name": "stdout",
     "output_type": "stream",
     "text": [
      "[(0, 1), (1, 2), (2, 3), (3, 4), (4, 5)]\n"
     ]
    }
   ],
   "source": [
    "a=[(i,num) for i,num in enumerate(nums)]\n",
    "print(a)"
   ]
  },
  {
   "cell_type": "code",
   "execution_count": null,
   "id": "f89ff990",
   "metadata": {},
   "outputs": [
    {
     "name": "stdout",
     "output_type": "stream",
     "text": [
      "[(0, 1), (1, 2), (2, 3), (3, 4), (4, 5)]\n"
     ]
    }
   ],
   "source": [
    "a=sorted([(i,num) for i,num in enumerate(nums)])\n",
    "print(a)"
   ]
  },
  {
   "cell_type": "code",
   "execution_count": null,
   "id": "ebcac680",
   "metadata": {},
   "outputs": [
    {
     "data": {
      "text/plain": [
       "3"
      ]
     },
     "execution_count": 57,
     "metadata": {},
     "output_type": "execute_result"
    }
   ],
   "source": [
    "a[3][0]"
   ]
  },
  {
   "cell_type": "markdown",
   "id": "15db853f",
   "metadata": {},
   "source": [
    "Anagram_mapping"
   ]
  },
  {
   "cell_type": "code",
   "execution_count": null,
   "id": "c0164592",
   "metadata": {},
   "outputs": [],
   "source": [
    "from collections import defaultdict\n",
    "str=['ate','tea','tan','eat','nat','bat']\n",
    "result=[]\n",
    "anagram_map=defaultdict(list)\n",
    "for s in str:\n",
    "    sorted_s=tuple(sorted(s))\n",
    "    anagram_map[sorted_s].append(s)\n"
   ]
  },
  {
   "cell_type": "code",
   "execution_count": null,
   "id": "719afbb0",
   "metadata": {},
   "outputs": [
    {
     "name": "stdout",
     "output_type": "stream",
     "text": [
      "['a', 'e', 't']\n",
      "['a', 'e', 't']\n",
      "['a', 'n', 't']\n",
      "['a', 'e', 't']\n",
      "['a', 'n', 't']\n",
      "['a', 'b', 't']\n"
     ]
    }
   ],
   "source": [
    "for s in str:\n",
    "    print(sorted(s))"
   ]
  },
  {
   "cell_type": "code",
   "execution_count": null,
   "id": "e2aa276d",
   "metadata": {},
   "outputs": [
    {
     "data": {
      "text/plain": [
       "(['ate', 'tea', 'tan', 'eat', 'nat', 'bat'],\n",
       " ('a', 'b', 't'),\n",
       " defaultdict(list,\n",
       "             {('a', 'e', 't'): ['ate', 'tea', 'eat'],\n",
       "              ('a', 'n', 't'): ['tan', 'nat'],\n",
       "              ('a', 'b', 't'): ['bat']}))"
      ]
     },
     "execution_count": 19,
     "metadata": {},
     "output_type": "execute_result"
    }
   ],
   "source": [
    "str,sorted_s,anagram_map"
   ]
  },
  {
   "cell_type": "code",
   "execution_count": null,
   "id": "dc0a4e16",
   "metadata": {},
   "outputs": [
    {
     "name": "stdout",
     "output_type": "stream",
     "text": [
      "[['ate', 'tea', 'eat'], ['tan', 'nat'], ['bat']]\n"
     ]
    }
   ],
   "source": [
    "for val in anagram_map.values():\n",
    "    result.append(val)\n",
    "print(result)"
   ]
  },
  {
   "cell_type": "code",
   "execution_count": null,
   "id": "a464a149",
   "metadata": {},
   "outputs": [],
   "source": [
    "\n",
    "\n",
    "an_map=defaultdict(list)\n",
    "an_map[sorted_s].append(s)"
   ]
  },
  {
   "cell_type": "code",
   "execution_count": null,
   "id": "11f0d076",
   "metadata": {},
   "outputs": [
    {
     "name": "stdout",
     "output_type": "stream",
     "text": [
      "defaultdict(<class 'list'>, {('ate', 'bat', 'eat', 'nat', 'tan', 'tea'): [['ate', 'tea', 'tan', 'eat', 'nat', 'bat']]})\n"
     ]
    }
   ],
   "source": [
    "print(an_map)"
   ]
  },
  {
   "cell_type": "code",
   "execution_count": null,
   "id": "1a9eac0d",
   "metadata": {},
   "outputs": [
    {
     "data": {
      "text/plain": [
       "3"
      ]
     },
     "execution_count": 21,
     "metadata": {},
     "output_type": "execute_result"
    }
   ],
   "source": [
    "jewels='aA'\n",
    "stones='aAAbbbb'\n",
    "#findout no of jewels in stones\n",
    "#expected output =3\n",
    "\n",
    "def lets_calc(jewels,stones):\n",
    "    count=0\n",
    "    for stone in stones:\n",
    "        if stone in jewels:\n",
    "            count+=1\n",
    "    return count\n",
    "\n",
    "lets_calc(jewels,stones)"
   ]
  },
  {
   "cell_type": "markdown",
   "id": "dee59cbf",
   "metadata": {},
   "source": [
    "ransome_magazine   hashmap technique"
   ]
  },
  {
   "cell_type": "code",
   "execution_count": null,
   "id": "fbc2391c",
   "metadata": {},
   "outputs": [],
   "source": [
    "an=\"aabba\"\n",
    "map={}\n",
    "for c in an:\n",
    "    if c in map:\n",
    "        map[c] +=1\n",
    "    else:\n",
    "        map[c]=1"
   ]
  },
  {
   "cell_type": "code",
   "execution_count": null,
   "id": "e4a0c6a4",
   "metadata": {},
   "outputs": [
    {
     "data": {
      "text/plain": [
       "{'a': 3, 'b': 2}"
      ]
     },
     "execution_count": 36,
     "metadata": {},
     "output_type": "execute_result"
    }
   ],
   "source": [
    "map"
   ]
  },
  {
   "cell_type": "code",
   "execution_count": null,
   "id": "104f9a02",
   "metadata": {},
   "outputs": [
    {
     "data": {
      "text/plain": [
       "3"
      ]
     },
     "execution_count": 38,
     "metadata": {},
     "output_type": "execute_result"
    }
   ],
   "source": [
    "map['a']"
   ]
  },
  {
   "cell_type": "code",
   "execution_count": null,
   "id": "d3a7bc24",
   "metadata": {},
   "outputs": [],
   "source": [
    "magazine=\"aabb\"\n",
    "hash_map={}\n",
    "for c in magazine:\n",
    "        if c in hash_map:\n",
    "            hash_map[c] +=1\n",
    "        else:\n",
    "            hash_map[c]=1"
   ]
  },
  {
   "cell_type": "code",
   "execution_count": null,
   "id": "6cbc0356",
   "metadata": {},
   "outputs": [
    {
     "data": {
      "text/plain": [
       "False"
      ]
     },
     "execution_count": 50,
     "metadata": {},
     "output_type": "execute_result"
    }
   ],
   "source": [
    "from collections import Counter\n",
    "nums=[2,14,18,22,22]\n",
    "co=Counter(nums)\n",
    "def cal(nums,co):\n",
    "    count=co\n",
    "    for c in nums:\n",
    "        if count[c]>1:\n",
    "            return True\n",
    "        else:\n",
    "            return False\n",
    "    print(count)\n",
    "\n",
    "cal(nums,co)"
   ]
  },
  {
   "cell_type": "code",
   "execution_count": null,
   "id": "66b85cb5",
   "metadata": {},
   "outputs": [
    {
     "data": {
      "text/plain": [
       "2"
      ]
     },
     "execution_count": 48,
     "metadata": {},
     "output_type": "execute_result"
    }
   ],
   "source": [
    "co[22]"
   ]
  },
  {
   "cell_type": "code",
   "execution_count": null,
   "id": "0471bcdf",
   "metadata": {},
   "outputs": [
    {
     "data": {
      "text/plain": [
       "defaultdict(list,\n",
       "            {'1': ['1', '1', '1'],\n",
       "             '2': ['2', '2'],\n",
       "             '3': ['3'],\n",
       "             '4': ['4'],\n",
       "             '5': ['5'],\n",
       "             '6': ['6']})"
      ]
     },
     "execution_count": 59,
     "metadata": {},
     "output_type": "execute_result"
    }
   ],
   "source": [
    "from collections import defaultdict\n",
    "a=['1','2','3','4','5','6','1','1','2']\n",
    "map=defaultdict(list)\n",
    "for i in a:\n",
    "    map[i].append(i)\n",
    "\n",
    "map"
   ]
  },
  {
   "cell_type": "code",
   "execution_count": null,
   "id": "9736cc29",
   "metadata": {},
   "outputs": [
    {
     "data": {
      "text/plain": [
       "defaultdict(int, {1: 1, 2: 1, 3: 1, 4: 1, 5: 3, 6: 2, 7: 2})"
      ]
     },
     "execution_count": 62,
     "metadata": {},
     "output_type": "execute_result"
    }
   ],
   "source": [
    "map=defaultdict(int)\n",
    "a=[1,2,3,4,5,6,7,5,5,6,7]\n",
    "b=set(a)\n",
    "for i in a:\n",
    "    if i in b:\n",
    "        map[i]+=1\n",
    "map"
   ]
  },
  {
   "cell_type": "markdown",
   "id": "773dd249",
   "metadata": {},
   "source": [
    "387"
   ]
  },
  {
   "cell_type": "code",
   "execution_count": null,
   "id": "93810cb9",
   "metadata": {},
   "outputs": [],
   "source": [
    "from collections import defaultdict\n",
    "s=\"leetcode\"\n",
    "map=defaultdict(int)\n",
    "for c in s:\n",
    "    map[c] +=1"
   ]
  },
  {
   "cell_type": "code",
   "execution_count": null,
   "id": "06c2dd0c",
   "metadata": {},
   "outputs": [
    {
     "data": {
      "text/plain": [
       "defaultdict(int, {'l': 1, 'e': 3, 't': 1, 'c': 1, 'o': 1, 'd': 1})"
      ]
     },
     "execution_count": 8,
     "metadata": {},
     "output_type": "execute_result"
    }
   ],
   "source": [
    "map"
   ]
  },
  {
   "cell_type": "code",
   "execution_count": null,
   "id": "dd513306",
   "metadata": {},
   "outputs": [
    {
     "data": {
      "text/plain": [
       "0"
      ]
     },
     "execution_count": 15,
     "metadata": {},
     "output_type": "execute_result"
    }
   ],
   "source": [
    "def cla(s):\n",
    "    s=\"leetcode\"\n",
    "    map=defaultdict(int)\n",
    "    for c in s:\n",
    "       map[c] +=1\n",
    "    for i,n in enumerate(s):\n",
    "        if map[n]==1:\n",
    "            return i\n",
    "    return -1\n",
    "\n",
    "cla(s) #final"
   ]
  },
  {
   "cell_type": "code",
   "execution_count": null,
   "id": "93956cdc",
   "metadata": {},
   "outputs": [
    {
     "name": "stdout",
     "output_type": "stream",
     "text": [
      "0\n",
      "1\n",
      "2\n",
      "3\n",
      "4\n",
      "5\n",
      "6\n",
      "7\n",
      "8\n",
      "9\n",
      "10\n",
      "11\n",
      "12\n",
      "13\n",
      "14\n",
      "15\n",
      "16\n",
      "17\n",
      "18\n",
      "19\n",
      "20\n",
      "21\n",
      "22\n",
      "23\n",
      "24\n",
      "25\n"
     ]
    }
   ],
   "source": [
    "for i in range(26):\n",
    "    print (i)"
   ]
  },
  {
   "cell_type": "code",
   "execution_count": null,
   "id": "d16f6aad",
   "metadata": {},
   "outputs": [
    {
     "data": {
      "text/plain": [
       "2"
      ]
     },
     "execution_count": 24,
     "metadata": {},
     "output_type": "execute_result"
    }
   ],
   "source": [
    "a='10'\n",
    "b=int(a,2)\n",
    "b"
   ]
  },
  {
   "cell_type": "code",
   "execution_count": null,
   "id": "1e2a15dc",
   "metadata": {},
   "outputs": [
    {
     "name": "stdout",
     "output_type": "stream",
     "text": [
      "Binary representation of 10 is 1010\n"
     ]
    }
   ],
   "source": [
    "decimal_number = int(a)\n",
    "binary_representation = bin(decimal_number)[2:]\n",
    "print(f\"Binary representation of {decimal_number} is {binary_representation}\")"
   ]
  },
  {
   "cell_type": "code",
   "execution_count": null,
   "id": "d8a090ca",
   "metadata": {},
   "outputs": [],
   "source": [
    "# The bin() function converts an integer to its binary representation as a string, prefixed with '0b'.\n",
    "# Example:\n",
    "print(bin(decimal_number))  # Output: '0b1010'"
   ]
  },
  {
   "cell_type": "code",
   "execution_count": null,
   "id": "fcd35c82",
   "metadata": {},
   "outputs": [
    {
     "data": {
      "text/plain": [
       "1.22221"
      ]
     },
     "execution_count": 6,
     "metadata": {},
     "output_type": "execute_result"
    }
   ],
   "source": [
    "a=122221\n",
    "a/100000"
   ]
  },
  {
   "cell_type": "code",
   "execution_count": null,
   "id": "3e1dbe1c",
   "metadata": {},
   "outputs": [
    {
     "data": {
      "text/plain": [
       "1"
      ]
     },
     "execution_count": 7,
     "metadata": {},
     "output_type": "execute_result"
    }
   ],
   "source": [
    "a%10"
   ]
  },
  {
   "cell_type": "code",
   "execution_count": null,
   "id": "45d865d4",
   "metadata": {},
   "outputs": [],
   "source": [
    "print(\"a / 100000 =\", a / 100000)   # Division: quotient as float\n",
    "print(\"a % 100000 =\", a % 100000)   # Modulo: remainder as int"
   ]
  },
  {
   "cell_type": "code",
   "execution_count": null,
   "id": "b0cb4ae6",
   "metadata": {},
   "outputs": [
    {
     "data": {
      "text/plain": [
       "12.1"
      ]
     },
     "execution_count": 22,
     "metadata": {},
     "output_type": "execute_result"
    }
   ],
   "source": [
    "a='121'\n",
    "div=1\n",
    "if len(a)<div*10:\n",
    "    div *=10\n",
    "\n",
    "div\n",
    "int(a)/div"
   ]
  },
  {
   "cell_type": "code",
   "execution_count": null,
   "id": "596d18c0",
   "metadata": {},
   "outputs": [
    {
     "name": "stdout",
     "output_type": "stream",
     "text": [
      "\u001b[4mThis is underlined text\u001b[0m\n"
     ]
    }
   ],
   "source": [
    "text = \"This is underlined text\"\n",
    "print(\"\\033[4m\" + text + \"\\033[0m\")\n"
   ]
  },
  {
   "cell_type": "code",
   "execution_count": null,
   "id": "8b74c2e5",
   "metadata": {},
   "outputs": [],
   "source": [
    "nums1=[1,2,3,4,0,0,0]\n",
    "nums2=[2,5,6]\n",
    "a=sorted(nums1)\n",
    "b=sorted(nums2)"
   ]
  },
  {
   "cell_type": "code",
   "execution_count": null,
   "id": "56cccb6f",
   "metadata": {},
   "outputs": [
    {
     "name": "stdout",
     "output_type": "stream",
     "text": [
      "[0, 0, 0, 1, 2, 3, 4]\n",
      "[2, 5, 6]\n"
     ]
    }
   ],
   "source": [
    "print(a)\n",
    "print(b)"
   ]
  },
  {
   "cell_type": "code",
   "execution_count": null,
   "id": "25774a9c",
   "metadata": {},
   "outputs": [],
   "source": [
    "\n",
    "        # Remove all zeros from nums1\n",
    "nums1 = [x for x in nums1 if x != 0]\n",
    "nums2 = [x for x in nums2 if x != 0]"
   ]
  },
  {
   "cell_type": "code",
   "execution_count": null,
   "id": "00a04bf2",
   "metadata": {},
   "outputs": [
    {
     "data": {
      "text/plain": [
       "([1, 2, 3, 4], [2, 5, 6])"
      ]
     },
     "execution_count": 63,
     "metadata": {},
     "output_type": "execute_result"
    }
   ],
   "source": [
    "nums1,nums2"
   ]
  },
  {
   "cell_type": "code",
   "execution_count": null,
   "id": "a2180c0a",
   "metadata": {},
   "outputs": [
    {
     "data": {
      "text/plain": [
       "[1, 2, 2, 3, 4, 5, 6]"
      ]
     },
     "execution_count": 69,
     "metadata": {},
     "output_type": "execute_result"
    }
   ],
   "source": [
    "nums1=nums1+nums2\n",
    "nums1=sorted(nums1)\n",
    "nums1"
   ]
  },
  {
   "cell_type": "code",
   "execution_count": null,
   "id": "a6fb09d6",
   "metadata": {},
   "outputs": [],
   "source": [
    "nums1[m:]=nums2\n",
    "nums1.sort()"
   ]
  },
  {
   "cell_type": "code",
   "execution_count": null,
   "id": "75c1bca4",
   "metadata": {},
   "outputs": [
    {
     "data": {
      "text/plain": [
       "[1, 2, 2, 3, 3]"
      ]
     },
     "execution_count": 72,
     "metadata": {},
     "output_type": "execute_result"
    }
   ],
   "source": [
    "nums1"
   ]
  },
  {
   "cell_type": "code",
   "execution_count": null,
   "id": "61877f60",
   "metadata": {},
   "outputs": [
    {
     "data": {
      "text/plain": [
       "[1, 2, 2, 2, 3]"
      ]
     },
     "execution_count": 75,
     "metadata": {},
     "output_type": "execute_result"
    }
   ],
   "source": [
    "nums1[3:]=nums2\n",
    "nums1"
   ]
  },
  {
   "cell_type": "code",
   "execution_count": null,
   "id": "2b987b99",
   "metadata": {},
   "outputs": [
    {
     "data": {
      "text/plain": [
       "[2, 3]"
      ]
     },
     "execution_count": 77,
     "metadata": {},
     "output_type": "execute_result"
    }
   ],
   "source": [
    "nums1[3:]"
   ]
  },
  {
   "cell_type": "code",
   "execution_count": null,
   "id": "86b72943",
   "metadata": {},
   "outputs": [
    {
     "data": {
      "text/plain": [
       "[1, 2, 3, 4, 2, 3]"
      ]
     },
     "execution_count": 89,
     "metadata": {},
     "output_type": "execute_result"
    }
   ],
   "source": [
    "a=[1,2,3,4,0,0,0]\n",
    "m=4\n",
    "b=[2,3,4]\n",
    "\n",
    "a[4:]=b[:2]\n",
    "a"
   ]
  },
  {
   "cell_type": "code",
   "execution_count": null,
   "id": "b6f2966a",
   "metadata": {},
   "outputs": [
    {
     "data": {
      "text/plain": [
       "1"
      ]
     },
     "execution_count": 96,
     "metadata": {},
     "output_type": "execute_result"
    }
   ],
   "source": [
    "1221//1000\n",
    "1221%10\n"
   ]
  },
  {
   "cell_type": "code",
   "execution_count": null,
   "id": "3a733aac",
   "metadata": {},
   "outputs": [],
   "source": [
    "nums=[1,0,1,1,1,2,3]\n",
    "nums.sort(key=lambda x: x == 1)"
   ]
  },
  {
   "cell_type": "code",
   "execution_count": null,
   "id": "bd703043",
   "metadata": {},
   "outputs": [
    {
     "data": {
      "text/plain": [
       "[0, 2, 3, 1, 1, 1, 1]"
      ]
     },
     "execution_count": 105,
     "metadata": {},
     "output_type": "execute_result"
    }
   ],
   "source": [
    "nums"
   ]
  },
  {
   "cell_type": "code",
   "execution_count": null,
   "id": "fbd83392",
   "metadata": {},
   "outputs": [
    {
     "data": {
      "text/plain": [
       "['a', 'a', 'bc', 'bb', 'aaa']"
      ]
     },
     "execution_count": 107,
     "metadata": {},
     "output_type": "execute_result"
    }
   ],
   "source": [
    "a=['a','bc','aaa','a','bb']\n",
    "a.sort(key=len)\n",
    "\n",
    "a\n"
   ]
  },
  {
   "cell_type": "code",
   "execution_count": null,
   "id": "d3538127",
   "metadata": {},
   "outputs": [
    {
     "name": "stdout",
     "output_type": "stream",
     "text": [
      "[1, 3]\n"
     ]
    }
   ],
   "source": [
    "nums = [1, 2, 3, 4]\n",
    "target = 6\n",
    "\n",
    "num_map = {}\n",
    "for i, num in enumerate(nums):\n",
    "    complement = target - num\n",
    "    if complement in num_map:\n",
    "        print([num_map[complement], i])\n",
    "        break\n",
    "    num_map[num] = i #0 1. 1 2. 2 3. \n"
   ]
  },
  {
   "cell_type": "markdown",
   "id": "2bf29e28",
   "metadata": {},
   "source": [
    "-----------------------------------------------------------------------------------------------------------------------------------------------------------"
   ]
  },
  {
   "cell_type": "markdown",
   "id": "64553390",
   "metadata": {},
   "source": [
    "JUN 25 2025 "
   ]
  },
  {
   "cell_type": "markdown",
   "id": "a5a65801",
   "metadata": {},
   "source": [
    "No of rectangles in a square"
   ]
  },
  {
   "cell_type": "code",
   "execution_count": null,
   "id": "54f79540",
   "metadata": {},
   "outputs": [
    {
     "data": {
      "text/plain": [
       "36"
      ]
     },
     "execution_count": 38,
     "metadata": {},
     "output_type": "execute_result"
    }
   ],
   "source": [
    "m=3 \n",
    "n=3\n",
    "def calc(m,n):\n",
    "    res=(m*(m+1)//2)*(n*(n+1)//2)\n",
    "    return res\n",
    "\n",
    "calc(m, n)\n"
   ]
  },
  {
   "cell_type": "markdown",
   "id": "47a7a2f3",
   "metadata": {},
   "source": [
    "no of squares in a recatngele\n"
   ]
  },
  {
   "cell_type": "markdown",
   "id": "714f1f29",
   "metadata": {},
   "source": [
    "3*4\n",
    "2*3\n",
    "1*2"
   ]
  },
  {
   "cell_type": "code",
   "execution_count": null,
   "id": "f34bd1ea",
   "metadata": {},
   "outputs": [
    {
     "name": "stdout",
     "output_type": "stream",
     "text": [
      "20\n"
     ]
    }
   ],
   "source": [
    "#method 1\n",
    "m=3\n",
    "n=4\n",
    "a=0\n",
    "b=0\n",
    "sum=0\n",
    "for i in range(1,m+1):\n",
    "    sum+=(m*n)\n",
    "    m-=1\n",
    "    n-=1\n",
    "print(sum)\n",
    "\n"
   ]
  },
  {
   "cell_type": "code",
   "execution_count": null,
   "id": "a6732d93",
   "metadata": {},
   "outputs": [
    {
     "name": "stdout",
     "output_type": "stream",
     "text": [
      "40\n"
     ]
    }
   ],
   "source": [
    "#method2\n",
    "\n",
    "def sq(m,n):\n",
    "    sum=0\n",
    "    mi=min(m,n)\n",
    "    for i in range(1,mi+1):\n",
    "        sum=sum+((m-i+1)*(n-i+1))\n",
    " \n",
    "    print(sum)\n",
    "\n",
    "\n",
    "sq(5,4)\n"
   ]
  },
  {
   "cell_type": "code",
   "execution_count": null,
   "id": "caa0af17",
   "metadata": {},
   "outputs": [
    {
     "data": {
      "text/plain": [
       "60"
      ]
     },
     "execution_count": 35,
     "metadata": {},
     "output_type": "execute_result"
    }
   ],
   "source": [
    "m=3\n",
    "n=4\n",
    "\n",
    "def calc(m,n):\n",
    "    res=0\n",
    "    a=0\n",
    "    b=0\n",
    "    for i in range(m+1):\n",
    "        a+=i\n",
    "    for i in range(n+1):\n",
    "        b+=i\n",
    "    res=a*b\n",
    "    return res\n",
    "\n",
    "calc(m,n)\n",
    "\n"
   ]
  },
  {
   "cell_type": "markdown",
   "id": "e6ed67a3",
   "metadata": {},
   "source": [
    "Q3.)write a code to find out factors of an given integer.\n",
    "\n",
    "constraints\n",
    "\n",
    "1>=n<=10**15\n",
    "\n",
    "input 10\n",
    "output [1,2,5,10]\n",
    "\n"
   ]
  },
  {
   "cell_type": "code",
   "execution_count": null,
   "id": "ce5abb04",
   "metadata": {},
   "outputs": [
    {
     "data": {
      "text/plain": [
       "[1, 2]"
      ]
     },
     "execution_count": 85,
     "metadata": {},
     "output_type": "execute_result"
    }
   ],
   "source": [
    "def fact(num):\n",
    "    li=[]\n",
    "    for i in range(1,num//2):\n",
    "        if num % i==0:\n",
    "            li.append(i)\n",
    "    return li\n",
    "\n",
    "fact(10**1)\n",
    "\n"
   ]
  },
  {
   "cell_type": "code",
   "execution_count": null,
   "id": "bbaf0b44",
   "metadata": {},
   "outputs": [],
   "source": [
    "def fact(num):\n",
    "    li=[]\n",
    "    for i in range(1,num):\n",
    "        if num/i=:\n",
    "            li.append(i)\n",
    "    return li\n",
    "\n",
    "fact(10**15)"
   ]
  },
  {
   "cell_type": "code",
   "execution_count": null,
   "id": "4d76b01a",
   "metadata": {},
   "outputs": [
    {
     "name": "stdout",
     "output_type": "stream",
     "text": [
      "[1, 2, 4, 5, 8, 10, 16, 20, 25, 32, 40, 50, 64, 80, 100, 125, 128, 160, 200, 250, 256, 320, 400, 500, 512, 625, 640, 800, 1000, 1250, 1280, 1600, 2000, 2500, 2560, 3125, 3200, 4000, 5000, 6250, 6400, 8000, 10000, 12500, 12800, 15625, 16000, 20000, 25000, 31250, 32000, 40000, 50000, 62500, 64000, 78125, 80000, 100000, 125000, 156250, 160000, 200000, 250000, 312500, 320000, 390625, 400000, 500000, 625000, 781250, 800000, 1000000, 1250000, 1562500, 1600000, 1953125, 2000000, 2500000, 3125000, 3906250, 4000000, 5000000, 6250000, 7812500, 8000000, 10000000, 12500000, 15625000, 20000000, 25000000, 31250000, 40000000, 50000000, 62500000, 100000000, 125000000, 200000000, 250000000, 500000000, 1000000000]\n"
     ]
    }
   ],
   "source": [
    "a=int(input())\n",
    "def fact(num):\n",
    "    li=[]\n",
    "    for i in range(1,int((num**0.5))+1):\n",
    "        if num % i==0 :\n",
    "            li.append(i)\n",
    "            if i !=num//i:\n",
    "                li.append(num//i)\n",
    "    return li\n",
    "\n",
    "\n",
    "print(sorted(fact(a)))\n"
   ]
  },
  {
   "cell_type": "code",
   "execution_count": null,
   "id": "e75faee1",
   "metadata": {},
   "outputs": [
    {
     "data": {
      "text/plain": [
       "30.0"
      ]
     },
     "execution_count": 106,
     "metadata": {},
     "output_type": "execute_result"
    }
   ],
   "source": [
    "import math\n",
    "math.fsum([10, 20]) #predefined "
   ]
  },
  {
   "cell_type": "markdown",
   "id": "70345e6d",
   "metadata": {},
   "source": [
    "write a code to find a given num is armstrong or not by the given function\n",
    "\n",
    "constraints\n",
    "\n",
    "1>=n<=10**10\n",
    "\n",
    "\n",
    "a number is armstrong if the cube of its digits form the same number\n",
    "\n",
    "153.     1^3+5^3+3^3=153"
   ]
  },
  {
   "cell_type": "code",
   "execution_count": null,
   "id": "0788b721",
   "metadata": {},
   "outputs": [
    {
     "data": {
      "text/plain": [
       "True"
      ]
     },
     "execution_count": 121,
     "metadata": {},
     "output_type": "execute_result"
    }
   ],
   "source": [
    "def arm(num):\n",
    "    sum=0\n",
    "    d=str(num)\n",
    "    for n in d:\n",
    "        sum +=int(n)**3\n",
    "    if sum==num:\n",
    "        return True\n",
    "    else:\n",
    "        return False\n",
    "    \n",
    "arm(153)"
   ]
  },
  {
   "cell_type": "code",
   "execution_count": null,
   "id": "1d1d89e3",
   "metadata": {},
   "outputs": [
    {
     "name": "stdout",
     "output_type": "stream",
     "text": [
      "False\n"
     ]
    }
   ],
   "source": [
    "def arm(num):\n",
    "    sum = 0\n",
    "    digits = str(num)\n",
    "    for n in digits:\n",
    "        sum += int(n) ** 3\n",
    "    return sum == num\n",
    "       \n",
    "print(arm(19999999111111111111112233241224341)) "
   ]
  },
  {
   "cell_type": "code",
   "execution_count": null,
   "id": "c1a3c36c",
   "metadata": {},
   "outputs": [
    {
     "data": {
      "text/plain": [
       "1.53"
      ]
     },
     "execution_count": 126,
     "metadata": {},
     "output_type": "execute_result"
    }
   ],
   "source": [
    "153/100\n"
   ]
  },
  {
   "cell_type": "code",
   "execution_count": null,
   "id": "116ab35b",
   "metadata": {},
   "outputs": [
    {
     "data": {
      "text/plain": [
       "3"
      ]
     },
     "execution_count": 129,
     "metadata": {},
     "output_type": "execute_result"
    }
   ],
   "source": [
    "153%10"
   ]
  },
  {
   "cell_type": "markdown",
   "id": "ebbd2842",
   "metadata": {},
   "source": [
    "write a program to find if an number is jumping number or not if not return the previous jumping number.\n",
    "\n",
    "note:\n",
    "use of list is not allowed\n",
    "\n",
    "\n",
    "test cases\n",
    "input:7678\n",
    "output:True\n",
    "\n",
    "input :5000\n",
    "output: false"
   ]
  },
  {
   "cell_type": "code",
   "execution_count": null,
   "id": "680cd23f",
   "metadata": {},
   "outputs": [
    {
     "name": "stdout",
     "output_type": "stream",
     "text": [
      "True\n"
     ]
    }
   ],
   "source": [
    "def jum(num):\n",
    "    num=str(num)\n",
    "    for i in range(len(num)-1):\n",
    "        if abs(int(num[i])-int(num[i+1]))==1:\n",
    "            return True\n",
    "    return False\n",
    "\n",
    "print(jum(76))"
   ]
  },
  {
   "cell_type": "markdown",
   "id": "cbb719b4",
   "metadata": {},
   "source": [
    "splitting no through mod"
   ]
  },
  {
   "cell_type": "code",
   "execution_count": null,
   "id": "6dd46c70",
   "metadata": {},
   "outputs": [],
   "source": []
  },
  {
   "cell_type": "code",
   "execution_count": null,
   "id": "a865111d",
   "metadata": {},
   "outputs": [
    {
     "name": "stdout",
     "output_type": "stream",
     "text": [
      "6\n",
      "[6]\n"
     ]
    },
    {
     "data": {
      "text/plain": [
       "178"
      ]
     },
     "execution_count": 160,
     "metadata": {},
     "output_type": "execute_result"
    }
   ],
   "source": [
    "arr=[]\n",
    "num=1786\n",
    "temp=1786%10\n",
    "print(temp)\n",
    "arr.append(temp)\n",
    "print(arr)\n",
    "num=num//10\n",
    "num\n",
    "# arr=[]\n",
    "# arr=[]\n",
    "# arr=arr.append(temp)\n",
    "# print(arr)\n",
    "\n",
    "# 1786//10"
   ]
  },
  {
   "cell_type": "markdown",
   "id": "3af0ba08",
   "metadata": {},
   "source": [
    "recursion "
   ]
  },
  {
   "cell_type": "code",
   "execution_count": null,
   "id": "0e2c4afe",
   "metadata": {},
   "outputs": [
    {
     "name": "stdout",
     "output_type": "stream",
     "text": [
      "10\n",
      "9\n",
      "8\n",
      "7\n",
      "6\n",
      "5\n",
      "4\n",
      "3\n",
      "2\n",
      "1\n"
     ]
    }
   ],
   "source": [
    "def num(a):\n",
    "    if a==0:\n",
    "        return 0\n",
    "    print(a)\n",
    "    num(a-1)\n",
    "\n",
    "num(10)\n"
   ]
  },
  {
   "cell_type": "markdown",
   "id": "c7b35eca",
   "metadata": {},
   "source": [
    "recursion chain"
   ]
  },
  {
   "cell_type": "code",
   "execution_count": null,
   "id": "9db8bfca",
   "metadata": {},
   "outputs": [
    {
     "name": "stdout",
     "output_type": "stream",
     "text": [
      "123456789"
     ]
    }
   ],
   "source": [
    "def func1(n):\n",
    "    if n==10:\n",
    "        return\n",
    "    print(n,end=\"\")\n",
    "    func2(n+1)\n",
    "def func2(n):\n",
    "    if n==10:\n",
    "        return\n",
    "    print(n,end=\"\")\n",
    "    func1(n+1)\n",
    "\n",
    "func1(1)"
   ]
  },
  {
   "cell_type": "markdown",
   "id": "4fd4c4f8",
   "metadata": {},
   "source": [
    "tail recursion"
   ]
  },
  {
   "cell_type": "code",
   "execution_count": null,
   "id": "523c8d68",
   "metadata": {},
   "outputs": [
    {
     "data": {
      "text/plain": [
       "120"
      ]
     },
     "execution_count": 171,
     "metadata": {},
     "output_type": "execute_result"
    }
   ],
   "source": [
    "#factorial of an number\n",
    "\n",
    "def rec(n,ans=1):\n",
    "    if n==1:\n",
    "        return 1\n",
    "    return n*rec(n-1)\n",
    "\n",
    "rec(5)"
   ]
  },
  {
   "cell_type": "code",
   "execution_count": null,
   "id": "d29cee3d",
   "metadata": {},
   "outputs": [
    {
     "data": {
      "text/plain": [
       "2"
      ]
     },
     "execution_count": 174,
     "metadata": {},
     "output_type": "execute_result"
    }
   ],
   "source": [
    "def fib(n,ans=1):\n",
    "    if n==0:\n",
    "        return 0\n",
    "    elif n==1:\n",
    "        return 1\n",
    "    return fib(n-1)+fib(n-2)\n",
    "\n",
    "fib(3)"
   ]
  },
  {
   "cell_type": "markdown",
   "id": "1c3078c5",
   "metadata": {},
   "source": [
    "1.)prime factor\n",
    "2.)pascal triangel tour function\n",
    "3.)recursive digit sum-recursive arithmatic\n",
    "4.)ugly number"
   ]
  },
  {
   "cell_type": "code",
   "execution_count": null,
   "id": "57c59357",
   "metadata": {},
   "outputs": [
    {
     "data": {
      "text/plain": [
       "[2, 5]"
      ]
     },
     "execution_count": 191,
     "metadata": {},
     "output_type": "execute_result"
    }
   ],
   "source": [
    "def prime_factors(num):\n",
    "    factors = []\n",
    "    i = 2\n",
    "    while i * i <= num:\n",
    "        while num % i == 0:\n",
    "            factors.append(i)\n",
    "            num //= i\n",
    "        i += 1\n",
    "    if num > 1:\n",
    "        factors.append(num)\n",
    "    return list(set(factors))\n",
    "\n",
    "# def p_no(a):\n",
    "#     p=[]\n",
    "#     for a in a:\n",
    "#         if a%2!=0 and a/a==1:\n",
    "#             p.append(a)\n",
    "#     return p\n",
    "\n",
    "\n",
    "prime_factors(100)\n",
    "\n",
    "# print(p_no(a))"
   ]
  },
  {
   "cell_type": "code",
   "execution_count": null,
   "id": "510fb743",
   "metadata": {},
   "outputs": [
    {
     "data": {
      "text/plain": [
       "21"
      ]
     },
     "execution_count": 192,
     "metadata": {},
     "output_type": "execute_result"
    }
   ],
   "source": [
    "121%100"
   ]
  },
  {
   "cell_type": "code",
   "execution_count": null,
   "id": "c9e89675",
   "metadata": {},
   "outputs": [
    {
     "data": {
      "text/plain": [
       "1"
      ]
     },
     "execution_count": 207,
     "metadata": {},
     "output_type": "execute_result"
    }
   ],
   "source": [
    "121%10"
   ]
  },
  {
   "cell_type": "code",
   "execution_count": null,
   "id": "ef6341e9",
   "metadata": {},
   "outputs": [
    {
     "data": {
      "text/plain": [
       "12"
      ]
     },
     "execution_count": 194,
     "metadata": {},
     "output_type": "execute_result"
    }
   ],
   "source": [
    "121//10"
   ]
  },
  {
   "cell_type": "code",
   "execution_count": null,
   "id": "1b179c6e",
   "metadata": {},
   "outputs": [
    {
     "data": {
      "text/plain": [
       "1"
      ]
     },
     "execution_count": 195,
     "metadata": {},
     "output_type": "execute_result"
    }
   ],
   "source": [
    "121//100"
   ]
  },
  {
   "cell_type": "code",
   "execution_count": null,
   "id": "d704b6f0",
   "metadata": {},
   "outputs": [
    {
     "data": {
      "text/plain": [
       "22"
      ]
     },
     "execution_count": 203,
     "metadata": {},
     "output_type": "execute_result"
    }
   ],
   "source": [
    "(1221%1000)//10"
   ]
  },
  {
   "cell_type": "code",
   "execution_count": null,
   "id": "9f21af22",
   "metadata": {},
   "outputs": [],
   "source": [
    "12"
   ]
  },
  {
   "cell_type": "code",
   "execution_count": null,
   "id": "8c2aad9c",
   "metadata": {},
   "outputs": [
    {
     "data": {
      "text/plain": [
       "22.1"
      ]
     },
     "execution_count": 210,
     "metadata": {},
     "output_type": "execute_result"
    }
   ],
   "source": [
    "(1221%1000)/10"
   ]
  },
  {
   "cell_type": "code",
   "execution_count": null,
   "id": "de38c625",
   "metadata": {},
   "outputs": [
    {
     "data": {
      "text/plain": [
       "['1', '2', '2', '1']"
      ]
     },
     "execution_count": 211,
     "metadata": {},
     "output_type": "execute_result"
    }
   ],
   "source": [
    "a=1221\n",
    "b=str(1221)\n",
    "list=[f for f in b]\n",
    "list"
   ]
  },
  {
   "cell_type": "code",
   "execution_count": null,
   "id": "0a1206eb",
   "metadata": {},
   "outputs": [
    {
     "data": {
      "text/plain": [
       "['1', '2', '2', '1']"
      ]
     },
     "execution_count": 219,
     "metadata": {},
     "output_type": "execute_result"
    }
   ],
   "source": [
    "r_list=list[::-1]\n",
    "r_list"
   ]
  },
  {
   "cell_type": "code",
   "execution_count": null,
   "id": "bfb0a172",
   "metadata": {},
   "outputs": [
    {
     "data": {
      "text/plain": [
       "'1221'"
      ]
     },
     "execution_count": 220,
     "metadata": {},
     "output_type": "execute_result"
    }
   ],
   "source": [
    "rev=\"\".join(r_list)\n",
    "rev"
   ]
  },
  {
   "cell_type": "code",
   "execution_count": null,
   "id": "852775d4",
   "metadata": {},
   "outputs": [
    {
     "data": {
      "text/plain": [
       "'0b11110100101'"
      ]
     },
     "execution_count": 3,
     "metadata": {},
     "output_type": "execute_result"
    }
   ],
   "source": [
    "a=1101\n",
    "b=1000\n",
    "\n",
    "bin(a^b)"
   ]
  },
  {
   "cell_type": "markdown",
   "id": "85764ffc",
   "metadata": {},
   "source": [
    "tower of hanoi consists of 3 rods (a b c) and a set of 3 diff disk that can be stacked on the top of eachother. a objective is to move the entire stack of disk from rod a to rod c with the following rules\n",
    "\n",
    "1.> one disk can be moved ata time\n",
    "2.> each move consists of taking the top disks from one of the stacks and placing it  on top of another stack or an empty stack\n",
    "3.> no disk can be placed on top of a small disk\n",
    "\n",
    "input :\n",
    "3 \n",
    "output :\n",
    "move disk 1 from a to c\n",
    "move disk 2 from a to b\n",
    "move disk 1 from c to b\n",
    "move disk 3 from a to c\n",
    "move disk 1 from b to a\n",
    "move disk 2 from b to c\n",
    "move disk 1 from a to c\n",
    "```python\n",
    "\n",
    "```"
   ]
  },
  {
   "cell_type": "code",
   "execution_count": null,
   "id": "aa52d4eb",
   "metadata": {},
   "outputs": [],
   "source": []
  },
  {
   "cell_type": "code",
   "execution_count": null,
   "id": "cf037d6f",
   "metadata": {},
   "outputs": [],
   "source": []
  },
  {
   "cell_type": "code",
   "execution_count": null,
   "id": "644bf242",
   "metadata": {},
   "outputs": [],
   "source": []
  },
  {
   "cell_type": "code",
   "execution_count": null,
   "id": "64e4f913",
   "metadata": {},
   "outputs": [
    {
     "name": "stdout",
     "output_type": "stream",
     "text": [
      "move disk 1 from a to b\n",
      "move disk 2 from a to c\n",
      "move disk 1 from b to c\n",
      "move disk 3 from a to b\n",
      "move disk 1 from c to a\n",
      "move disk 2 from c to b\n",
      "move disk 1 from a to b\n",
      "move disk 4 from a to c\n",
      "move disk 1 from b to c\n",
      "move disk 2 from b to a\n",
      "move disk 1 from c to a\n",
      "move disk 3 from b to c\n",
      "move disk 1 from a to b\n",
      "move disk 2 from a to c\n",
      "move disk 1 from b to c\n",
      "move disk 5 from a to b\n",
      "move disk 1 from c to a\n",
      "move disk 2 from c to b\n",
      "move disk 1 from a to b\n",
      "move disk 3 from c to a\n",
      "move disk 1 from b to c\n",
      "move disk 2 from b to a\n",
      "move disk 1 from c to a\n",
      "move disk 4 from c to b\n",
      "move disk 1 from a to b\n",
      "move disk 2 from a to c\n",
      "move disk 1 from b to c\n",
      "move disk 3 from a to b\n",
      "move disk 1 from c to a\n",
      "move disk 2 from c to b\n",
      "move disk 1 from a to b\n",
      "move disk 6 from a to c\n",
      "move disk 1 from b to c\n",
      "move disk 2 from b to a\n",
      "move disk 1 from c to a\n",
      "move disk 3 from b to c\n",
      "move disk 1 from a to b\n",
      "move disk 2 from a to c\n",
      "move disk 1 from b to c\n",
      "move disk 4 from b to a\n",
      "move disk 1 from c to a\n",
      "move disk 2 from c to b\n",
      "move disk 1 from a to b\n",
      "move disk 3 from c to a\n",
      "move disk 1 from b to c\n",
      "move disk 2 from b to a\n",
      "move disk 1 from c to a\n",
      "move disk 5 from b to c\n",
      "move disk 1 from a to b\n",
      "move disk 2 from a to c\n",
      "move disk 1 from b to c\n",
      "move disk 3 from a to b\n",
      "move disk 1 from c to a\n",
      "move disk 2 from c to b\n",
      "move disk 1 from a to b\n",
      "move disk 4 from a to c\n",
      "move disk 1 from b to c\n",
      "move disk 2 from b to a\n",
      "move disk 1 from c to a\n",
      "move disk 3 from b to c\n",
      "move disk 1 from a to b\n",
      "move disk 2 from a to c\n",
      "move disk 1 from b to c\n",
      "move disk 7 from a to b\n",
      "move disk 1 from c to a\n",
      "move disk 2 from c to b\n",
      "move disk 1 from a to b\n",
      "move disk 3 from c to a\n",
      "move disk 1 from b to c\n",
      "move disk 2 from b to a\n",
      "move disk 1 from c to a\n",
      "move disk 4 from c to b\n",
      "move disk 1 from a to b\n",
      "move disk 2 from a to c\n",
      "move disk 1 from b to c\n",
      "move disk 3 from a to b\n",
      "move disk 1 from c to a\n",
      "move disk 2 from c to b\n",
      "move disk 1 from a to b\n",
      "move disk 5 from c to a\n",
      "move disk 1 from b to c\n",
      "move disk 2 from b to a\n",
      "move disk 1 from c to a\n",
      "move disk 3 from b to c\n",
      "move disk 1 from a to b\n",
      "move disk 2 from a to c\n",
      "move disk 1 from b to c\n",
      "move disk 4 from b to a\n",
      "move disk 1 from c to a\n",
      "move disk 2 from c to b\n",
      "move disk 1 from a to b\n",
      "move disk 3 from c to a\n",
      "move disk 1 from b to c\n",
      "move disk 2 from b to a\n",
      "move disk 1 from c to a\n",
      "move disk 6 from c to b\n",
      "move disk 1 from a to b\n",
      "move disk 2 from a to c\n",
      "move disk 1 from b to c\n",
      "move disk 3 from a to b\n",
      "move disk 1 from c to a\n",
      "move disk 2 from c to b\n",
      "move disk 1 from a to b\n",
      "move disk 4 from a to c\n",
      "move disk 1 from b to c\n",
      "move disk 2 from b to a\n",
      "move disk 1 from c to a\n",
      "move disk 3 from b to c\n",
      "move disk 1 from a to b\n",
      "move disk 2 from a to c\n",
      "move disk 1 from b to c\n",
      "move disk 5 from a to b\n",
      "move disk 1 from c to a\n",
      "move disk 2 from c to b\n",
      "move disk 1 from a to b\n",
      "move disk 3 from c to a\n",
      "move disk 1 from b to c\n",
      "move disk 2 from b to a\n",
      "move disk 1 from c to a\n",
      "move disk 4 from c to b\n",
      "move disk 1 from a to b\n",
      "move disk 2 from a to c\n",
      "move disk 1 from b to c\n",
      "move disk 3 from a to b\n",
      "move disk 1 from c to a\n",
      "move disk 2 from c to b\n",
      "move disk 1 from a to b\n",
      "move disk 8 from a to c\n",
      "move disk 1 from b to c\n",
      "move disk 2 from b to a\n",
      "move disk 1 from c to a\n",
      "move disk 3 from b to c\n",
      "move disk 1 from a to b\n",
      "move disk 2 from a to c\n",
      "move disk 1 from b to c\n",
      "move disk 4 from b to a\n",
      "move disk 1 from c to a\n",
      "move disk 2 from c to b\n",
      "move disk 1 from a to b\n",
      "move disk 3 from c to a\n",
      "move disk 1 from b to c\n",
      "move disk 2 from b to a\n",
      "move disk 1 from c to a\n",
      "move disk 5 from b to c\n",
      "move disk 1 from a to b\n",
      "move disk 2 from a to c\n",
      "move disk 1 from b to c\n",
      "move disk 3 from a to b\n",
      "move disk 1 from c to a\n",
      "move disk 2 from c to b\n",
      "move disk 1 from a to b\n",
      "move disk 4 from a to c\n",
      "move disk 1 from b to c\n",
      "move disk 2 from b to a\n",
      "move disk 1 from c to a\n",
      "move disk 3 from b to c\n",
      "move disk 1 from a to b\n",
      "move disk 2 from a to c\n",
      "move disk 1 from b to c\n",
      "move disk 6 from b to a\n",
      "move disk 1 from c to a\n",
      "move disk 2 from c to b\n",
      "move disk 1 from a to b\n",
      "move disk 3 from c to a\n",
      "move disk 1 from b to c\n",
      "move disk 2 from b to a\n",
      "move disk 1 from c to a\n",
      "move disk 4 from c to b\n",
      "move disk 1 from a to b\n",
      "move disk 2 from a to c\n",
      "move disk 1 from b to c\n",
      "move disk 3 from a to b\n",
      "move disk 1 from c to a\n",
      "move disk 2 from c to b\n",
      "move disk 1 from a to b\n",
      "move disk 5 from c to a\n",
      "move disk 1 from b to c\n",
      "move disk 2 from b to a\n",
      "move disk 1 from c to a\n",
      "move disk 3 from b to c\n",
      "move disk 1 from a to b\n",
      "move disk 2 from a to c\n",
      "move disk 1 from b to c\n",
      "move disk 4 from b to a\n",
      "move disk 1 from c to a\n",
      "move disk 2 from c to b\n",
      "move disk 1 from a to b\n",
      "move disk 3 from c to a\n",
      "move disk 1 from b to c\n",
      "move disk 2 from b to a\n",
      "move disk 1 from c to a\n",
      "move disk 7 from b to c\n",
      "move disk 1 from a to b\n",
      "move disk 2 from a to c\n",
      "move disk 1 from b to c\n",
      "move disk 3 from a to b\n",
      "move disk 1 from c to a\n",
      "move disk 2 from c to b\n",
      "move disk 1 from a to b\n",
      "move disk 4 from a to c\n",
      "move disk 1 from b to c\n",
      "move disk 2 from b to a\n",
      "move disk 1 from c to a\n",
      "move disk 3 from b to c\n",
      "move disk 1 from a to b\n",
      "move disk 2 from a to c\n",
      "move disk 1 from b to c\n",
      "move disk 5 from a to b\n",
      "move disk 1 from c to a\n",
      "move disk 2 from c to b\n",
      "move disk 1 from a to b\n",
      "move disk 3 from c to a\n",
      "move disk 1 from b to c\n",
      "move disk 2 from b to a\n",
      "move disk 1 from c to a\n",
      "move disk 4 from c to b\n",
      "move disk 1 from a to b\n",
      "move disk 2 from a to c\n",
      "move disk 1 from b to c\n",
      "move disk 3 from a to b\n",
      "move disk 1 from c to a\n",
      "move disk 2 from c to b\n",
      "move disk 1 from a to b\n",
      "move disk 6 from a to c\n",
      "move disk 1 from b to c\n",
      "move disk 2 from b to a\n",
      "move disk 1 from c to a\n",
      "move disk 3 from b to c\n",
      "move disk 1 from a to b\n",
      "move disk 2 from a to c\n",
      "move disk 1 from b to c\n",
      "move disk 4 from b to a\n",
      "move disk 1 from c to a\n",
      "move disk 2 from c to b\n",
      "move disk 1 from a to b\n",
      "move disk 3 from c to a\n",
      "move disk 1 from b to c\n",
      "move disk 2 from b to a\n",
      "move disk 1 from c to a\n",
      "move disk 5 from b to c\n",
      "move disk 1 from a to b\n",
      "move disk 2 from a to c\n",
      "move disk 1 from b to c\n",
      "move disk 3 from a to b\n",
      "move disk 1 from c to a\n",
      "move disk 2 from c to b\n",
      "move disk 1 from a to b\n",
      "move disk 4 from a to c\n",
      "move disk 1 from b to c\n",
      "move disk 2 from b to a\n",
      "move disk 1 from c to a\n",
      "move disk 3 from b to c\n",
      "move disk 1 from a to b\n",
      "move disk 2 from a to c\n",
      "move disk 1 from b to c\n",
      "move disk 9 from a to b\n",
      "move disk 1 from c to a\n",
      "move disk 2 from c to b\n",
      "move disk 1 from a to b\n",
      "move disk 3 from c to a\n",
      "move disk 1 from b to c\n",
      "move disk 2 from b to a\n",
      "move disk 1 from c to a\n",
      "move disk 4 from c to b\n",
      "move disk 1 from a to b\n",
      "move disk 2 from a to c\n",
      "move disk 1 from b to c\n",
      "move disk 3 from a to b\n",
      "move disk 1 from c to a\n",
      "move disk 2 from c to b\n",
      "move disk 1 from a to b\n",
      "move disk 5 from c to a\n",
      "move disk 1 from b to c\n",
      "move disk 2 from b to a\n",
      "move disk 1 from c to a\n",
      "move disk 3 from b to c\n",
      "move disk 1 from a to b\n",
      "move disk 2 from a to c\n",
      "move disk 1 from b to c\n",
      "move disk 4 from b to a\n",
      "move disk 1 from c to a\n",
      "move disk 2 from c to b\n",
      "move disk 1 from a to b\n",
      "move disk 3 from c to a\n",
      "move disk 1 from b to c\n",
      "move disk 2 from b to a\n",
      "move disk 1 from c to a\n",
      "move disk 6 from c to b\n",
      "move disk 1 from a to b\n",
      "move disk 2 from a to c\n",
      "move disk 1 from b to c\n",
      "move disk 3 from a to b\n",
      "move disk 1 from c to a\n",
      "move disk 2 from c to b\n",
      "move disk 1 from a to b\n",
      "move disk 4 from a to c\n",
      "move disk 1 from b to c\n",
      "move disk 2 from b to a\n",
      "move disk 1 from c to a\n",
      "move disk 3 from b to c\n",
      "move disk 1 from a to b\n",
      "move disk 2 from a to c\n",
      "move disk 1 from b to c\n",
      "move disk 5 from a to b\n",
      "move disk 1 from c to a\n",
      "move disk 2 from c to b\n",
      "move disk 1 from a to b\n",
      "move disk 3 from c to a\n",
      "move disk 1 from b to c\n",
      "move disk 2 from b to a\n",
      "move disk 1 from c to a\n",
      "move disk 4 from c to b\n",
      "move disk 1 from a to b\n",
      "move disk 2 from a to c\n",
      "move disk 1 from b to c\n",
      "move disk 3 from a to b\n",
      "move disk 1 from c to a\n",
      "move disk 2 from c to b\n",
      "move disk 1 from a to b\n",
      "move disk 7 from c to a\n",
      "move disk 1 from b to c\n",
      "move disk 2 from b to a\n",
      "move disk 1 from c to a\n",
      "move disk 3 from b to c\n",
      "move disk 1 from a to b\n",
      "move disk 2 from a to c\n",
      "move disk 1 from b to c\n",
      "move disk 4 from b to a\n",
      "move disk 1 from c to a\n",
      "move disk 2 from c to b\n",
      "move disk 1 from a to b\n",
      "move disk 3 from c to a\n",
      "move disk 1 from b to c\n",
      "move disk 2 from b to a\n",
      "move disk 1 from c to a\n",
      "move disk 5 from b to c\n",
      "move disk 1 from a to b\n",
      "move disk 2 from a to c\n",
      "move disk 1 from b to c\n",
      "move disk 3 from a to b\n",
      "move disk 1 from c to a\n",
      "move disk 2 from c to b\n",
      "move disk 1 from a to b\n",
      "move disk 4 from a to c\n",
      "move disk 1 from b to c\n",
      "move disk 2 from b to a\n",
      "move disk 1 from c to a\n",
      "move disk 3 from b to c\n",
      "move disk 1 from a to b\n",
      "move disk 2 from a to c\n",
      "move disk 1 from b to c\n",
      "move disk 6 from b to a\n",
      "move disk 1 from c to a\n",
      "move disk 2 from c to b\n",
      "move disk 1 from a to b\n",
      "move disk 3 from c to a\n",
      "move disk 1 from b to c\n",
      "move disk 2 from b to a\n",
      "move disk 1 from c to a\n",
      "move disk 4 from c to b\n",
      "move disk 1 from a to b\n",
      "move disk 2 from a to c\n",
      "move disk 1 from b to c\n",
      "move disk 3 from a to b\n",
      "move disk 1 from c to a\n",
      "move disk 2 from c to b\n",
      "move disk 1 from a to b\n",
      "move disk 5 from c to a\n",
      "move disk 1 from b to c\n",
      "move disk 2 from b to a\n",
      "move disk 1 from c to a\n",
      "move disk 3 from b to c\n",
      "move disk 1 from a to b\n",
      "move disk 2 from a to c\n",
      "move disk 1 from b to c\n",
      "move disk 4 from b to a\n",
      "move disk 1 from c to a\n",
      "move disk 2 from c to b\n",
      "move disk 1 from a to b\n",
      "move disk 3 from c to a\n",
      "move disk 1 from b to c\n",
      "move disk 2 from b to a\n",
      "move disk 1 from c to a\n",
      "move disk 8 from c to b\n",
      "move disk 1 from a to b\n",
      "move disk 2 from a to c\n",
      "move disk 1 from b to c\n",
      "move disk 3 from a to b\n",
      "move disk 1 from c to a\n",
      "move disk 2 from c to b\n",
      "move disk 1 from a to b\n",
      "move disk 4 from a to c\n",
      "move disk 1 from b to c\n",
      "move disk 2 from b to a\n",
      "move disk 1 from c to a\n",
      "move disk 3 from b to c\n",
      "move disk 1 from a to b\n",
      "move disk 2 from a to c\n",
      "move disk 1 from b to c\n",
      "move disk 5 from a to b\n",
      "move disk 1 from c to a\n",
      "move disk 2 from c to b\n",
      "move disk 1 from a to b\n",
      "move disk 3 from c to a\n",
      "move disk 1 from b to c\n",
      "move disk 2 from b to a\n",
      "move disk 1 from c to a\n",
      "move disk 4 from c to b\n",
      "move disk 1 from a to b\n",
      "move disk 2 from a to c\n",
      "move disk 1 from b to c\n",
      "move disk 3 from a to b\n",
      "move disk 1 from c to a\n",
      "move disk 2 from c to b\n",
      "move disk 1 from a to b\n",
      "move disk 6 from a to c\n",
      "move disk 1 from b to c\n",
      "move disk 2 from b to a\n",
      "move disk 1 from c to a\n",
      "move disk 3 from b to c\n",
      "move disk 1 from a to b\n",
      "move disk 2 from a to c\n",
      "move disk 1 from b to c\n",
      "move disk 4 from b to a\n",
      "move disk 1 from c to a\n",
      "move disk 2 from c to b\n",
      "move disk 1 from a to b\n",
      "move disk 3 from c to a\n",
      "move disk 1 from b to c\n",
      "move disk 2 from b to a\n",
      "move disk 1 from c to a\n",
      "move disk 5 from b to c\n",
      "move disk 1 from a to b\n",
      "move disk 2 from a to c\n",
      "move disk 1 from b to c\n",
      "move disk 3 from a to b\n",
      "move disk 1 from c to a\n",
      "move disk 2 from c to b\n",
      "move disk 1 from a to b\n",
      "move disk 4 from a to c\n",
      "move disk 1 from b to c\n",
      "move disk 2 from b to a\n",
      "move disk 1 from c to a\n",
      "move disk 3 from b to c\n",
      "move disk 1 from a to b\n",
      "move disk 2 from a to c\n",
      "move disk 1 from b to c\n",
      "move disk 7 from a to b\n",
      "move disk 1 from c to a\n",
      "move disk 2 from c to b\n",
      "move disk 1 from a to b\n",
      "move disk 3 from c to a\n",
      "move disk 1 from b to c\n",
      "move disk 2 from b to a\n",
      "move disk 1 from c to a\n",
      "move disk 4 from c to b\n",
      "move disk 1 from a to b\n",
      "move disk 2 from a to c\n",
      "move disk 1 from b to c\n",
      "move disk 3 from a to b\n",
      "move disk 1 from c to a\n",
      "move disk 2 from c to b\n",
      "move disk 1 from a to b\n",
      "move disk 5 from c to a\n",
      "move disk 1 from b to c\n",
      "move disk 2 from b to a\n",
      "move disk 1 from c to a\n",
      "move disk 3 from b to c\n",
      "move disk 1 from a to b\n",
      "move disk 2 from a to c\n",
      "move disk 1 from b to c\n",
      "move disk 4 from b to a\n",
      "move disk 1 from c to a\n",
      "move disk 2 from c to b\n",
      "move disk 1 from a to b\n",
      "move disk 3 from c to a\n",
      "move disk 1 from b to c\n",
      "move disk 2 from b to a\n",
      "move disk 1 from c to a\n",
      "move disk 6 from c to b\n",
      "move disk 1 from a to b\n",
      "move disk 2 from a to c\n",
      "move disk 1 from b to c\n",
      "move disk 3 from a to b\n",
      "move disk 1 from c to a\n",
      "move disk 2 from c to b\n",
      "move disk 1 from a to b\n",
      "move disk 4 from a to c\n",
      "move disk 1 from b to c\n",
      "move disk 2 from b to a\n",
      "move disk 1 from c to a\n",
      "move disk 3 from b to c\n",
      "move disk 1 from a to b\n",
      "move disk 2 from a to c\n",
      "move disk 1 from b to c\n",
      "move disk 5 from a to b\n",
      "move disk 1 from c to a\n",
      "move disk 2 from c to b\n",
      "move disk 1 from a to b\n",
      "move disk 3 from c to a\n",
      "move disk 1 from b to c\n",
      "move disk 2 from b to a\n",
      "move disk 1 from c to a\n",
      "move disk 4 from c to b\n",
      "move disk 1 from a to b\n",
      "move disk 2 from a to c\n",
      "move disk 1 from b to c\n",
      "move disk 3 from a to b\n",
      "move disk 1 from c to a\n",
      "move disk 2 from c to b\n",
      "move disk 1 from a to b\n",
      "move disk 10 from a to c\n",
      "move disk 1 from b to c\n",
      "move disk 2 from b to a\n",
      "move disk 1 from c to a\n",
      "move disk 3 from b to c\n",
      "move disk 1 from a to b\n",
      "move disk 2 from a to c\n",
      "move disk 1 from b to c\n",
      "move disk 4 from b to a\n",
      "move disk 1 from c to a\n",
      "move disk 2 from c to b\n",
      "move disk 1 from a to b\n",
      "move disk 3 from c to a\n",
      "move disk 1 from b to c\n",
      "move disk 2 from b to a\n",
      "move disk 1 from c to a\n",
      "move disk 5 from b to c\n",
      "move disk 1 from a to b\n",
      "move disk 2 from a to c\n",
      "move disk 1 from b to c\n",
      "move disk 3 from a to b\n",
      "move disk 1 from c to a\n",
      "move disk 2 from c to b\n",
      "move disk 1 from a to b\n",
      "move disk 4 from a to c\n",
      "move disk 1 from b to c\n",
      "move disk 2 from b to a\n",
      "move disk 1 from c to a\n",
      "move disk 3 from b to c\n",
      "move disk 1 from a to b\n",
      "move disk 2 from a to c\n",
      "move disk 1 from b to c\n",
      "move disk 6 from b to a\n",
      "move disk 1 from c to a\n",
      "move disk 2 from c to b\n",
      "move disk 1 from a to b\n",
      "move disk 3 from c to a\n",
      "move disk 1 from b to c\n",
      "move disk 2 from b to a\n",
      "move disk 1 from c to a\n",
      "move disk 4 from c to b\n",
      "move disk 1 from a to b\n",
      "move disk 2 from a to c\n",
      "move disk 1 from b to c\n",
      "move disk 3 from a to b\n",
      "move disk 1 from c to a\n",
      "move disk 2 from c to b\n",
      "move disk 1 from a to b\n",
      "move disk 5 from c to a\n",
      "move disk 1 from b to c\n",
      "move disk 2 from b to a\n",
      "move disk 1 from c to a\n",
      "move disk 3 from b to c\n",
      "move disk 1 from a to b\n",
      "move disk 2 from a to c\n",
      "move disk 1 from b to c\n",
      "move disk 4 from b to a\n",
      "move disk 1 from c to a\n",
      "move disk 2 from c to b\n",
      "move disk 1 from a to b\n",
      "move disk 3 from c to a\n",
      "move disk 1 from b to c\n",
      "move disk 2 from b to a\n",
      "move disk 1 from c to a\n",
      "move disk 7 from b to c\n",
      "move disk 1 from a to b\n",
      "move disk 2 from a to c\n",
      "move disk 1 from b to c\n",
      "move disk 3 from a to b\n",
      "move disk 1 from c to a\n",
      "move disk 2 from c to b\n",
      "move disk 1 from a to b\n",
      "move disk 4 from a to c\n",
      "move disk 1 from b to c\n",
      "move disk 2 from b to a\n",
      "move disk 1 from c to a\n",
      "move disk 3 from b to c\n",
      "move disk 1 from a to b\n",
      "move disk 2 from a to c\n",
      "move disk 1 from b to c\n",
      "move disk 5 from a to b\n",
      "move disk 1 from c to a\n",
      "move disk 2 from c to b\n",
      "move disk 1 from a to b\n",
      "move disk 3 from c to a\n",
      "move disk 1 from b to c\n",
      "move disk 2 from b to a\n",
      "move disk 1 from c to a\n",
      "move disk 4 from c to b\n",
      "move disk 1 from a to b\n",
      "move disk 2 from a to c\n",
      "move disk 1 from b to c\n",
      "move disk 3 from a to b\n",
      "move disk 1 from c to a\n",
      "move disk 2 from c to b\n",
      "move disk 1 from a to b\n",
      "move disk 6 from a to c\n",
      "move disk 1 from b to c\n",
      "move disk 2 from b to a\n",
      "move disk 1 from c to a\n",
      "move disk 3 from b to c\n",
      "move disk 1 from a to b\n",
      "move disk 2 from a to c\n",
      "move disk 1 from b to c\n",
      "move disk 4 from b to a\n",
      "move disk 1 from c to a\n",
      "move disk 2 from c to b\n",
      "move disk 1 from a to b\n",
      "move disk 3 from c to a\n",
      "move disk 1 from b to c\n",
      "move disk 2 from b to a\n",
      "move disk 1 from c to a\n",
      "move disk 5 from b to c\n",
      "move disk 1 from a to b\n",
      "move disk 2 from a to c\n",
      "move disk 1 from b to c\n",
      "move disk 3 from a to b\n",
      "move disk 1 from c to a\n",
      "move disk 2 from c to b\n",
      "move disk 1 from a to b\n",
      "move disk 4 from a to c\n",
      "move disk 1 from b to c\n",
      "move disk 2 from b to a\n",
      "move disk 1 from c to a\n",
      "move disk 3 from b to c\n",
      "move disk 1 from a to b\n",
      "move disk 2 from a to c\n",
      "move disk 1 from b to c\n",
      "move disk 8 from b to a\n",
      "move disk 1 from c to a\n",
      "move disk 2 from c to b\n",
      "move disk 1 from a to b\n",
      "move disk 3 from c to a\n",
      "move disk 1 from b to c\n",
      "move disk 2 from b to a\n",
      "move disk 1 from c to a\n",
      "move disk 4 from c to b\n",
      "move disk 1 from a to b\n",
      "move disk 2 from a to c\n",
      "move disk 1 from b to c\n",
      "move disk 3 from a to b\n",
      "move disk 1 from c to a\n",
      "move disk 2 from c to b\n",
      "move disk 1 from a to b\n",
      "move disk 5 from c to a\n",
      "move disk 1 from b to c\n",
      "move disk 2 from b to a\n",
      "move disk 1 from c to a\n",
      "move disk 3 from b to c\n",
      "move disk 1 from a to b\n",
      "move disk 2 from a to c\n",
      "move disk 1 from b to c\n",
      "move disk 4 from b to a\n",
      "move disk 1 from c to a\n",
      "move disk 2 from c to b\n",
      "move disk 1 from a to b\n",
      "move disk 3 from c to a\n",
      "move disk 1 from b to c\n",
      "move disk 2 from b to a\n",
      "move disk 1 from c to a\n",
      "move disk 6 from c to b\n",
      "move disk 1 from a to b\n",
      "move disk 2 from a to c\n",
      "move disk 1 from b to c\n",
      "move disk 3 from a to b\n",
      "move disk 1 from c to a\n",
      "move disk 2 from c to b\n",
      "move disk 1 from a to b\n",
      "move disk 4 from a to c\n",
      "move disk 1 from b to c\n",
      "move disk 2 from b to a\n",
      "move disk 1 from c to a\n",
      "move disk 3 from b to c\n",
      "move disk 1 from a to b\n",
      "move disk 2 from a to c\n",
      "move disk 1 from b to c\n",
      "move disk 5 from a to b\n",
      "move disk 1 from c to a\n",
      "move disk 2 from c to b\n",
      "move disk 1 from a to b\n",
      "move disk 3 from c to a\n",
      "move disk 1 from b to c\n",
      "move disk 2 from b to a\n",
      "move disk 1 from c to a\n",
      "move disk 4 from c to b\n",
      "move disk 1 from a to b\n",
      "move disk 2 from a to c\n",
      "move disk 1 from b to c\n",
      "move disk 3 from a to b\n",
      "move disk 1 from c to a\n",
      "move disk 2 from c to b\n",
      "move disk 1 from a to b\n",
      "move disk 7 from c to a\n",
      "move disk 1 from b to c\n",
      "move disk 2 from b to a\n",
      "move disk 1 from c to a\n",
      "move disk 3 from b to c\n",
      "move disk 1 from a to b\n",
      "move disk 2 from a to c\n",
      "move disk 1 from b to c\n",
      "move disk 4 from b to a\n",
      "move disk 1 from c to a\n",
      "move disk 2 from c to b\n",
      "move disk 1 from a to b\n",
      "move disk 3 from c to a\n",
      "move disk 1 from b to c\n",
      "move disk 2 from b to a\n",
      "move disk 1 from c to a\n",
      "move disk 5 from b to c\n",
      "move disk 1 from a to b\n",
      "move disk 2 from a to c\n",
      "move disk 1 from b to c\n",
      "move disk 3 from a to b\n",
      "move disk 1 from c to a\n",
      "move disk 2 from c to b\n",
      "move disk 1 from a to b\n",
      "move disk 4 from a to c\n",
      "move disk 1 from b to c\n",
      "move disk 2 from b to a\n",
      "move disk 1 from c to a\n",
      "move disk 3 from b to c\n",
      "move disk 1 from a to b\n",
      "move disk 2 from a to c\n",
      "move disk 1 from b to c\n",
      "move disk 6 from b to a\n",
      "move disk 1 from c to a\n",
      "move disk 2 from c to b\n",
      "move disk 1 from a to b\n",
      "move disk 3 from c to a\n",
      "move disk 1 from b to c\n",
      "move disk 2 from b to a\n",
      "move disk 1 from c to a\n",
      "move disk 4 from c to b\n",
      "move disk 1 from a to b\n",
      "move disk 2 from a to c\n",
      "move disk 1 from b to c\n",
      "move disk 3 from a to b\n",
      "move disk 1 from c to a\n",
      "move disk 2 from c to b\n",
      "move disk 1 from a to b\n",
      "move disk 5 from c to a\n",
      "move disk 1 from b to c\n",
      "move disk 2 from b to a\n",
      "move disk 1 from c to a\n",
      "move disk 3 from b to c\n",
      "move disk 1 from a to b\n",
      "move disk 2 from a to c\n",
      "move disk 1 from b to c\n",
      "move disk 4 from b to a\n",
      "move disk 1 from c to a\n",
      "move disk 2 from c to b\n",
      "move disk 1 from a to b\n",
      "move disk 3 from c to a\n",
      "move disk 1 from b to c\n",
      "move disk 2 from b to a\n",
      "move disk 1 from c to a\n",
      "move disk 9 from b to c\n",
      "move disk 1 from a to b\n",
      "move disk 2 from a to c\n",
      "move disk 1 from b to c\n",
      "move disk 3 from a to b\n",
      "move disk 1 from c to a\n",
      "move disk 2 from c to b\n",
      "move disk 1 from a to b\n",
      "move disk 4 from a to c\n",
      "move disk 1 from b to c\n",
      "move disk 2 from b to a\n",
      "move disk 1 from c to a\n",
      "move disk 3 from b to c\n",
      "move disk 1 from a to b\n",
      "move disk 2 from a to c\n",
      "move disk 1 from b to c\n",
      "move disk 5 from a to b\n",
      "move disk 1 from c to a\n",
      "move disk 2 from c to b\n",
      "move disk 1 from a to b\n",
      "move disk 3 from c to a\n",
      "move disk 1 from b to c\n",
      "move disk 2 from b to a\n",
      "move disk 1 from c to a\n",
      "move disk 4 from c to b\n",
      "move disk 1 from a to b\n",
      "move disk 2 from a to c\n",
      "move disk 1 from b to c\n",
      "move disk 3 from a to b\n",
      "move disk 1 from c to a\n",
      "move disk 2 from c to b\n",
      "move disk 1 from a to b\n",
      "move disk 6 from a to c\n",
      "move disk 1 from b to c\n",
      "move disk 2 from b to a\n",
      "move disk 1 from c to a\n",
      "move disk 3 from b to c\n",
      "move disk 1 from a to b\n",
      "move disk 2 from a to c\n",
      "move disk 1 from b to c\n",
      "move disk 4 from b to a\n",
      "move disk 1 from c to a\n",
      "move disk 2 from c to b\n",
      "move disk 1 from a to b\n",
      "move disk 3 from c to a\n",
      "move disk 1 from b to c\n",
      "move disk 2 from b to a\n",
      "move disk 1 from c to a\n",
      "move disk 5 from b to c\n",
      "move disk 1 from a to b\n",
      "move disk 2 from a to c\n",
      "move disk 1 from b to c\n",
      "move disk 3 from a to b\n",
      "move disk 1 from c to a\n",
      "move disk 2 from c to b\n",
      "move disk 1 from a to b\n",
      "move disk 4 from a to c\n",
      "move disk 1 from b to c\n",
      "move disk 2 from b to a\n",
      "move disk 1 from c to a\n",
      "move disk 3 from b to c\n",
      "move disk 1 from a to b\n",
      "move disk 2 from a to c\n",
      "move disk 1 from b to c\n",
      "move disk 7 from a to b\n",
      "move disk 1 from c to a\n",
      "move disk 2 from c to b\n",
      "move disk 1 from a to b\n",
      "move disk 3 from c to a\n",
      "move disk 1 from b to c\n",
      "move disk 2 from b to a\n",
      "move disk 1 from c to a\n",
      "move disk 4 from c to b\n",
      "move disk 1 from a to b\n",
      "move disk 2 from a to c\n",
      "move disk 1 from b to c\n",
      "move disk 3 from a to b\n",
      "move disk 1 from c to a\n",
      "move disk 2 from c to b\n",
      "move disk 1 from a to b\n",
      "move disk 5 from c to a\n",
      "move disk 1 from b to c\n",
      "move disk 2 from b to a\n",
      "move disk 1 from c to a\n",
      "move disk 3 from b to c\n",
      "move disk 1 from a to b\n",
      "move disk 2 from a to c\n",
      "move disk 1 from b to c\n",
      "move disk 4 from b to a\n",
      "move disk 1 from c to a\n",
      "move disk 2 from c to b\n",
      "move disk 1 from a to b\n",
      "move disk 3 from c to a\n",
      "move disk 1 from b to c\n",
      "move disk 2 from b to a\n",
      "move disk 1 from c to a\n",
      "move disk 6 from c to b\n",
      "move disk 1 from a to b\n",
      "move disk 2 from a to c\n",
      "move disk 1 from b to c\n",
      "move disk 3 from a to b\n",
      "move disk 1 from c to a\n",
      "move disk 2 from c to b\n",
      "move disk 1 from a to b\n",
      "move disk 4 from a to c\n",
      "move disk 1 from b to c\n",
      "move disk 2 from b to a\n",
      "move disk 1 from c to a\n",
      "move disk 3 from b to c\n",
      "move disk 1 from a to b\n",
      "move disk 2 from a to c\n",
      "move disk 1 from b to c\n",
      "move disk 5 from a to b\n",
      "move disk 1 from c to a\n",
      "move disk 2 from c to b\n",
      "move disk 1 from a to b\n",
      "move disk 3 from c to a\n",
      "move disk 1 from b to c\n",
      "move disk 2 from b to a\n",
      "move disk 1 from c to a\n",
      "move disk 4 from c to b\n",
      "move disk 1 from a to b\n",
      "move disk 2 from a to c\n",
      "move disk 1 from b to c\n",
      "move disk 3 from a to b\n",
      "move disk 1 from c to a\n",
      "move disk 2 from c to b\n",
      "move disk 1 from a to b\n",
      "move disk 8 from a to c\n",
      "move disk 1 from b to c\n",
      "move disk 2 from b to a\n",
      "move disk 1 from c to a\n",
      "move disk 3 from b to c\n",
      "move disk 1 from a to b\n",
      "move disk 2 from a to c\n",
      "move disk 1 from b to c\n",
      "move disk 4 from b to a\n",
      "move disk 1 from c to a\n",
      "move disk 2 from c to b\n",
      "move disk 1 from a to b\n",
      "move disk 3 from c to a\n",
      "move disk 1 from b to c\n",
      "move disk 2 from b to a\n",
      "move disk 1 from c to a\n",
      "move disk 5 from b to c\n",
      "move disk 1 from a to b\n",
      "move disk 2 from a to c\n",
      "move disk 1 from b to c\n",
      "move disk 3 from a to b\n",
      "move disk 1 from c to a\n",
      "move disk 2 from c to b\n",
      "move disk 1 from a to b\n",
      "move disk 4 from a to c\n",
      "move disk 1 from b to c\n",
      "move disk 2 from b to a\n",
      "move disk 1 from c to a\n",
      "move disk 3 from b to c\n",
      "move disk 1 from a to b\n",
      "move disk 2 from a to c\n",
      "move disk 1 from b to c\n",
      "move disk 6 from b to a\n",
      "move disk 1 from c to a\n",
      "move disk 2 from c to b\n",
      "move disk 1 from a to b\n",
      "move disk 3 from c to a\n",
      "move disk 1 from b to c\n",
      "move disk 2 from b to a\n",
      "move disk 1 from c to a\n",
      "move disk 4 from c to b\n",
      "move disk 1 from a to b\n",
      "move disk 2 from a to c\n",
      "move disk 1 from b to c\n",
      "move disk 3 from a to b\n",
      "move disk 1 from c to a\n",
      "move disk 2 from c to b\n",
      "move disk 1 from a to b\n",
      "move disk 5 from c to a\n",
      "move disk 1 from b to c\n",
      "move disk 2 from b to a\n",
      "move disk 1 from c to a\n",
      "move disk 3 from b to c\n",
      "move disk 1 from a to b\n",
      "move disk 2 from a to c\n",
      "move disk 1 from b to c\n",
      "move disk 4 from b to a\n",
      "move disk 1 from c to a\n",
      "move disk 2 from c to b\n",
      "move disk 1 from a to b\n",
      "move disk 3 from c to a\n",
      "move disk 1 from b to c\n",
      "move disk 2 from b to a\n",
      "move disk 1 from c to a\n",
      "move disk 7 from b to c\n",
      "move disk 1 from a to b\n",
      "move disk 2 from a to c\n",
      "move disk 1 from b to c\n",
      "move disk 3 from a to b\n",
      "move disk 1 from c to a\n",
      "move disk 2 from c to b\n",
      "move disk 1 from a to b\n",
      "move disk 4 from a to c\n",
      "move disk 1 from b to c\n",
      "move disk 2 from b to a\n",
      "move disk 1 from c to a\n",
      "move disk 3 from b to c\n",
      "move disk 1 from a to b\n",
      "move disk 2 from a to c\n",
      "move disk 1 from b to c\n",
      "move disk 5 from a to b\n",
      "move disk 1 from c to a\n",
      "move disk 2 from c to b\n",
      "move disk 1 from a to b\n",
      "move disk 3 from c to a\n",
      "move disk 1 from b to c\n",
      "move disk 2 from b to a\n",
      "move disk 1 from c to a\n",
      "move disk 4 from c to b\n",
      "move disk 1 from a to b\n",
      "move disk 2 from a to c\n",
      "move disk 1 from b to c\n",
      "move disk 3 from a to b\n",
      "move disk 1 from c to a\n",
      "move disk 2 from c to b\n",
      "move disk 1 from a to b\n",
      "move disk 6 from a to c\n",
      "move disk 1 from b to c\n",
      "move disk 2 from b to a\n",
      "move disk 1 from c to a\n",
      "move disk 3 from b to c\n",
      "move disk 1 from a to b\n",
      "move disk 2 from a to c\n",
      "move disk 1 from b to c\n",
      "move disk 4 from b to a\n",
      "move disk 1 from c to a\n",
      "move disk 2 from c to b\n",
      "move disk 1 from a to b\n",
      "move disk 3 from c to a\n",
      "move disk 1 from b to c\n",
      "move disk 2 from b to a\n",
      "move disk 1 from c to a\n",
      "move disk 5 from b to c\n",
      "move disk 1 from a to b\n",
      "move disk 2 from a to c\n",
      "move disk 1 from b to c\n",
      "move disk 3 from a to b\n",
      "move disk 1 from c to a\n",
      "move disk 2 from c to b\n",
      "move disk 1 from a to b\n",
      "move disk 4 from a to c\n",
      "move disk 1 from b to c\n",
      "move disk 2 from b to a\n",
      "move disk 1 from c to a\n",
      "move disk 3 from b to c\n",
      "move disk 1 from a to b\n",
      "move disk 2 from a to c\n",
      "move disk 1 from b to c\n"
     ]
    }
   ],
   "source": [
    "def tower_of_hanoi(n, source, auxiliary, target):\n",
    "    if n == 1:\n",
    "        print(f\"move disk 1 from {source} to {target}\")\n",
    "        return\n",
    "    tower_of_hanoi(n-1, source, target, auxiliary)\n",
    "    print(f\"move disk {n} from {source} to {target}\")\n",
    "    tower_of_hanoi(n-1, auxiliary, source, target)\n",
    "\n",
    "tower_of_hanoi(10, 'a', 'b', 'c')"
   ]
  },
  {
   "cell_type": "markdown",
   "id": "3f9df488",
   "metadata": {},
   "source": [
    "the n queen problem \n",
    "to place en queens on n. n*n chessboard such that no two queens attack eachother\n",
    "A queen can attack ver hor and diag\n",
    "\n",
    "rules:\n",
    "no 2 q can be in the same row or column\n",
    "\n",
    "\n"
   ]
  },
  {
   "cell_type": "code",
   "execution_count": null,
   "id": "c72f584e",
   "metadata": {},
   "outputs": [],
   "source": [
    "def solve_n_queens(n):\n",
    "    solutions = []\n",
    "    board = [-1] * n\n",
    "\n",
    "    def is_safe(row, col):\n",
    "        for prev_row in range(row):\n",
    "            if board[prev_row] == col or \\\n",
    "               abs(board[prev_row] - col) == abs(prev_row - row):\n",
    "                return False\n",
    "        return True\n",
    "\n",
    "    def backtrack(row):\n",
    "        if row == n:\n",
    "            solutions.append(board[:])\n",
    "            return\n",
    "        for col in range(n):\n",
    "            if is_safe(row, col):\n",
    "                board[row] = col\n",
    "                backtrack(row + 1)\n",
    "                board[row] = -1\n",
    "\n",
    "    backtrack(0)\n",
    "    return solutions\n",
    "\n",
    "# Example: Print all solutions for 4-queens\n",
    "n = 5\n",
    "result = solve_n_queens(n)\n",
    "for sol in result:\n",
    "    print(sol)"
   ]
  },
  {
   "cell_type": "code",
   "execution_count": null,
   "id": "a7eaed9a",
   "metadata": {},
   "outputs": [],
   "source": []
  }
 ],
 "metadata": {
  "kernelspec": {
   "display_name": "venv",
   "language": "python",
   "name": "python3"
  },
  "language_info": {
   "codemirror_mode": {
    "name": "ipython",
    "version": 3
   },
   "file_extension": ".py",
   "mimetype": "text/x-python",
   "name": "python",
   "nbconvert_exporter": "python",
   "pygments_lexer": "ipython3",
   "version": "3.13.5"
  }
 },
 "nbformat": 4,
 "nbformat_minor": 5
}
