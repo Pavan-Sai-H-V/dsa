{
 "cells": [
  {
   "cell_type": "code",
   "execution_count": 51,
   "id": "891f7a3a",
   "metadata": {},
   "outputs": [
    {
     "name": "stdout",
     "output_type": "stream",
     "text": [
      "10 -> 20 -> 30 -> None\n",
      "Deleted value: 20\n",
      "10 -> 30 -> None\n",
      "Updated 30 to 40\n",
      "10 -> 40 -> None\n"
     ]
    }
   ],
   "source": [
    "class Node:\n",
    "    def __init__(self, data):\n",
    "        self.data = data\n",
    "        self.next = None\n",
    "\n",
    "class LinkedList:\n",
    "    def __init__(self):\n",
    "        self.head = None\n",
    "\n",
    "    # Insert at end\n",
    "    def insert(self, data):\n",
    "        new_node = Node(data)\n",
    "        if not self.head:\n",
    "            self.head = new_node\n",
    "            return\n",
    "        current = self.head\n",
    "        while current.next:\n",
    "            current = current.next\n",
    "        current.next = new_node\n",
    "\n",
    "    # Print the list\n",
    "    def print_list(self):\n",
    "        current = self.head\n",
    "        while current:\n",
    "            print(current.data, end=\" -> \")\n",
    "            current = current.next\n",
    "        print(\"None\")\n",
    "\n",
    "    # Delete a node by value\n",
    "    def delete(self, value):\n",
    "        current = self.head\n",
    "        previous = None\n",
    "\n",
    "        while current and current.data != value:\n",
    "            previous = current\n",
    "            current = current.next\n",
    "\n",
    "        if not current:\n",
    "            print(f\"Value {value} not found in the list.\")\n",
    "            return\n",
    "\n",
    "        if not previous:\n",
    "            self.head = current.next  # Deleting the head\n",
    "        else:\n",
    "            previous.next = current.next\n",
    "        print(f\"Deleted value: {value}\")\n",
    "\n",
    "    # Update a node value\n",
    "    def update(self, old_value, new_value):\n",
    "        current = self.head\n",
    "        while current:\n",
    "            if current.data == old_value:\n",
    "                current.data = new_value\n",
    "                print(f\"Updated {old_value} to {new_value}\")\n",
    "                return\n",
    "            current = current.next\n",
    "        print(f\"Value {old_value} not found to update.\")\n",
    "\n",
    "\n",
    "# Example Usage\n",
    "ll = LinkedList()\n",
    "ll.insert(10)\n",
    "ll.insert(20)\n",
    "ll.insert(30)\n",
    "ll.print_list()           # Output: 10 -> 20 -> 30 -> None\n",
    "ll.delete(20)\n",
    "ll.print_list()           # Output: 10 -> 30 -> None\n",
    "ll.update(30, 40)\n",
    "ll.print_list()           # Output: 10 -> 40 -> None\n"
   ]
  },
  {
   "cell_type": "code",
   "execution_count": 50,
   "id": "9c9c8306",
   "metadata": {},
   "outputs": [
    {
     "name": "stdout",
     "output_type": "stream",
     "text": [
      "None\n"
     ]
    },
    {
     "ename": "TypeError",
     "evalue": "print() got an unexpected keyword argument 'currentNode'",
     "output_type": "error",
     "traceback": [
      "\u001b[31m---------------------------------------------------------------------------\u001b[39m",
      "\u001b[31mTypeError\u001b[39m                                 Traceback (most recent call last)",
      "\u001b[36mCell\u001b[39m\u001b[36m \u001b[39m\u001b[32mIn[50]\u001b[39m\u001b[32m, line 33\u001b[39m\n\u001b[32m     31\u001b[39m ll.insert(\u001b[33m'\u001b[39m\u001b[33m3\u001b[39m\u001b[33m'\u001b[39m)\n\u001b[32m     32\u001b[39m ll.insert(\u001b[33m'\u001b[39m\u001b[33m4\u001b[39m\u001b[33m'\u001b[39m)\n\u001b[32m---> \u001b[39m\u001b[32m33\u001b[39m \u001b[43mll\u001b[49m\u001b[43m.\u001b[49m\u001b[43mprintList\u001b[49m\u001b[43m(\u001b[49m\u001b[43m)\u001b[49m\n",
      "\u001b[36mCell\u001b[39m\u001b[36m \u001b[39m\u001b[32mIn[50]\u001b[39m\u001b[32m, line 25\u001b[39m, in \u001b[36mlinkedList.printList\u001b[39m\u001b[34m(self)\u001b[39m\n\u001b[32m     23\u001b[39m currentNode=\u001b[38;5;28mself\u001b[39m.head\n\u001b[32m     24\u001b[39m \u001b[38;5;28;01mwhile\u001b[39;00m currentNode \u001b[38;5;129;01mis\u001b[39;00m \u001b[38;5;129;01mnot\u001b[39;00m \u001b[38;5;28;01mNone\u001b[39;00m:\n\u001b[32m---> \u001b[39m\u001b[32m25\u001b[39m     \u001b[38;5;28;43mprint\u001b[39;49m\u001b[43m \u001b[49m\u001b[43m(\u001b[49m\u001b[43mcurrentNode\u001b[49m\u001b[43m.\u001b[49m\u001b[43mvalue\u001b[49m\u001b[43m,\u001b[49m\u001b[33;43m\"\u001b[39;49m\u001b[33;43m->\u001b[39;49m\u001b[33;43m\"\u001b[39;49m\u001b[43m,\u001b[49m\u001b[43mcurrentNode\u001b[49m\u001b[43m=\u001b[49m\u001b[43mcurrentNode\u001b[49m\u001b[43m.\u001b[49m\u001b[43mnextNode\u001b[49m\u001b[43m)\u001b[49m\n\u001b[32m     26\u001b[39m \u001b[38;5;28mprint\u001b[39m(\u001b[33m\"\u001b[39m\u001b[33mNone\u001b[39m\u001b[33m\"\u001b[39m)\n",
      "\u001b[31mTypeError\u001b[39m: print() got an unexpected keyword argument 'currentNode'"
     ]
    }
   ],
   "source": [
    "class linkedListNode: #node intitialization\n",
    "    def __init__(self,value,nextNode=None):\n",
    "        self.value=value #initiating value\n",
    "        self.nextNode=nextNode #initiating node to none \n",
    "\n",
    "\n",
    "class linkedList:\n",
    "    def __init__(self,head=None): \n",
    "        self.head=head #head node\n",
    "    \n",
    "    def insert(self,value):\n",
    "        node=linkedListNode(value) \n",
    "        if self.head is None: #if head value is none then the current value will get into head\n",
    "            self.head = node \n",
    "            return#value is upadetd as head\n",
    "        currentNode=self.head #\n",
    "        while True:\n",
    "            if currentNode.nextNode is None:\n",
    "                currentNode.nextNode = node\n",
    "                return\n",
    "            currentNode=currentNode.nextNode\n",
    "    def printList(self):\n",
    "        currentNode=self.head\n",
    "        while currentNode is not None:\n",
    "            print (currentNode.value,\"->\",currentNode=currentNode.nextNode)\n",
    "        print(\"None\")\n",
    "\n",
    "\n",
    "ll=linkedList()\n",
    "ll.printList()\n",
    "ll.insert('3')\n",
    "ll.insert('4')\n",
    "ll.printList()"
   ]
  },
  {
   "cell_type": "code",
   "execution_count": 47,
   "id": "0ad16b65",
   "metadata": {},
   "outputs": [
    {
     "name": "stdout",
     "output_type": "stream",
     "text": [
      "None\n"
     ]
    },
    {
     "ename": "TypeError",
     "evalue": "print() got an unexpected keyword argument 'currentNode'",
     "output_type": "error",
     "traceback": [
      "\u001b[31m---------------------------------------------------------------------------\u001b[39m",
      "\u001b[31mTypeError\u001b[39m                                 Traceback (most recent call last)",
      "\u001b[36mCell\u001b[39m\u001b[36m \u001b[39m\u001b[32mIn[47]\u001b[39m\u001b[32m, line 5\u001b[39m\n\u001b[32m      3\u001b[39m ll.insert(\u001b[33m'\u001b[39m\u001b[33m3\u001b[39m\u001b[33m'\u001b[39m)\n\u001b[32m      4\u001b[39m ll.insert(\u001b[33m'\u001b[39m\u001b[33m4\u001b[39m\u001b[33m'\u001b[39m)\n\u001b[32m----> \u001b[39m\u001b[32m5\u001b[39m \u001b[43mll\u001b[49m\u001b[43m.\u001b[49m\u001b[43mprintList\u001b[49m\u001b[43m(\u001b[49m\u001b[43m)\u001b[49m\n",
      "\u001b[36mCell\u001b[39m\u001b[36m \u001b[39m\u001b[32mIn[46]\u001b[39m\u001b[32m, line 25\u001b[39m, in \u001b[36mlinkedList.printList\u001b[39m\u001b[34m(self)\u001b[39m\n\u001b[32m     23\u001b[39m currentNode=\u001b[38;5;28mself\u001b[39m.head\n\u001b[32m     24\u001b[39m \u001b[38;5;28;01mwhile\u001b[39;00m currentNode \u001b[38;5;129;01mis\u001b[39;00m \u001b[38;5;129;01mnot\u001b[39;00m \u001b[38;5;28;01mNone\u001b[39;00m:\n\u001b[32m---> \u001b[39m\u001b[32m25\u001b[39m     \u001b[38;5;28;43mprint\u001b[39;49m\u001b[43m \u001b[49m\u001b[43m(\u001b[49m\u001b[43mcurrentNode\u001b[49m\u001b[43m.\u001b[49m\u001b[43mvalue\u001b[49m\u001b[43m,\u001b[49m\u001b[33;43m\"\u001b[39;49m\u001b[33;43m->\u001b[39;49m\u001b[33;43m\"\u001b[39;49m\u001b[43m,\u001b[49m\u001b[43mcurrentNode\u001b[49m\u001b[43m=\u001b[49m\u001b[43mcurrentNode\u001b[49m\u001b[43m.\u001b[49m\u001b[43mnextNode\u001b[49m\u001b[43m)\u001b[49m\n\u001b[32m     26\u001b[39m \u001b[38;5;28mprint\u001b[39m(\u001b[33m\"\u001b[39m\u001b[33mNone\u001b[39m\u001b[33m\"\u001b[39m)\n",
      "\u001b[31mTypeError\u001b[39m: print() got an unexpected keyword argument 'currentNode'"
     ]
    }
   ],
   "source": [
    "ll=linkedList()\n",
    "ll.printList()\n",
    "ll.insert('3')\n",
    "ll.insert('4')\n",
    "ll.printList()"
   ]
  },
  {
   "cell_type": "code",
   "execution_count": 18,
   "id": "72947271",
   "metadata": {},
   "outputs": [
    {
     "name": "stdout",
     "output_type": "stream",
     "text": [
      "Sum in binary: 10010\n"
     ]
    }
   ],
   "source": [
    "a=input('Enter binary number a')\n",
    "b=input('Enter binary number b')\n",
    "\n",
    "# Convert input strings to integers (base 2), add them, then convert back to binary string\n",
    "c = bin(int(a, 2) + int(b, 2))\n",
    "\n",
    "print(\"Sum in binary:\", c[2:])"
   ]
  },
  {
   "cell_type": "code",
   "execution_count": 26,
   "id": "6e4fd7ee",
   "metadata": {},
   "outputs": [
    {
     "name": "stdout",
     "output_type": "stream",
     "text": [
      "0b1101110\n"
     ]
    },
    {
     "data": {
      "text/plain": [
       "'1101110'"
      ]
     },
     "execution_count": 26,
     "metadata": {},
     "output_type": "execute_result"
    }
   ],
   "source": [
    "a_b=bin(int(a))\n",
    "b_b=bin(int(b))\n",
    "print(a_b)\n",
    "a_b[2:]"
   ]
  },
  {
   "cell_type": "code",
   "execution_count": 38,
   "id": "05676e03",
   "metadata": {},
   "outputs": [
    {
     "name": "stdout",
     "output_type": "stream",
     "text": [
      "Binary: 1101110\n",
      "Octal: 156\n",
      "Decimal: 110\n"
     ]
    }
   ],
   "source": [
    "# a single program to convert number to binary ocatl and decimal\n",
    "\n",
    "def calc(num, base):\n",
    "    result = \"\"\n",
    "    n = int(num)\n",
    "    if base == 2:\n",
    "        result = bin(n)[2:]\n",
    "    elif base == 8:\n",
    "        result = oct(n)[2:]\n",
    "    elif base == 10:\n",
    "        result = str(n)\n",
    "    else:\n",
    "        result = \"Unsupported base\"\n",
    "    return result\n",
    "\n",
    "# Example usage:\n",
    "num = a  # using the variable 'a' from previous cells\n",
    "print(\"Binary:\", calc(num, 2))\n",
    "print(\"Octal:\", calc(num, 8))\n",
    "print(\"Decimal:\", calc(num, 10))"
   ]
  },
  {
   "cell_type": "code",
   "execution_count": 40,
   "id": "074a92e3",
   "metadata": {},
   "outputs": [
    {
     "name": "stdout",
     "output_type": "stream",
     "text": [
      "Binary:  1111000\n",
      "Octal: 170\n",
      "Hexadecimal: 78\n"
     ]
    }
   ],
   "source": [
    "def convert(num,base):\n",
    "    digits = \"0123456789ABCDEF\"\n",
    "            # 0123456789101112131415\n",
    "    result=\"\"\n",
    "    while num > 0:\n",
    "        result = digits[num % base] + result\n",
    "        num = num // base\n",
    "    return result\n",
    "\n",
    "num = int(input(\"Enter a decimal: \"))\n",
    "print(\"Binary: \",convert(num,2))\n",
    "print(\"Octal:\",convert(num,8))\n",
    "print(\"Hexadecimal:\", convert(num,16))"
   ]
  },
  {
   "cell_type": "code",
   "execution_count": null,
   "id": "82f9cec1",
   "metadata": {},
   "outputs": [],
   "source": [
    "num=int(input(\"enter a number\")) #int object is not iterable so we convert to string \n",
    "\n",
    "digits=[int(c) for c in str(num) if c!= 0] #converting back to int"
   ]
  },
  {
   "cell_type": "code",
   "execution_count": null,
   "id": "fa9f38b4",
   "metadata": {},
   "outputs": [
    {
     "data": {
      "text/plain": [
       "[1, 0, 0, 0, 0]"
      ]
     },
     "execution_count": 79,
     "metadata": {},
     "output_type": "execute_result"
    }
   ],
   "source": []
  },
  {
   "cell_type": "code",
   "execution_count": null,
   "id": "84638ca5",
   "metadata": {},
   "outputs": [],
   "source": [
    "digits"
   ]
  },
  {
   "cell_type": "code",
   "execution_count": 80,
   "id": "0ccbcb2c",
   "metadata": {},
   "outputs": [
    {
     "ename": "ZeroDivisionError",
     "evalue": "integer modulo by zero",
     "output_type": "error",
     "traceback": [
      "\u001b[31m---------------------------------------------------------------------------\u001b[39m",
      "\u001b[31mZeroDivisionError\u001b[39m                         Traceback (most recent call last)",
      "\u001b[36mCell\u001b[39m\u001b[36m \u001b[39m\u001b[32mIn[80]\u001b[39m\u001b[32m, line 3\u001b[39m\n\u001b[32m      1\u001b[39m flag=\u001b[33m'\u001b[39m\u001b[33myes\u001b[39m\u001b[33m'\u001b[39m\n\u001b[32m      2\u001b[39m \u001b[38;5;28;01mfor\u001b[39;00m d \u001b[38;5;129;01min\u001b[39;00m digits :\n\u001b[32m----> \u001b[39m\u001b[32m3\u001b[39m     \u001b[38;5;28;01mif\u001b[39;00m \u001b[43mnum\u001b[49m\u001b[43m%\u001b[49m\u001b[43md\u001b[49m !=\u001b[32m0\u001b[39m:\n\u001b[32m      4\u001b[39m         flag=\u001b[33m\"\u001b[39m\u001b[33mNo\u001b[39m\u001b[33m\"\u001b[39m\n\u001b[32m      5\u001b[39m         \u001b[38;5;28;01mbreak\u001b[39;00m\n",
      "\u001b[31mZeroDivisionError\u001b[39m: integer modulo by zero"
     ]
    }
   ],
   "source": [
    "flag='yes'\n",
    "for d in digits :\n",
    "    if num%d !=0:\n",
    "        flag=\"No\"\n",
    "        break\n",
    "print(flag)\n"
   ]
  }
 ],
 "metadata": {
  "kernelspec": {
   "display_name": "venv",
   "language": "python",
   "name": "python3"
  },
  "language_info": {
   "codemirror_mode": {
    "name": "ipython",
    "version": 3
   },
   "file_extension": ".py",
   "mimetype": "text/x-python",
   "name": "python",
   "nbconvert_exporter": "python",
   "pygments_lexer": "ipython3",
   "version": "3.13.5"
  }
 },
 "nbformat": 4,
 "nbformat_minor": 5
}
