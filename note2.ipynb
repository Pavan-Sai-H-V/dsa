{
 "cells": [
  {
   "cell_type": "code",
   "execution_count": 51,
   "id": "891f7a3a",
   "metadata": {},
   "outputs": [
    {
     "name": "stdout",
     "output_type": "stream",
     "text": [
      "10 -> 20 -> 30 -> None\n",
      "Deleted value: 20\n",
      "10 -> 30 -> None\n",
      "Updated 30 to 40\n",
      "10 -> 40 -> None\n"
     ]
    }
   ],
   "source": [
    "class Node:\n",
    "    def __init__(self, data):\n",
    "        self.data = data\n",
    "        self.next = None\n",
    "\n",
    "class LinkedList:\n",
    "    def __init__(self):\n",
    "        self.head = None\n",
    "\n",
    "    # Insert at end\n",
    "    def insert(self, data):\n",
    "        new_node = Node(data)\n",
    "        if not self.head:\n",
    "            self.head = new_node\n",
    "            return\n",
    "        current = self.head\n",
    "        while current.next:\n",
    "            current = current.next\n",
    "        current.next = new_node\n",
    "\n",
    "    # Print the list\n",
    "    def print_list(self):\n",
    "        current = self.head\n",
    "        while current:\n",
    "            print(current.data, end=\" -> \")\n",
    "            current = current.next\n",
    "        print(\"None\")\n",
    "\n",
    "    # Delete a node by value\n",
    "    def delete(self, value):\n",
    "        current = self.head\n",
    "        previous = None\n",
    "\n",
    "        while current and current.data != value:\n",
    "            previous = current\n",
    "            current = current.next\n",
    "\n",
    "        if not current:\n",
    "            print(f\"Value {value} not found in the list.\")\n",
    "            return\n",
    "\n",
    "        if not previous:\n",
    "            self.head = current.next  # Deleting the head\n",
    "        else:\n",
    "            previous.next = current.next\n",
    "        print(f\"Deleted value: {value}\")\n",
    "\n",
    "    # Update a node value\n",
    "    def update(self, old_value, new_value):\n",
    "        current = self.head\n",
    "        while current:\n",
    "            if current.data == old_value:\n",
    "                current.data = new_value\n",
    "                print(f\"Updated {old_value} to {new_value}\")\n",
    "                return\n",
    "            current = current.next\n",
    "        print(f\"Value {old_value} not found to update.\")\n",
    "\n",
    "\n",
    "# Example Usage\n",
    "ll = LinkedList()\n",
    "ll.insert(10)\n",
    "ll.insert(20)\n",
    "ll.insert(30)\n",
    "ll.print_list()           # Output: 10 -> 20 -> 30 -> None\n",
    "ll.delete(20)\n",
    "ll.print_list()           # Output: 10 -> 30 -> None\n",
    "ll.update(30, 40)\n",
    "ll.print_list()           # Output: 10 -> 40 -> None\n"
   ]
  },
  {
   "cell_type": "code",
   "execution_count": 50,
   "id": "9c9c8306",
   "metadata": {},
   "outputs": [
    {
     "name": "stdout",
     "output_type": "stream",
     "text": [
      "None\n"
     ]
    },
    {
     "ename": "TypeError",
     "evalue": "print() got an unexpected keyword argument 'currentNode'",
     "output_type": "error",
     "traceback": [
      "\u001b[31m---------------------------------------------------------------------------\u001b[39m",
      "\u001b[31mTypeError\u001b[39m                                 Traceback (most recent call last)",
      "\u001b[36mCell\u001b[39m\u001b[36m \u001b[39m\u001b[32mIn[50]\u001b[39m\u001b[32m, line 33\u001b[39m\n\u001b[32m     31\u001b[39m ll.insert(\u001b[33m'\u001b[39m\u001b[33m3\u001b[39m\u001b[33m'\u001b[39m)\n\u001b[32m     32\u001b[39m ll.insert(\u001b[33m'\u001b[39m\u001b[33m4\u001b[39m\u001b[33m'\u001b[39m)\n\u001b[32m---> \u001b[39m\u001b[32m33\u001b[39m \u001b[43mll\u001b[49m\u001b[43m.\u001b[49m\u001b[43mprintList\u001b[49m\u001b[43m(\u001b[49m\u001b[43m)\u001b[49m\n",
      "\u001b[36mCell\u001b[39m\u001b[36m \u001b[39m\u001b[32mIn[50]\u001b[39m\u001b[32m, line 25\u001b[39m, in \u001b[36mlinkedList.printList\u001b[39m\u001b[34m(self)\u001b[39m\n\u001b[32m     23\u001b[39m currentNode=\u001b[38;5;28mself\u001b[39m.head\n\u001b[32m     24\u001b[39m \u001b[38;5;28;01mwhile\u001b[39;00m currentNode \u001b[38;5;129;01mis\u001b[39;00m \u001b[38;5;129;01mnot\u001b[39;00m \u001b[38;5;28;01mNone\u001b[39;00m:\n\u001b[32m---> \u001b[39m\u001b[32m25\u001b[39m     \u001b[38;5;28;43mprint\u001b[39;49m\u001b[43m \u001b[49m\u001b[43m(\u001b[49m\u001b[43mcurrentNode\u001b[49m\u001b[43m.\u001b[49m\u001b[43mvalue\u001b[49m\u001b[43m,\u001b[49m\u001b[33;43m\"\u001b[39;49m\u001b[33;43m->\u001b[39;49m\u001b[33;43m\"\u001b[39;49m\u001b[43m,\u001b[49m\u001b[43mcurrentNode\u001b[49m\u001b[43m=\u001b[49m\u001b[43mcurrentNode\u001b[49m\u001b[43m.\u001b[49m\u001b[43mnextNode\u001b[49m\u001b[43m)\u001b[49m\n\u001b[32m     26\u001b[39m \u001b[38;5;28mprint\u001b[39m(\u001b[33m\"\u001b[39m\u001b[33mNone\u001b[39m\u001b[33m\"\u001b[39m)\n",
      "\u001b[31mTypeError\u001b[39m: print() got an unexpected keyword argument 'currentNode'"
     ]
    }
   ],
   "source": [
    "class linkedListNode: #node intitialization\n",
    "    def __init__(self,value,nextNode=None):\n",
    "        self.value=value #initiating value\n",
    "        self.nextNode=nextNode #initiating node to none \n",
    "\n",
    "\n",
    "class linkedList:\n",
    "    def __init__(self,head=None): \n",
    "        self.head=head #head node\n",
    "    \n",
    "    def insert(self,value):\n",
    "        node=linkedListNode(value) \n",
    "        if self.head is None: #if head value is none then the current value will get into head\n",
    "            self.head = node \n",
    "            return#value is upadetd as head\n",
    "        currentNode=self.head #\n",
    "        while True:\n",
    "            if currentNode.nextNode is None:\n",
    "                currentNode.nextNode = node\n",
    "                return\n",
    "            currentNode=currentNode.nextNode\n",
    "    def printList(self):\n",
    "        currentNode=self.head\n",
    "        while currentNode is not None:\n",
    "            print (currentNode.value,\"->\",currentNode=currentNode.nextNode)\n",
    "        print(\"None\")\n",
    "\n",
    "\n",
    "ll=linkedList()\n",
    "ll.printList()\n",
    "ll.insert('3')\n",
    "ll.insert('4')\n",
    "ll.printList()"
   ]
  },
  {
   "cell_type": "code",
   "execution_count": 47,
   "id": "0ad16b65",
   "metadata": {},
   "outputs": [
    {
     "name": "stdout",
     "output_type": "stream",
     "text": [
      "None\n"
     ]
    },
    {
     "ename": "TypeError",
     "evalue": "print() got an unexpected keyword argument 'currentNode'",
     "output_type": "error",
     "traceback": [
      "\u001b[31m---------------------------------------------------------------------------\u001b[39m",
      "\u001b[31mTypeError\u001b[39m                                 Traceback (most recent call last)",
      "\u001b[36mCell\u001b[39m\u001b[36m \u001b[39m\u001b[32mIn[47]\u001b[39m\u001b[32m, line 5\u001b[39m\n\u001b[32m      3\u001b[39m ll.insert(\u001b[33m'\u001b[39m\u001b[33m3\u001b[39m\u001b[33m'\u001b[39m)\n\u001b[32m      4\u001b[39m ll.insert(\u001b[33m'\u001b[39m\u001b[33m4\u001b[39m\u001b[33m'\u001b[39m)\n\u001b[32m----> \u001b[39m\u001b[32m5\u001b[39m \u001b[43mll\u001b[49m\u001b[43m.\u001b[49m\u001b[43mprintList\u001b[49m\u001b[43m(\u001b[49m\u001b[43m)\u001b[49m\n",
      "\u001b[36mCell\u001b[39m\u001b[36m \u001b[39m\u001b[32mIn[46]\u001b[39m\u001b[32m, line 25\u001b[39m, in \u001b[36mlinkedList.printList\u001b[39m\u001b[34m(self)\u001b[39m\n\u001b[32m     23\u001b[39m currentNode=\u001b[38;5;28mself\u001b[39m.head\n\u001b[32m     24\u001b[39m \u001b[38;5;28;01mwhile\u001b[39;00m currentNode \u001b[38;5;129;01mis\u001b[39;00m \u001b[38;5;129;01mnot\u001b[39;00m \u001b[38;5;28;01mNone\u001b[39;00m:\n\u001b[32m---> \u001b[39m\u001b[32m25\u001b[39m     \u001b[38;5;28;43mprint\u001b[39;49m\u001b[43m \u001b[49m\u001b[43m(\u001b[49m\u001b[43mcurrentNode\u001b[49m\u001b[43m.\u001b[49m\u001b[43mvalue\u001b[49m\u001b[43m,\u001b[49m\u001b[33;43m\"\u001b[39;49m\u001b[33;43m->\u001b[39;49m\u001b[33;43m\"\u001b[39;49m\u001b[43m,\u001b[49m\u001b[43mcurrentNode\u001b[49m\u001b[43m=\u001b[49m\u001b[43mcurrentNode\u001b[49m\u001b[43m.\u001b[49m\u001b[43mnextNode\u001b[49m\u001b[43m)\u001b[49m\n\u001b[32m     26\u001b[39m \u001b[38;5;28mprint\u001b[39m(\u001b[33m\"\u001b[39m\u001b[33mNone\u001b[39m\u001b[33m\"\u001b[39m)\n",
      "\u001b[31mTypeError\u001b[39m: print() got an unexpected keyword argument 'currentNode'"
     ]
    }
   ],
   "source": [
    "ll=linkedList()\n",
    "ll.printList()\n",
    "ll.insert('3')\n",
    "ll.insert('4')\n",
    "ll.printList()"
   ]
  },
  {
   "cell_type": "code",
   "execution_count": 18,
   "id": "72947271",
   "metadata": {},
   "outputs": [
    {
     "name": "stdout",
     "output_type": "stream",
     "text": [
      "Sum in binary: 10010\n"
     ]
    }
   ],
   "source": [
    "a=input('Enter binary number a')\n",
    "b=input('Enter binary number b')\n",
    "\n",
    "# Convert input strings to integers (base 2), add them, then convert back to binary string\n",
    "c = bin(int(a, 2) + int(b, 2))\n",
    "\n",
    "print(\"Sum in binary:\", c[2:])"
   ]
  },
  {
   "cell_type": "code",
   "execution_count": 26,
   "id": "6e4fd7ee",
   "metadata": {},
   "outputs": [
    {
     "name": "stdout",
     "output_type": "stream",
     "text": [
      "0b1101110\n"
     ]
    },
    {
     "data": {
      "text/plain": [
       "'1101110'"
      ]
     },
     "execution_count": 26,
     "metadata": {},
     "output_type": "execute_result"
    }
   ],
   "source": [
    "a_b=bin(int(a))\n",
    "b_b=bin(int(b))\n",
    "print(a_b)\n",
    "a_b[2:]"
   ]
  },
  {
   "cell_type": "code",
   "execution_count": 38,
   "id": "05676e03",
   "metadata": {},
   "outputs": [
    {
     "name": "stdout",
     "output_type": "stream",
     "text": [
      "Binary: 1101110\n",
      "Octal: 156\n",
      "Decimal: 110\n"
     ]
    }
   ],
   "source": [
    "# a single program to convert number to binary ocatl and decimal\n",
    "\n",
    "def calc(num, base):\n",
    "    result = \"\"\n",
    "    n = int(num)\n",
    "    if base == 2:\n",
    "        result = bin(n)[2:]\n",
    "    elif base == 8:\n",
    "        result = oct(n)[2:]\n",
    "    elif base == 10:\n",
    "        result = str(n)\n",
    "    else:\n",
    "        result = \"Unsupported base\"\n",
    "    return result\n",
    "\n",
    "# Example usage:\n",
    "num = a  # using the variable 'a' from previous cells\n",
    "print(\"Binary:\", calc(num, 2))\n",
    "print(\"Octal:\", calc(num, 8))\n",
    "print(\"Decimal:\", calc(num, 10))"
   ]
  },
  {
   "cell_type": "code",
   "execution_count": 40,
   "id": "074a92e3",
   "metadata": {},
   "outputs": [
    {
     "name": "stdout",
     "output_type": "stream",
     "text": [
      "Binary:  1111000\n",
      "Octal: 170\n",
      "Hexadecimal: 78\n"
     ]
    }
   ],
   "source": [
    "def convert(num,base):\n",
    "    digits = \"0123456789ABCDEF\"\n",
    "            # 0123456789101112131415\n",
    "    result=\"\"\n",
    "    while num > 0:\n",
    "        result = digits[num % base] + result\n",
    "        num = num // base\n",
    "    return result\n",
    "\n",
    "num = int(input(\"Enter a decimal: \"))\n",
    "print(\"Binary: \",convert(num,2))\n",
    "print(\"Octal:\",convert(num,8))\n",
    "print(\"Hexadecimal:\", convert(num,16))"
   ]
  },
  {
   "cell_type": "code",
   "execution_count": null,
   "id": "82f9cec1",
   "metadata": {},
   "outputs": [],
   "source": [
    "num=int(input(\"enter a number\")) #int object is not iterable so we convert to string \n",
    "\n",
    "digits=[int(c) for c in str(num) if c!= 0] #converting back to int"
   ]
  },
  {
   "cell_type": "code",
   "execution_count": null,
   "id": "fa9f38b4",
   "metadata": {},
   "outputs": [
    {
     "data": {
      "text/plain": [
       "[1, 0, 0, 0, 0]"
      ]
     },
     "execution_count": 79,
     "metadata": {},
     "output_type": "execute_result"
    }
   ],
   "source": []
  },
  {
   "cell_type": "code",
   "execution_count": null,
   "id": "84638ca5",
   "metadata": {},
   "outputs": [],
   "source": [
    "digits"
   ]
  },
  {
   "cell_type": "code",
   "execution_count": 80,
   "id": "0ccbcb2c",
   "metadata": {},
   "outputs": [
    {
     "ename": "ZeroDivisionError",
     "evalue": "integer modulo by zero",
     "output_type": "error",
     "traceback": [
      "\u001b[31m---------------------------------------------------------------------------\u001b[39m",
      "\u001b[31mZeroDivisionError\u001b[39m                         Traceback (most recent call last)",
      "\u001b[36mCell\u001b[39m\u001b[36m \u001b[39m\u001b[32mIn[80]\u001b[39m\u001b[32m, line 3\u001b[39m\n\u001b[32m      1\u001b[39m flag=\u001b[33m'\u001b[39m\u001b[33myes\u001b[39m\u001b[33m'\u001b[39m\n\u001b[32m      2\u001b[39m \u001b[38;5;28;01mfor\u001b[39;00m d \u001b[38;5;129;01min\u001b[39;00m digits :\n\u001b[32m----> \u001b[39m\u001b[32m3\u001b[39m     \u001b[38;5;28;01mif\u001b[39;00m \u001b[43mnum\u001b[49m\u001b[43m%\u001b[49m\u001b[43md\u001b[49m !=\u001b[32m0\u001b[39m:\n\u001b[32m      4\u001b[39m         flag=\u001b[33m\"\u001b[39m\u001b[33mNo\u001b[39m\u001b[33m\"\u001b[39m\n\u001b[32m      5\u001b[39m         \u001b[38;5;28;01mbreak\u001b[39;00m\n",
      "\u001b[31mZeroDivisionError\u001b[39m: integer modulo by zero"
     ]
    }
   ],
   "source": [
    "flag='yes'\n",
    "for d in digits :\n",
    "    if num%d !=0:\n",
    "        flag=\"No\"\n",
    "        break\n",
    "print(flag)\n"
   ]
  },
  {
   "cell_type": "code",
   "execution_count": 2,
   "id": "016657f9",
   "metadata": {},
   "outputs": [
    {
     "name": "stdout",
     "output_type": "stream",
     "text": [
      "Collecting pillow\n",
      "  Downloading pillow-11.2.1-cp313-cp313-macosx_11_0_arm64.whl.metadata (8.9 kB)\n",
      "Downloading pillow-11.2.1-cp313-cp313-macosx_11_0_arm64.whl (3.0 MB)\n",
      "\u001b[2K   \u001b[90m━━━━━━━━━━━━━━━━━━━━━━━━━━━━━━━━━━━━━━━━\u001b[0m \u001b[32m3.0/3.0 MB\u001b[0m \u001b[31m12.7 MB/s\u001b[0m eta \u001b[36m0:00:00\u001b[0ma \u001b[36m0:00:01\u001b[0m\n",
      "\u001b[?25hInstalling collected packages: pillow\n",
      "Successfully installed pillow-11.2.1\n",
      "Note: you may need to restart the kernel to use updated packages.\n"
     ]
    }
   ],
   "source": [
    "pip install pillow"
   ]
  },
  {
   "cell_type": "code",
   "execution_count": 1,
   "id": "250bc6ed",
   "metadata": {},
   "outputs": [],
   "source": [
    "from PIL import Image\n",
    "\n",
    "def tif_to_png(input_path, output_path):\n",
    "    with Image.open(input_path) as img:\n",
    "        img.save(output_path, 'PNG')\n",
    "\n",
    "# Example usage:\n",
    "# tif_to_png('input_image.tif', 'output_image.png')"
   ]
  },
  {
   "cell_type": "code",
   "execution_count": 2,
   "id": "44b06439",
   "metadata": {},
   "outputs": [
    {
     "ename": "DecompressionBombError",
     "evalue": "Image size (1041907072 pixels) exceeds limit of 178956970 pixels, could be decompression bomb DOS attack.",
     "output_type": "error",
     "traceback": [
      "\u001b[31m---------------------------------------------------------------------------\u001b[39m",
      "\u001b[31mDecompressionBombError\u001b[39m                    Traceback (most recent call last)",
      "\u001b[36mCell\u001b[39m\u001b[36m \u001b[39m\u001b[32mIn[2]\u001b[39m\u001b[32m, line 20\u001b[39m\n\u001b[32m     17\u001b[39m         \u001b[38;5;28mprint\u001b[39m(\u001b[33mf\u001b[39m\u001b[33m\"\u001b[39m\u001b[33mConverted \u001b[39m\u001b[33m'\u001b[39m\u001b[38;5;132;01m{\u001b[39;00minput_path\u001b[38;5;132;01m}\u001b[39;00m\u001b[33m'\u001b[39m\u001b[33m to \u001b[39m\u001b[33m'\u001b[39m\u001b[38;5;132;01m{\u001b[39;00moutput_path\u001b[38;5;132;01m}\u001b[39;00m\u001b[33m'\u001b[39m\u001b[33m\"\u001b[39m)\n\u001b[32m     19\u001b[39m \u001b[38;5;66;03m# Example usage\u001b[39;00m\n\u001b[32m---> \u001b[39m\u001b[32m20\u001b[39m \u001b[43mconvert_tif_to_png\u001b[49m\u001b[43m(\u001b[49m\u001b[33;43m'\u001b[39;49m\u001b[33;43mlunar.tif\u001b[39;49m\u001b[33;43m'\u001b[39;49m\u001b[43m)\u001b[49m\n",
      "\u001b[36mCell\u001b[39m\u001b[36m \u001b[39m\u001b[32mIn[2]\u001b[39m\u001b[32m, line 6\u001b[39m, in \u001b[36mconvert_tif_to_png\u001b[39m\u001b[34m(input_path, output_path)\u001b[39m\n\u001b[32m      4\u001b[39m \u001b[38;5;28;01mdef\u001b[39;00m\u001b[38;5;250m \u001b[39m\u001b[34mconvert_tif_to_png\u001b[39m(input_path, output_path=\u001b[38;5;28;01mNone\u001b[39;00m):\n\u001b[32m      5\u001b[39m     \u001b[38;5;66;03m# Open the .tif image\u001b[39;00m\n\u001b[32m----> \u001b[39m\u001b[32m6\u001b[39m     \u001b[38;5;28;01mwith\u001b[39;00m \u001b[43mImage\u001b[49m\u001b[43m.\u001b[49m\u001b[43mopen\u001b[49m\u001b[43m(\u001b[49m\u001b[43minput_path\u001b[49m\u001b[43m)\u001b[49m \u001b[38;5;28;01mas\u001b[39;00m img:\n\u001b[32m      7\u001b[39m         \u001b[38;5;66;03m# Convert to RGB if it's not already (some TIFFs may be in palette or CMYK mode)\u001b[39;00m\n\u001b[32m      8\u001b[39m         \u001b[38;5;28;01mif\u001b[39;00m img.mode != \u001b[33m'\u001b[39m\u001b[33mRGB\u001b[39m\u001b[33m'\u001b[39m:\n\u001b[32m      9\u001b[39m             img = img.convert(\u001b[33m'\u001b[39m\u001b[33mRGB\u001b[39m\u001b[33m'\u001b[39m)\n",
      "\u001b[36mFile \u001b[39m\u001b[32m~/Projects/training/venv/lib/python3.13/site-packages/PIL/Image.py:3556\u001b[39m, in \u001b[36mopen\u001b[39m\u001b[34m(fp, mode, formats)\u001b[39m\n\u001b[32m   3554\u001b[39m     checked_formats = ID.copy()\n\u001b[32m   3555\u001b[39m     \u001b[38;5;28;01mif\u001b[39;00m init():\n\u001b[32m-> \u001b[39m\u001b[32m3556\u001b[39m         im = \u001b[43m_open_core\u001b[49m\u001b[43m(\u001b[49m\n\u001b[32m   3557\u001b[39m \u001b[43m            \u001b[49m\u001b[43mfp\u001b[49m\u001b[43m,\u001b[49m\n\u001b[32m   3558\u001b[39m \u001b[43m            \u001b[49m\u001b[43mfilename\u001b[49m\u001b[43m,\u001b[49m\n\u001b[32m   3559\u001b[39m \u001b[43m            \u001b[49m\u001b[43mprefix\u001b[49m\u001b[43m,\u001b[49m\n\u001b[32m   3560\u001b[39m \u001b[43m            \u001b[49m\u001b[38;5;28;43mtuple\u001b[39;49m\u001b[43m(\u001b[49m\u001b[38;5;28;43mformat\u001b[39;49m\u001b[43m \u001b[49m\u001b[38;5;28;43;01mfor\u001b[39;49;00m\u001b[43m \u001b[49m\u001b[38;5;28;43mformat\u001b[39;49m\u001b[43m \u001b[49m\u001b[38;5;129;43;01min\u001b[39;49;00m\u001b[43m \u001b[49m\u001b[43mformats\u001b[49m\u001b[43m \u001b[49m\u001b[38;5;28;43;01mif\u001b[39;49;00m\u001b[43m \u001b[49m\u001b[38;5;28;43mformat\u001b[39;49m\u001b[43m \u001b[49m\u001b[38;5;129;43;01mnot\u001b[39;49;00m\u001b[43m \u001b[49m\u001b[38;5;129;43;01min\u001b[39;49;00m\u001b[43m \u001b[49m\u001b[43mchecked_formats\u001b[49m\u001b[43m)\u001b[49m\u001b[43m,\u001b[49m\n\u001b[32m   3561\u001b[39m \u001b[43m        \u001b[49m\u001b[43m)\u001b[49m\n\u001b[32m   3563\u001b[39m \u001b[38;5;28;01mif\u001b[39;00m im:\n\u001b[32m   3564\u001b[39m     im._exclusive_fp = exclusive_fp\n",
      "\u001b[36mFile \u001b[39m\u001b[32m~/Projects/training/venv/lib/python3.13/site-packages/PIL/Image.py:3540\u001b[39m, in \u001b[36mopen.<locals>._open_core\u001b[39m\u001b[34m(fp, filename, prefix, formats)\u001b[39m\n\u001b[32m   3538\u001b[39m         fp.seek(\u001b[32m0\u001b[39m)\n\u001b[32m   3539\u001b[39m         im = factory(fp, filename)\n\u001b[32m-> \u001b[39m\u001b[32m3540\u001b[39m         \u001b[43m_decompression_bomb_check\u001b[49m\u001b[43m(\u001b[49m\u001b[43mim\u001b[49m\u001b[43m.\u001b[49m\u001b[43msize\u001b[49m\u001b[43m)\u001b[49m\n\u001b[32m   3541\u001b[39m         \u001b[38;5;28;01mreturn\u001b[39;00m im\n\u001b[32m   3542\u001b[39m \u001b[38;5;28;01mexcept\u001b[39;00m (\u001b[38;5;167;01mSyntaxError\u001b[39;00m, \u001b[38;5;167;01mIndexError\u001b[39;00m, \u001b[38;5;167;01mTypeError\u001b[39;00m, struct.error) \u001b[38;5;28;01mas\u001b[39;00m e:\n",
      "\u001b[36mFile \u001b[39m\u001b[32m~/Projects/training/venv/lib/python3.13/site-packages/PIL/Image.py:3439\u001b[39m, in \u001b[36m_decompression_bomb_check\u001b[39m\u001b[34m(size)\u001b[39m\n\u001b[32m   3434\u001b[39m \u001b[38;5;28;01mif\u001b[39;00m pixels > \u001b[32m2\u001b[39m * MAX_IMAGE_PIXELS:\n\u001b[32m   3435\u001b[39m     msg = (\n\u001b[32m   3436\u001b[39m         \u001b[33mf\u001b[39m\u001b[33m\"\u001b[39m\u001b[33mImage size (\u001b[39m\u001b[38;5;132;01m{\u001b[39;00mpixels\u001b[38;5;132;01m}\u001b[39;00m\u001b[33m pixels) exceeds limit of \u001b[39m\u001b[38;5;132;01m{\u001b[39;00m\u001b[32m2\u001b[39m\u001b[38;5;250m \u001b[39m*\u001b[38;5;250m \u001b[39mMAX_IMAGE_PIXELS\u001b[38;5;132;01m}\u001b[39;00m\u001b[33m \u001b[39m\u001b[33m\"\u001b[39m\n\u001b[32m   3437\u001b[39m         \u001b[33m\"\u001b[39m\u001b[33mpixels, could be decompression bomb DOS attack.\u001b[39m\u001b[33m\"\u001b[39m\n\u001b[32m   3438\u001b[39m     )\n\u001b[32m-> \u001b[39m\u001b[32m3439\u001b[39m     \u001b[38;5;28;01mraise\u001b[39;00m DecompressionBombError(msg)\n\u001b[32m   3441\u001b[39m \u001b[38;5;28;01mif\u001b[39;00m pixels > MAX_IMAGE_PIXELS:\n\u001b[32m   3442\u001b[39m     warnings.warn(\n\u001b[32m   3443\u001b[39m         \u001b[33mf\u001b[39m\u001b[33m\"\u001b[39m\u001b[33mImage size (\u001b[39m\u001b[38;5;132;01m{\u001b[39;00mpixels\u001b[38;5;132;01m}\u001b[39;00m\u001b[33m pixels) exceeds limit of \u001b[39m\u001b[38;5;132;01m{\u001b[39;00mMAX_IMAGE_PIXELS\u001b[38;5;132;01m}\u001b[39;00m\u001b[33m pixels, \u001b[39m\u001b[33m\"\u001b[39m\n\u001b[32m   3444\u001b[39m         \u001b[33m\"\u001b[39m\u001b[33mcould be decompression bomb DOS attack.\u001b[39m\u001b[33m\"\u001b[39m,\n\u001b[32m   3445\u001b[39m         DecompressionBombWarning,\n\u001b[32m   3446\u001b[39m     )\n",
      "\u001b[31mDecompressionBombError\u001b[39m: Image size (1041907072 pixels) exceeds limit of 178956970 pixels, could be decompression bomb DOS attack."
     ]
    }
   ],
   "source": [
    "from PIL import Image\n",
    "import os\n",
    "\n",
    "def convert_tif_to_png(input_path, output_path=None):\n",
    "    # Open the .tif image\n",
    "    with Image.open(input_path) as img:\n",
    "        # Convert to RGB if it's not already (some TIFFs may be in palette or CMYK mode)\n",
    "        if img.mode != 'RGB':\n",
    "            img = img.convert('RGB')\n",
    "\n",
    "        # Generate output path if not provided\n",
    "        if not output_path:\n",
    "            output_path = os.path.splitext(input_path)[0] + '.png'\n",
    "\n",
    "        # Save as .png\n",
    "        img.save(output_path, 'PNG')\n",
    "        print(f\"Converted '{input_path}' to '{output_path}'\")\n",
    "\n",
    "# Example usage\n",
    "convert_tif_to_png('lunar.tif')\n"
   ]
  },
  {
   "cell_type": "code",
   "execution_count": 3,
   "id": "2b1e8519",
   "metadata": {},
   "outputs": [
    {
     "name": "stdout",
     "output_type": "stream",
     "text": [
      "Converted 'lunar.tif' to 'lunar.png'\n"
     ]
    }
   ],
   "source": [
    "from PIL import Image\n",
    "import os\n",
    "\n",
    "# Remove the pixel limit warning\n",
    "Image.MAX_IMAGE_PIXELS = None\n",
    "\n",
    "def convert_tif_to_png(input_path, output_path=None):\n",
    "    with Image.open(input_path) as img:\n",
    "        if img.mode != 'RGB':\n",
    "            img = img.convert('RGB')\n",
    "        if not output_path:\n",
    "            output_path = os.path.splitext(input_path)[0] + '.png'\n",
    "        img.save(output_path, 'PNG')\n",
    "        print(f\"Converted '{input_path}' to '{output_path}'\")\n",
    "\n",
    "# Example usage\n",
    "convert_tif_to_png('lunar.tif')\n"
   ]
  }
 ],
 "metadata": {
  "kernelspec": {
   "display_name": "venv",
   "language": "python",
   "name": "python3"
  },
  "language_info": {
   "codemirror_mode": {
    "name": "ipython",
    "version": 3
   },
   "file_extension": ".py",
   "mimetype": "text/x-python",
   "name": "python",
   "nbconvert_exporter": "python",
   "pygments_lexer": "ipython3",
   "version": "3.13.5"
  }
 },
 "nbformat": 4,
 "nbformat_minor": 5
}
