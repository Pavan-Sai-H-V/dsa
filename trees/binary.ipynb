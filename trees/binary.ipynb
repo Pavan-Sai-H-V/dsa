{
 "cells": [
  {
   "cell_type": "code",
   "execution_count": 16,
   "id": "633f249c",
   "metadata": {},
   "outputs": [
    {
     "name": "stdout",
     "output_type": "stream",
     "text": [
      "1\n",
      "2\n"
     ]
    }
   ],
   "source": [
    "class Treenode:\n",
    "    def __init__(self,val,left=None,right=None):\n",
    "        self.val=val\n",
    "        self.left=left\n",
    "        self.right=right\n",
    "    def __str__(self):\n",
    "        return str(self.val)\n",
    "\n",
    "A=Treenode(1)\n",
    "B=Treenode(2)\n",
    "C=Treenode(3)\n",
    "D=Treenode(4)\n",
    "E=Treenode(5)\n",
    "F=Treenode(6)\n",
    "\n",
    "A.left=B\n",
    "A.right=C\n",
    "B.left=D\n",
    "B.right=E\n",
    "C.left=F\n",
    "\n",
    "print(A)\n",
    "print(A.left)"
   ]
  },
  {
   "cell_type": "code",
   "execution_count": 17,
   "id": "8ac7ea89",
   "metadata": {},
   "outputs": [
    {
     "name": "stdout",
     "output_type": "stream",
     "text": [
      "1\n",
      "2\n",
      "4\n",
      "5\n",
      "3\n",
      "6\n"
     ]
    }
   ],
   "source": [
    "def preorder(node):\n",
    "    if not node:\n",
    "        return\n",
    "    print(node)\n",
    "    preorder(node.left)\n",
    "    preorder(node.right)\n",
    "\n",
    "preorder(A)"
   ]
  },
  {
   "cell_type": "markdown",
   "id": "1caeb021",
   "metadata": {},
   "source": []
  },
  {
   "cell_type": "code",
   "execution_count": 18,
   "id": "799bf9fe",
   "metadata": {},
   "outputs": [
    {
     "name": "stdout",
     "output_type": "stream",
     "text": [
      "4\n",
      "2\n",
      "5\n",
      "1\n",
      "6\n",
      "3\n"
     ]
    }
   ],
   "source": [
    "def inorder(node):\n",
    "    if not node:\n",
    "        return\n",
    "    \n",
    "    inorder(node.left)\n",
    "    print(node)\n",
    "    inorder(node.right)\n",
    "\n",
    "inorder(A)"
   ]
  },
  {
   "cell_type": "markdown",
   "id": "e9a412c2",
   "metadata": {},
   "source": [
    "     1\n",
    "    / \\\n",
    "none  none\n"
   ]
  },
  {
   "cell_type": "code",
   "execution_count": 14,
   "id": "478c26d7",
   "metadata": {},
   "outputs": [],
   "source": [
    "# 1 first we create a node.\n",
    "#  all node in a b tree is a tree itself\n",
    "# 2 now we create a function to add left node and right nodes\n",
    "#3 creating a fucntion to insert nodes based on rules where l< root >right\n",
    "#\n",
    "class Node:\n",
    "    #1 basic tree with root | left:none | right:none\n",
    "    def __init__(self,data):\n",
    "        self.right=None\n",
    "        self.left=None\n",
    "        self.data=data\n",
    "\n",
    "    #2 \n",
    "    def insert(self,data):\n",
    "        if data>self.data:\n",
    "            if self.right is None:\n",
    "                self.right=Node(data)\n",
    "            else:\n",
    "                self.right.insert(data) #start the insert from where the node has a value\n",
    "        else:\n",
    "            if self.left is None:\n",
    "                self.left=Node(data)\n",
    "            else:\n",
    "                self.left.insert(data) #start the insert from where the node has a value\n",
    "\n",
    "#adding values \n",
    "if __name__ == '__main__':\n",
    "    root=Node('g')\n",
    "    root.insert('c')\n",
    "    root.insert('b')\n",
    "    root.insert('a')\n",
    "    root.insert('e')\n",
    "    root.insert('d')\n",
    "    root.insert('f')\n",
    "    root.insert('j')\n",
    "    root.insert('h')\n",
    "    root.insert('k')\n",
    "\n",
    "#displaying values. { inorder traversal }  left | root | right \n",
    "\n",
    "def inorderprint(r):\n",
    "    if r is None:\n",
    "        return\n",
    "    else:\n",
    "        inorderprint(r.left)\n",
    "        print(r.data)\n",
    "        inorderprint(r.right)\n",
    "\n",
    "def preorderprint(r):\n",
    "    if r is None:\n",
    "        return\n",
    "    else:\n",
    "        print(r.data)\n",
    "        preorderprint(r.left)\n",
    "        preorderprint(r.right)\n",
    "\n",
    "def postorderprint(r):\n",
    "    if r is None:\n",
    "        return\n",
    "    else:\n",
    "        postorderprint(r.left)\n",
    "        postorderprint(r.right)\n",
    "        print(r.data)\n",
    "\n",
    "\n"
   ]
  },
  {
   "cell_type": "code",
   "execution_count": 6,
   "id": "d2feeea6",
   "metadata": {},
   "outputs": [
    {
     "name": "stdout",
     "output_type": "stream",
     "text": [
      "a\n",
      "b\n",
      "c\n",
      "d\n",
      "e\n",
      "f\n",
      "g\n",
      "j\n",
      "k\n"
     ]
    }
   ],
   "source": [
    "inorderprint(root)"
   ]
  },
  {
   "cell_type": "code",
   "execution_count": 9,
   "id": "9541106e",
   "metadata": {},
   "outputs": [
    {
     "name": "stdout",
     "output_type": "stream",
     "text": [
      "g\n",
      "c\n",
      "b\n",
      "a\n",
      "e\n",
      "d\n",
      "f\n",
      "j\n",
      "k\n"
     ]
    }
   ],
   "source": [
    "preorderprint(root)"
   ]
  },
  {
   "cell_type": "code",
   "execution_count": 15,
   "id": "a06efa04",
   "metadata": {},
   "outputs": [
    {
     "name": "stdout",
     "output_type": "stream",
     "text": [
      "a\n",
      "b\n",
      "d\n",
      "f\n",
      "e\n",
      "c\n",
      "h\n",
      "k\n",
      "j\n",
      "g\n"
     ]
    }
   ],
   "source": [
    "postorderprint(root)"
   ]
  }
 ],
 "metadata": {
  "kernelspec": {
   "display_name": "env1 (3.12.11)",
   "language": "python",
   "name": "python3"
  },
  "language_info": {
   "codemirror_mode": {
    "name": "ipython",
    "version": 3
   },
   "file_extension": ".py",
   "mimetype": "text/x-python",
   "name": "python",
   "nbconvert_exporter": "python",
   "pygments_lexer": "ipython3",
   "version": "3.12.11"
  }
 },
 "nbformat": 4,
 "nbformat_minor": 5
}
