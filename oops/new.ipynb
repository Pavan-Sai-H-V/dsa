{
 "cells": [
  {
   "cell_type": "code",
   "execution_count": 1,
   "id": "b6c1635b",
   "metadata": {},
   "outputs": [],
   "source": [
    "class Student:\n",
    "    name='abc'\n",
    "    Lname='abc'\n",
    "    age=12"
   ]
  },
  {
   "cell_type": "code",
   "execution_count": 5,
   "id": "d74f0b34",
   "metadata": {},
   "outputs": [
    {
     "name": "stdout",
     "output_type": "stream",
     "text": [
      "abc abc\n"
     ]
    }
   ],
   "source": [
    "a=Student()\n",
    "print(a.name,a.Lname)"
   ]
  },
  {
   "cell_type": "code",
   "execution_count": 6,
   "id": "ecfea2a9",
   "metadata": {},
   "outputs": [],
   "source": [
    "class Explore:\n",
    "    def __init__(self,x,y,z):\n",
    "        self.name=x\n",
    "        self.marks=y\n",
    "        self.rollno=z\n",
    "\n"
   ]
  },
  {
   "cell_type": "code",
   "execution_count": 10,
   "id": "750176bc",
   "metadata": {},
   "outputs": [
    {
     "name": "stdout",
     "output_type": "stream",
     "text": [
      "hello 22 22138062\n"
     ]
    }
   ],
   "source": [
    "n=Explore(\"hello\",22,22138062)\n",
    "print(n.name,n.marks,n.rollno)"
   ]
  },
  {
   "cell_type": "code",
   "execution_count": null,
   "id": "631805bf",
   "metadata": {},
   "outputs": [
    {
     "name": "stdout",
     "output_type": "stream",
     "text": [
      "Sai 85 62\n"
     ]
    }
   ],
   "source": [
    "class New:\n",
    "    def __init__(self,x,y,z):\n",
    "        self.name=x\n",
    "        self.marks=y\n",
    "        self.rollno=z\n",
    "    def printdetails(self):\n",
    "        print(self.name,self.marks,self.rollno)\n",
    "\n",
    "a=New('Sai',85,62)\n",
    "\n",
    "a.printdetails()"
   ]
  },
  {
   "cell_type": "code",
   "execution_count": null,
   "id": "dc1d965a",
   "metadata": {},
   "outputs": [
    {
     "name": "stdout",
     "output_type": "stream",
     "text": [
      "sai 33 21\n",
      "pavan 55 22\n",
      "hapdi 55 32\n"
     ]
    }
   ],
   "source": [
    "class New:\n",
    "    def __init__(self):\n",
    "        self.details = []\n",
    "\n",
    "    def add_detail(self):\n",
    "        a=int(input('Enter the no of students'))\n",
    "        for i in range(a):\n",
    "            name = input(\"Enter name: \")\n",
    "            marks = int(input(\"Enter marks: \"))\n",
    "            rollno = int(input(\"Enter roll number: \"))\n",
    "            self.details.append({'name': name, 'marks': marks, 'rollno': rollno})\n",
    "\n",
    "    def printdetails(self):\n",
    "        for detail in self.details:\n",
    "            print(detail['name'], detail['marks'], detail['rollno'])\n",
    "\n",
    "            \n",
    "a = New()\n",
    "a.add_detail()\n",
    "a.printdetails()"
   ]
  },
  {
   "cell_type": "code",
   "execution_count": 10,
   "id": "3a592738",
   "metadata": {},
   "outputs": [],
   "source": [
    "class Bank:\n",
    "    def __init__(self):\n",
    "        self.details=[]\n",
    "\n",
    "    # def createacc(self):\n",
    "    #     acc_no=int(input(\"Enter acc deatails\"))\n",
    "    #     name=input('Enter acc holder name')\n",
    "    #     balance=0\n",
    "    #     self.details.append({'AccountNumber:':acc_no, 'Name':name,'Balance':balance})\n",
    "\n",
    "    # def getDetails(self):\n",
    "    #     det=int(input('Enter account No'))\n",
    "    #     for detail in self.details:\n",
    "    #          if detail['AccountNumber:'] == det:\n",
    "    #             print(detail)\n",
    "    #             break\n",
    "    #          else:\n",
    "    #             print('Account does not exist')\n",
    "    # def addDetails(self):\n",
    "    #     acc_no = int(input(\"Enter account number: \"))\n",
    "    #     for detail in self.details:\n",
    "    #         print(f\"New balance: {detail['Balance']}\")\n",
    "    #         break\n",
    "    #     else:\n",
    "    #         print(\"Account does not exist\")\n",
    "\n",
    "    # def deposit(self):\n",
    "    #     for detail in self.details:\n",
    "    #          if detail['AccountNumber:'] == acc_no:\n",
    "    #             amount = float(input(\"Enter amount to add: \"))\n",
    "    #             detail['Balance'] += amount\n",
    "    #          else:\n",
    "    #              print(\"Account does not exist\")\n",
    "\n",
    "    # def withdraw(self):\n",
    "    #     for detail in self.details:\n",
    "    #          if detail['AccountNumber:'] == acc_no:\n",
    "    #             amount = float(input(\"Enter amount to add: \"))\n",
    "    #             if amount<detail['Balance']:\n",
    "    #                 detail['Balance'] -= amount\n",
    "    #             else:\n",
    "    #                 print('Insufficient Funds')\n",
    "    #          else:\n",
    "    #              print(\"Account does not exist\")\n",
    "\n",
    "    def find_account(self, acc_no):\n",
    "        for detail in self.details:\n",
    "            if detail['AccountNumber:'] == acc_no:\n",
    "                return detail\n",
    "        return None\n",
    "\n",
    "    def createacc(self):\n",
    "        acc_no = int(input(\"Enter account number: \"))\n",
    "        if self.find_account(acc_no):\n",
    "            print(\"Account already exists.\")\n",
    "            return\n",
    "        name = input('Enter account holder name: ')\n",
    "        balance = 0\n",
    "        self.details.append({'AccountNumber:': acc_no, 'Name': name, 'Balance': balance})\n",
    "        print(\"Account created successfully.\")\n",
    "\n",
    "    def getDetails(self):\n",
    "        acc_no = int(input('Enter account number: '))\n",
    "        detail = self.find_account(acc_no)\n",
    "        if detail:\n",
    "            print(detail)\n",
    "        else:\n",
    "            print('Account does not exist')\n",
    "\n",
    "    def addDetails(self):\n",
    "        acc_no = int(input(\"Enter account number: \"))\n",
    "        detail = self.find_account(acc_no)\n",
    "        if detail:\n",
    "            print(f\"Current balance: {detail['Balance']}\")\n",
    "        else:\n",
    "            print(\"Account does not exist\")\n",
    "\n",
    "    def deposit(self):\n",
    "        acc_no = int(input(\"Enter account number: \"))\n",
    "        detail = self.find_account(acc_no)\n",
    "        if detail:\n",
    "            amount = float(input(\"Enter amount to deposit: \"))\n",
    "            if amount > 0:\n",
    "                detail['Balance'] += amount\n",
    "                print(f\"Deposited {amount}. New balance: {detail['Balance']}\")\n",
    "            else:\n",
    "                print(\"Invalid amount.\")\n",
    "        else:\n",
    "            print(\"Account does not exist\")\n",
    "\n",
    "    def withdraw(self):\n",
    "        acc_no = int(input(\"Enter account number: \"))\n",
    "        detail = self.find_account(acc_no)\n",
    "        if detail:\n",
    "            amount = float(input(\"Enter amount to withdraw: \"))\n",
    "            if 0 < amount <= detail['Balance']:\n",
    "                detail['Balance'] -= amount\n",
    "                print(f\"Withdrew {amount}. New balance: {detail['Balance']}\")\n",
    "            elif amount > detail['Balance']:\n",
    "                print('Insufficient Funds')\n",
    "            else:\n",
    "                print(\"Invalid amount.\")\n",
    "        else:\n",
    "            print(\"Account does not exist\")"
   ]
  },
  {
   "cell_type": "code",
   "execution_count": 18,
   "id": "fc5aef9f",
   "metadata": {},
   "outputs": [
    {
     "ename": "AttributeError",
     "evalue": "type object 'Bank' has no attribute 'b'",
     "output_type": "error",
     "traceback": [
      "\u001b[31m---------------------------------------------------------------------------\u001b[39m",
      "\u001b[31mAttributeError\u001b[39m                            Traceback (most recent call last)",
      "\u001b[36mCell\u001b[39m\u001b[36m \u001b[39m\u001b[32mIn[18]\u001b[39m\u001b[32m, line 1\u001b[39m\n\u001b[32m----> \u001b[39m\u001b[32m1\u001b[39m \u001b[38;5;28mprint\u001b[39m(\u001b[43mBank\u001b[49m\u001b[43m.\u001b[49m\u001b[43mb\u001b[49m.details)\n",
      "\u001b[31mAttributeError\u001b[39m: type object 'Bank' has no attribute 'b'"
     ]
    }
   ],
   "source": [
    "print(Bank.b.details)"
   ]
  },
  {
   "cell_type": "code",
   "execution_count": 16,
   "id": "8545ceec",
   "metadata": {},
   "outputs": [
    {
     "name": "stdout",
     "output_type": "stream",
     "text": [
      "Account does not exist\n"
     ]
    }
   ],
   "source": [
    "b = Bank()\n",
    "b.getDetails()"
   ]
  },
  {
   "cell_type": "code",
   "execution_count": 12,
   "id": "c53130f4",
   "metadata": {},
   "outputs": [
    {
     "name": "stdout",
     "output_type": "stream",
     "text": [
      "Account created successfully.\n"
     ]
    }
   ],
   "source": [
    "b.createacc()"
   ]
  },
  {
   "cell_type": "code",
   "execution_count": null,
   "id": "ff7eb7a3",
   "metadata": {},
   "outputs": [],
   "source": []
  },
  {
   "cell_type": "markdown",
   "id": "9e1cce5a",
   "metadata": {},
   "source": [
    "Inheritance"
   ]
  },
  {
   "cell_type": "code",
   "execution_count": 25,
   "id": "eb76a00f",
   "metadata": {},
   "outputs": [
    {
     "name": "stdout",
     "output_type": "stream",
     "text": [
      "Name Age RollNo\n",
      "Child Class 10 Sai\n"
     ]
    }
   ],
   "source": [
    "class Cse:\n",
    "    def print_details(self):\n",
    "        self.age=10\n",
    "        self.name='Sai'\n",
    "        print(\"Name Age RollNo\")\n",
    "class sec1(Cse):\n",
    "    def about(self):\n",
    "        print(\"Child Class\",self.age,self.name)\n",
    "\n",
    "a=sec1()\n",
    "a.print_details()\n",
    "a.about()"
   ]
  },
  {
   "cell_type": "code",
   "execution_count": 26,
   "id": "f8092536",
   "metadata": {},
   "outputs": [
    {
     "name": "stdout",
     "output_type": "stream",
     "text": [
      "Name Age RollNo\n",
      "Sport: Cricket\n",
      "Name: Sai | Age: 10 | Sport: Cricket\n"
     ]
    }
   ],
   "source": [
    "class Sports:\n",
    "    def sports_details(self):\n",
    "        self.sport = 'Cricket'\n",
    "        print(\"Sport:\", self.sport)\n",
    "\n",
    "class Student(Cse, Sports):\n",
    "    def show_all(self):\n",
    "        self.print_details()\n",
    "        self.sports_details()\n",
    "        print(\"Name:\", self.name, \"| Age:\", self.age, \"| Sport:\", self.sport)\n",
    "\n",
    "student = Student()\n",
    "student.show_all()"
   ]
  },
  {
   "cell_type": "markdown",
   "id": "7983ef3e",
   "metadata": {},
   "source": [
    "Encapsulated deatils can be accessed from within the class only"
   ]
  },
  {
   "cell_type": "code",
   "execution_count": 32,
   "id": "4814a0ba",
   "metadata": {},
   "outputs": [
    {
     "name": "stdout",
     "output_type": "stream",
     "text": [
      "Audi Aq\n",
      "Password\n",
      "Mark from usa\n"
     ]
    }
   ],
   "source": [
    "class Car:\n",
    "    def overall(self):\n",
    "        print('Audi Aq')\n",
    "        self.___password() #-->>protected\n",
    "        self.__details() #-->private\n",
    "    def __details(self):\n",
    "        print('Mark from usa')\n",
    "    def ___password(self):\n",
    "        print('Password')\n",
    "\n",
    "\n",
    "a=Car()\n",
    "a.overall()"
   ]
  },
  {
   "cell_type": "code",
   "execution_count": 33,
   "id": "ead64e1f",
   "metadata": {},
   "outputs": [],
   "source": [
    "class Students:\n",
    "    def __init__(self,age,name,rollno):\n",
    "        self.name=name\n",
    "        self.age=age\n",
    "        self.rollno=rollno\n",
    "\n",
    "    def sumof(self,m1,m2,m3):\n",
    "        print(self.name,self.rollno,m1+m2+m3)\n",
    "    \n",
    "a=Students(\"pavan\",12,22138062)"
   ]
  },
  {
   "cell_type": "code",
   "execution_count": 34,
   "id": "aa4c2ff6",
   "metadata": {},
   "outputs": [
    {
     "name": "stdout",
     "output_type": "stream",
     "text": [
      "12 22138062 240\n"
     ]
    }
   ],
   "source": [
    "a.sumof(90,80,70)"
   ]
  },
  {
   "cell_type": "markdown",
   "id": "04677bb5",
   "metadata": {},
   "source": [
    "Abstraction"
   ]
  },
  {
   "cell_type": "code",
   "execution_count": null,
   "id": "9fa56d73",
   "metadata": {},
   "outputs": [
    {
     "name": "stdout",
     "output_type": "stream",
     "text": [
      "Barking\n"
     ]
    }
   ],
   "source": [
    "from abc import ABC, abstractmethod\n",
    "\n",
    "class Animal(ABC):\n",
    "    def sound(self):\n",
    "        pass\n",
    "class Dog(Animal):\n",
    "    def sounds(slef):\n",
    "        return(\"Barking\")\n",
    "class Cat(Animal):\n",
    "    def sounds(self):\n",
    "        return('Meowing')\n",
    "a=Dog()\n",
    "print(a.sounds())\n",
    "\n"
   ]
  },
  {
   "cell_type": "code",
   "execution_count": 37,
   "id": "edcbb06c",
   "metadata": {},
   "outputs": [
    {
     "data": {
      "text/plain": [
       "0"
      ]
     },
     "execution_count": 37,
     "metadata": {},
     "output_type": "execute_result"
    }
   ],
   "source": [
    "33%33"
   ]
  },
  {
   "cell_type": "code",
   "execution_count": 46,
   "id": "c71e590a",
   "metadata": {},
   "outputs": [
    {
     "data": {
      "text/plain": [
       "0"
      ]
     },
     "execution_count": 46,
     "metadata": {},
     "output_type": "execute_result"
    }
   ],
   "source": [
    "5%5"
   ]
  },
  {
   "cell_type": "code",
   "execution_count": null,
   "id": "150c0d9c",
   "metadata": {},
   "outputs": [
    {
     "name": "stdout",
     "output_type": "stream",
     "text": [
      "[1, 2, 3, 4, 5, 6, 7, 8, 9]\n"
     ]
    }
   ],
   "source": [
    "a=10\n",
    "li=[]\n",
    "for i in range(1,a):\n",
    "    for i in range(1,i):\n",
    "        if i\n",
    "\n",
    "        li.append(i)\n",
    "print(li)\n"
   ]
  },
  {
   "cell_type": "code",
   "execution_count": null,
   "id": "7118d2d2",
   "metadata": {},
   "outputs": [
    {
     "name": "stdout",
     "output_type": "stream",
     "text": [
      "Prime numbers in li: []\n"
     ]
    }
   ],
   "source": [
    "# Find and print all prime numbers in the list 'li'\n",
    "def is_prime(n):\n",
    "    if n < 2:\n",
    "        return False\n",
    "    for j in range(2, int(n ** 0.5) + 1):\n",
    "        if n % j == 0:\n",
    "            return False\n",
    "    return True\n",
    "\n"
   ]
  },
  {
   "cell_type": "code",
   "execution_count": 48,
   "id": "6f4280de",
   "metadata": {},
   "outputs": [
    {
     "data": {
      "text/plain": [
       "7.0"
      ]
     },
     "execution_count": 48,
     "metadata": {},
     "output_type": "execute_result"
    }
   ],
   "source": [
    "7/1"
   ]
  },
  {
   "cell_type": "code",
   "execution_count": 49,
   "id": "fd2bc2ea",
   "metadata": {},
   "outputs": [
    {
     "data": {
      "text/plain": [
       "0"
      ]
     },
     "execution_count": 49,
     "metadata": {},
     "output_type": "execute_result"
    }
   ],
   "source": [
    "7%1"
   ]
  },
  {
   "cell_type": "code",
   "execution_count": 50,
   "id": "76351150",
   "metadata": {},
   "outputs": [
    {
     "data": {
      "text/plain": [
       "1"
      ]
     },
     "execution_count": 50,
     "metadata": {},
     "output_type": "execute_result"
    }
   ],
   "source": [
    "7%2"
   ]
  },
  {
   "cell_type": "code",
   "execution_count": null,
   "id": "21ecfdc5",
   "metadata": {},
   "outputs": [],
   "source": [
    "33"
   ]
  }
 ],
 "metadata": {
  "kernelspec": {
   "display_name": "venv",
   "language": "python",
   "name": "python3"
  },
  "language_info": {
   "codemirror_mode": {
    "name": "ipython",
    "version": 3
   },
   "file_extension": ".py",
   "mimetype": "text/x-python",
   "name": "python",
   "nbconvert_exporter": "python",
   "pygments_lexer": "ipython3",
   "version": "3.13.5"
  }
 },
 "nbformat": 4,
 "nbformat_minor": 5
}
